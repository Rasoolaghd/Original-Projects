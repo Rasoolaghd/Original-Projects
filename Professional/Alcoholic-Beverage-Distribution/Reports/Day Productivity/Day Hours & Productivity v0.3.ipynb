{
 "cells": [
  {
   "cell_type": "code",
   "execution_count": 1,
   "metadata": {
    "hideCode": true,
    "hideOutput": true,
    "hidePrompt": true
   },
   "outputs": [],
   "source": [
    "import pandas as pd\n",
    "import numpy as np\n",
    "import os\n",
    "import string\n",
    "import glob\n",
    "\n",
    "pd.set_option('max_columns', 300)\n",
    "pd.set_option('max_rows', 500)"
   ]
  },
  {
   "cell_type": "markdown",
   "metadata": {},
   "source": [
    "# Day Hours & Productivity\n",
    "\n",
    "Semi-structured Excel files are automatically emailed to `paul.washburn@majorbrands.com` on the 15th and last day of each month.  The data contains all hours for each worker in the warehouse.\n",
    "\n",
    "**Note:  Negative records are filtered out of the data as they were not associated with valid `employee_id`s.  These records are few in number, but this must be understood from a high-level.**"
   ]
  },
  {
   "cell_type": "markdown",
   "metadata": {},
   "source": [
    "## About the Data\n",
    "\n",
    "The data for this report is sourced from the following:\n",
    "\n",
    "- Summary data from ADP is emailed from HR bi-monthly (1st and 15th) to summarize all operations hours \n",
    "- A Roster is merged in to match managers and thus warehouse information\n",
    "- In future, aggregated MTC1 data will be merged into this report to enable CPMH values \n",
    "\n",
    "Names are dropped from all data sets to protect employee privacy.  "
   ]
  },
  {
   "cell_type": "code",
   "execution_count": 2,
   "metadata": {
    "hideCode": true,
    "scrolled": false
   },
   "outputs": [],
   "source": [
    "from datetime import datetime as dt\n",
    "\n",
    "base_dir = 'C:/users/pmwash/Desktop/Re-Engineered Reports/Day Hours/'\n",
    "\n",
    "def drop_unnecessary_characters(str_list):\n",
    "    str_list = [str(s).lower().replace(' ', '_') for s in str_list]\n",
    "    str_list = [str(s).lower().replace('-_', '') for s in str_list]\n",
    "    return str_list\n",
    "\n",
    "def replace_unnamed_and_nans(col_list):\n",
    "    new_col_list = list()\n",
    "    for col in col_list:\n",
    "        col = str(col)\n",
    "        if '|nan' in col:\n",
    "            newcol = col.replace('|nan', '')\n",
    "            new_col_list.append(newcol)\n",
    "        elif 'unnamed:_' in col:\n",
    "            newcol = col.replace('unnamed:_', col_group)\n",
    "            newcol = ''.join(c for c in newcol if not c.isdigit())\n",
    "            new_col_list.append(newcol)\n",
    "        else:\n",
    "            new_col_list.append(col)\n",
    "            col_group = col.split('|')[0]\n",
    "    return new_col_list\n",
    "\n",
    "def adjust_roster_id(roster_emp_id):\n",
    "    fixed_id = [str(s)[:3] + str(s)[4:] for s in roster_emp_id]\n",
    "    return fixed_id\n",
    "\n",
    "def preprocess_hr_data(file_path):\n",
    "    '''\n",
    "    Accepts path to the export from ADP from HR which is emailed\n",
    "    twice per month\n",
    "    '''\n",
    "    df = pd.read_csv(file_path, skiprows=8)\n",
    "    \n",
    "    # clean up column names\n",
    "    df.loc[0] = col_specifier = drop_unnecessary_characters(df.loc[0])\n",
    "    df.columns = drop_unnecessary_characters(df.columns)\n",
    "    col_list = [a +'|'+ b for a,b in zip(df.columns, col_specifier)]\n",
    "    df.columns = replace_unnamed_and_nans(col_list)\n",
    "    df.drop(index=0, inplace=True)\n",
    "    \n",
    "    # set data types to numeric after removing miscellaneous symbols\n",
    "    non_numeric_cols = ['labor_level_selected', 'employee_id', 'employee_name']\n",
    "    numeric_cols = [col for col in df.columns if col not in non_numeric_cols]\n",
    "    for col in numeric_cols:\n",
    "        df[col] = df[col].str.replace('$', '')\n",
    "        df[col] = df[col].str.replace(',', '')\n",
    "        df[col] = df[col].str.replace('(', '-')\n",
    "        df[col] = df[col].str.replace(')', '')\n",
    "        df[col] = df[col].astype(np.float32)\n",
    "        \n",
    "    # capture date from the file name\n",
    "    dat = file_path.split('Worked ')[1]\n",
    "    df['starting_date'] = dt.strptime(dat.split(' - ')[0], '%m%d%Y')\n",
    "    \n",
    "    # set indices\n",
    "    non_numeric_cols = ['starting_date'] + non_numeric_cols\n",
    "    df.set_index(non_numeric_cols, inplace=True)\n",
    "    df.index = df.index.droplevel('employee_name') #drop names for privacy\n",
    "    \n",
    "    # map in semantics for labor level\n",
    "    labor_level_dict = {'/50/5220////' : 'Shipping Repacking',\n",
    "                        '/50/6502////' : 'Shipping Wages',\n",
    "                        '/50/6513////' : 'Shipping Casual', \n",
    "                        '/70/5220////' : 'Warehouse Repacking',\n",
    "                        '/70/7202////' : 'Warehouse Wages',\n",
    "                        '/70/7214////' : 'Warehouse Casual',\n",
    "                        '/70/7201////' : 'Warehouse Management'}\n",
    "    df['labor_level'] = df.index.get_level_values('labor_level_selected')\n",
    "    df.labor_level = df.labor_level.map(labor_level_dict)\n",
    "    df['month'] = dat_ix = df.index.get_level_values('starting_date')\n",
    "    df.month = df.month.apply(lambda d: format(d, '%b'))\n",
    "    df['pay_period'] = ['01' if str(d).split('-')[-1].split(' ')[0]=='01' else '02' for d in dat_ix]\n",
    "    df['month_period'] = df.month.astype(str) + '_' + df.pay_period.astype(str)\n",
    "    \n",
    "    df.reset_index(inplace=True)\n",
    "    df['employee_id'] = df['employee_id'].astype(str)\n",
    "    df['employee_id'] = df['employee_id'].str.replace(' ', '').str.upper()\n",
    "    df['employee_id'] = adjust_roster_id(df['employee_id'])\n",
    "    \n",
    "    df = df.loc[df['total|wages'] > 0]\n",
    "    df['night_crew'] = df['labor_level'].apply(lambda s: 'Shipping' in str(s))\n",
    "    \n",
    "    return df\n",
    "\n",
    "file_list = glob.glob(base_dir + '*.csv')\n",
    "ops_hours_df = pd.DataFrame()\n",
    "for file in file_list:\n",
    "    ops_hours_df = ops_hours_df.append(preprocess_hr_data(file))"
   ]
  },
  {
   "cell_type": "markdown",
   "metadata": {},
   "source": [
    "## Processed Dataset\n",
    "\n",
    "Below are the first five rows of the dataset for your reference.  "
   ]
  },
  {
   "cell_type": "code",
   "execution_count": 15,
   "metadata": {
    "hideCode": true,
    "hidePrompt": false,
    "scrolled": false
   },
   "outputs": [
    {
     "data": {
      "text/html": [
       "<div>\n",
       "<style scoped>\n",
       "    .dataframe tbody tr th:only-of-type {\n",
       "        vertical-align: middle;\n",
       "    }\n",
       "\n",
       "    .dataframe tbody tr th {\n",
       "        vertical-align: top;\n",
       "    }\n",
       "\n",
       "    .dataframe thead th {\n",
       "        text-align: right;\n",
       "    }\n",
       "</style>\n",
       "<table border=\"1\" class=\"dataframe\">\n",
       "  <thead>\n",
       "    <tr style=\"text-align: right;\">\n",
       "      <th></th>\n",
       "      <th></th>\n",
       "      <th></th>\n",
       "      <th></th>\n",
       "      <th>absence_no_pay|days</th>\n",
       "      <th>absence_no_pay|hours</th>\n",
       "      <th>absence_no_pay|money</th>\n",
       "      <th>absence_no_pay|wages</th>\n",
       "      <th>birthday|days</th>\n",
       "      <th>birthday|hours</th>\n",
       "      <th>birthday|money</th>\n",
       "      <th>birthday|wages</th>\n",
       "      <th>doubletime|days</th>\n",
       "      <th>doubletime|hours</th>\n",
       "      <th>doubletime|money</th>\n",
       "      <th>doubletime|wages</th>\n",
       "      <th>kc_personal_day|days</th>\n",
       "      <th>kc_personal_day|hours</th>\n",
       "      <th>kc_personal_day|money</th>\n",
       "      <th>kc_personal_day|wages</th>\n",
       "      <th>kc_sick|days</th>\n",
       "      <th>kc_sick|hours</th>\n",
       "      <th>kc_sick|money</th>\n",
       "      <th>kc_sick|wages</th>\n",
       "      <th>labor_level</th>\n",
       "      <th>labor_level_selected</th>\n",
       "      <th>month</th>\n",
       "      <th>night_crew</th>\n",
       "      <th>no_pay_hours|days</th>\n",
       "      <th>no_pay_hours|hours</th>\n",
       "      <th>no_pay_hours|money</th>\n",
       "      <th>no_pay_hours|wages</th>\n",
       "      <th>overtime|days</th>\n",
       "      <th>overtime|hours</th>\n",
       "      <th>overtime|money</th>\n",
       "      <th>overtime|wages</th>\n",
       "      <th>pay_period</th>\n",
       "      <th>personal_day|days</th>\n",
       "      <th>personal_day|hours</th>\n",
       "      <th>personal_day|money</th>\n",
       "      <th>personal_day|wages</th>\n",
       "      <th>pto|days</th>\n",
       "      <th>pto|hours</th>\n",
       "      <th>pto|money</th>\n",
       "      <th>pto|wages</th>\n",
       "      <th>regular|days</th>\n",
       "      <th>regular|hours</th>\n",
       "      <th>regular|money</th>\n",
       "      <th>regular|wages</th>\n",
       "      <th>starting_date</th>\n",
       "      <th>total|days</th>\n",
       "      <th>total|hours</th>\n",
       "      <th>total|money</th>\n",
       "      <th>total|wages</th>\n",
       "      <th>unnamed:_10</th>\n",
       "      <th>vacation|days</th>\n",
       "      <th>vacation|hours</th>\n",
       "      <th>vacation|money</th>\n",
       "      <th>vacation|wages</th>\n",
       "      <th>position_status</th>\n",
       "      <th>home_department_code</th>\n",
       "      <th>job_title_description</th>\n",
       "    </tr>\n",
       "    <tr>\n",
       "      <th>warehouse</th>\n",
       "      <th>reports_to_name</th>\n",
       "      <th>employee_id</th>\n",
       "      <th>month_period</th>\n",
       "      <th></th>\n",
       "      <th></th>\n",
       "      <th></th>\n",
       "      <th></th>\n",
       "      <th></th>\n",
       "      <th></th>\n",
       "      <th></th>\n",
       "      <th></th>\n",
       "      <th></th>\n",
       "      <th></th>\n",
       "      <th></th>\n",
       "      <th></th>\n",
       "      <th></th>\n",
       "      <th></th>\n",
       "      <th></th>\n",
       "      <th></th>\n",
       "      <th></th>\n",
       "      <th></th>\n",
       "      <th></th>\n",
       "      <th></th>\n",
       "      <th></th>\n",
       "      <th></th>\n",
       "      <th></th>\n",
       "      <th></th>\n",
       "      <th></th>\n",
       "      <th></th>\n",
       "      <th></th>\n",
       "      <th></th>\n",
       "      <th></th>\n",
       "      <th></th>\n",
       "      <th></th>\n",
       "      <th></th>\n",
       "      <th></th>\n",
       "      <th></th>\n",
       "      <th></th>\n",
       "      <th></th>\n",
       "      <th></th>\n",
       "      <th></th>\n",
       "      <th></th>\n",
       "      <th></th>\n",
       "      <th></th>\n",
       "      <th></th>\n",
       "      <th></th>\n",
       "      <th></th>\n",
       "      <th></th>\n",
       "      <th></th>\n",
       "      <th></th>\n",
       "      <th></th>\n",
       "      <th></th>\n",
       "      <th></th>\n",
       "      <th></th>\n",
       "      <th></th>\n",
       "      <th></th>\n",
       "      <th></th>\n",
       "      <th></th>\n",
       "      <th></th>\n",
       "      <th></th>\n",
       "      <th></th>\n",
       "    </tr>\n",
       "  </thead>\n",
       "  <tbody>\n",
       "    <tr>\n",
       "      <th rowspan=\"5\" valign=\"top\">STL</th>\n",
       "      <th rowspan=\"5\" valign=\"top\">Manning, Travis</th>\n",
       "      <th>3FT002657</th>\n",
       "      <th>Feb_01</th>\n",
       "      <td>0.0</td>\n",
       "      <td>0.0</td>\n",
       "      <td>0.0</td>\n",
       "      <td>0.0</td>\n",
       "      <td>NaN</td>\n",
       "      <td>NaN</td>\n",
       "      <td>NaN</td>\n",
       "      <td>NaN</td>\n",
       "      <td>0.0</td>\n",
       "      <td>0.0</td>\n",
       "      <td>0.0</td>\n",
       "      <td>0.0</td>\n",
       "      <td>0.0</td>\n",
       "      <td>0.0</td>\n",
       "      <td>0.0</td>\n",
       "      <td>0.0</td>\n",
       "      <td>0.0</td>\n",
       "      <td>0.0</td>\n",
       "      <td>0.0</td>\n",
       "      <td>0.0</td>\n",
       "      <td>Shipping Repacking</td>\n",
       "      <td>/50/5220////</td>\n",
       "      <td>Feb</td>\n",
       "      <td>True</td>\n",
       "      <td>0.0</td>\n",
       "      <td>0.0</td>\n",
       "      <td>0.0</td>\n",
       "      <td>0.0</td>\n",
       "      <td>0.0</td>\n",
       "      <td>0.0</td>\n",
       "      <td>0.0</td>\n",
       "      <td>0.0</td>\n",
       "      <td>01</td>\n",
       "      <td>0.0</td>\n",
       "      <td>0.0</td>\n",
       "      <td>0.0</td>\n",
       "      <td>0.0</td>\n",
       "      <td>0.0</td>\n",
       "      <td>0.0</td>\n",
       "      <td>0.0</td>\n",
       "      <td>0.0</td>\n",
       "      <td>0.0</td>\n",
       "      <td>4.38</td>\n",
       "      <td>0.0</td>\n",
       "      <td>78.330002</td>\n",
       "      <td>2018-02-01</td>\n",
       "      <td>0.0</td>\n",
       "      <td>4.38</td>\n",
       "      <td>0.0</td>\n",
       "      <td>78.330002</td>\n",
       "      <td>NaN</td>\n",
       "      <td>0.0</td>\n",
       "      <td>0.0</td>\n",
       "      <td>0.0</td>\n",
       "      <td>0.0</td>\n",
       "      <td>Active</td>\n",
       "      <td>506513.0</td>\n",
       "      <td>Shipping Casual</td>\n",
       "    </tr>\n",
       "    <tr>\n",
       "      <th>3FT003097</th>\n",
       "      <th>Feb_01</th>\n",
       "      <td>0.0</td>\n",
       "      <td>0.0</td>\n",
       "      <td>0.0</td>\n",
       "      <td>0.0</td>\n",
       "      <td>NaN</td>\n",
       "      <td>NaN</td>\n",
       "      <td>NaN</td>\n",
       "      <td>NaN</td>\n",
       "      <td>0.0</td>\n",
       "      <td>0.0</td>\n",
       "      <td>0.0</td>\n",
       "      <td>0.0</td>\n",
       "      <td>0.0</td>\n",
       "      <td>0.0</td>\n",
       "      <td>0.0</td>\n",
       "      <td>0.0</td>\n",
       "      <td>0.0</td>\n",
       "      <td>0.0</td>\n",
       "      <td>0.0</td>\n",
       "      <td>0.0</td>\n",
       "      <td>Shipping Repacking</td>\n",
       "      <td>/50/5220////</td>\n",
       "      <td>Feb</td>\n",
       "      <td>True</td>\n",
       "      <td>0.0</td>\n",
       "      <td>0.0</td>\n",
       "      <td>0.0</td>\n",
       "      <td>0.0</td>\n",
       "      <td>0.0</td>\n",
       "      <td>0.0</td>\n",
       "      <td>0.0</td>\n",
       "      <td>0.0</td>\n",
       "      <td>01</td>\n",
       "      <td>0.0</td>\n",
       "      <td>0.0</td>\n",
       "      <td>0.0</td>\n",
       "      <td>0.0</td>\n",
       "      <td>0.0</td>\n",
       "      <td>0.0</td>\n",
       "      <td>0.0</td>\n",
       "      <td>0.0</td>\n",
       "      <td>0.0</td>\n",
       "      <td>2.27</td>\n",
       "      <td>0.0</td>\n",
       "      <td>42.209999</td>\n",
       "      <td>2018-02-01</td>\n",
       "      <td>0.0</td>\n",
       "      <td>2.27</td>\n",
       "      <td>0.0</td>\n",
       "      <td>42.209999</td>\n",
       "      <td>NaN</td>\n",
       "      <td>0.0</td>\n",
       "      <td>0.0</td>\n",
       "      <td>0.0</td>\n",
       "      <td>0.0</td>\n",
       "      <td>Active</td>\n",
       "      <td>506513.0</td>\n",
       "      <td>Shipping Casual</td>\n",
       "    </tr>\n",
       "    <tr>\n",
       "      <th>3FT002821</th>\n",
       "      <th>Feb_01</th>\n",
       "      <td>0.0</td>\n",
       "      <td>0.0</td>\n",
       "      <td>0.0</td>\n",
       "      <td>0.0</td>\n",
       "      <td>NaN</td>\n",
       "      <td>NaN</td>\n",
       "      <td>NaN</td>\n",
       "      <td>NaN</td>\n",
       "      <td>0.0</td>\n",
       "      <td>0.0</td>\n",
       "      <td>0.0</td>\n",
       "      <td>0.0</td>\n",
       "      <td>0.0</td>\n",
       "      <td>0.0</td>\n",
       "      <td>0.0</td>\n",
       "      <td>0.0</td>\n",
       "      <td>0.0</td>\n",
       "      <td>0.0</td>\n",
       "      <td>0.0</td>\n",
       "      <td>0.0</td>\n",
       "      <td>Shipping Repacking</td>\n",
       "      <td>/50/5220////</td>\n",
       "      <td>Feb</td>\n",
       "      <td>True</td>\n",
       "      <td>0.0</td>\n",
       "      <td>0.0</td>\n",
       "      <td>0.0</td>\n",
       "      <td>0.0</td>\n",
       "      <td>0.0</td>\n",
       "      <td>0.0</td>\n",
       "      <td>0.0</td>\n",
       "      <td>0.0</td>\n",
       "      <td>01</td>\n",
       "      <td>0.0</td>\n",
       "      <td>0.0</td>\n",
       "      <td>0.0</td>\n",
       "      <td>0.0</td>\n",
       "      <td>0.0</td>\n",
       "      <td>0.0</td>\n",
       "      <td>0.0</td>\n",
       "      <td>0.0</td>\n",
       "      <td>0.0</td>\n",
       "      <td>2.88</td>\n",
       "      <td>0.0</td>\n",
       "      <td>59.450001</td>\n",
       "      <td>2018-02-01</td>\n",
       "      <td>0.0</td>\n",
       "      <td>2.88</td>\n",
       "      <td>0.0</td>\n",
       "      <td>59.450001</td>\n",
       "      <td>NaN</td>\n",
       "      <td>0.0</td>\n",
       "      <td>0.0</td>\n",
       "      <td>0.0</td>\n",
       "      <td>0.0</td>\n",
       "      <td>Active</td>\n",
       "      <td>506513.0</td>\n",
       "      <td>Shipping Casual</td>\n",
       "    </tr>\n",
       "    <tr>\n",
       "      <th>3FT002844</th>\n",
       "      <th>Feb_01</th>\n",
       "      <td>0.0</td>\n",
       "      <td>0.0</td>\n",
       "      <td>0.0</td>\n",
       "      <td>0.0</td>\n",
       "      <td>NaN</td>\n",
       "      <td>NaN</td>\n",
       "      <td>NaN</td>\n",
       "      <td>NaN</td>\n",
       "      <td>0.0</td>\n",
       "      <td>0.0</td>\n",
       "      <td>0.0</td>\n",
       "      <td>0.0</td>\n",
       "      <td>0.0</td>\n",
       "      <td>0.0</td>\n",
       "      <td>0.0</td>\n",
       "      <td>0.0</td>\n",
       "      <td>0.0</td>\n",
       "      <td>0.0</td>\n",
       "      <td>0.0</td>\n",
       "      <td>0.0</td>\n",
       "      <td>Shipping Repacking</td>\n",
       "      <td>/50/5220////</td>\n",
       "      <td>Feb</td>\n",
       "      <td>True</td>\n",
       "      <td>0.0</td>\n",
       "      <td>0.0</td>\n",
       "      <td>0.0</td>\n",
       "      <td>0.0</td>\n",
       "      <td>0.0</td>\n",
       "      <td>0.0</td>\n",
       "      <td>0.0</td>\n",
       "      <td>0.0</td>\n",
       "      <td>01</td>\n",
       "      <td>0.0</td>\n",
       "      <td>0.0</td>\n",
       "      <td>0.0</td>\n",
       "      <td>0.0</td>\n",
       "      <td>0.0</td>\n",
       "      <td>0.0</td>\n",
       "      <td>0.0</td>\n",
       "      <td>0.0</td>\n",
       "      <td>0.0</td>\n",
       "      <td>4.47</td>\n",
       "      <td>0.0</td>\n",
       "      <td>92.099998</td>\n",
       "      <td>2018-02-01</td>\n",
       "      <td>0.0</td>\n",
       "      <td>4.47</td>\n",
       "      <td>0.0</td>\n",
       "      <td>92.099998</td>\n",
       "      <td>NaN</td>\n",
       "      <td>0.0</td>\n",
       "      <td>0.0</td>\n",
       "      <td>0.0</td>\n",
       "      <td>0.0</td>\n",
       "      <td>Active</td>\n",
       "      <td>506513.0</td>\n",
       "      <td>Shipping Casual</td>\n",
       "    </tr>\n",
       "    <tr>\n",
       "      <th>3FT002970</th>\n",
       "      <th>Feb_01</th>\n",
       "      <td>0.0</td>\n",
       "      <td>0.0</td>\n",
       "      <td>0.0</td>\n",
       "      <td>0.0</td>\n",
       "      <td>NaN</td>\n",
       "      <td>NaN</td>\n",
       "      <td>NaN</td>\n",
       "      <td>NaN</td>\n",
       "      <td>0.0</td>\n",
       "      <td>0.0</td>\n",
       "      <td>0.0</td>\n",
       "      <td>0.0</td>\n",
       "      <td>0.0</td>\n",
       "      <td>0.0</td>\n",
       "      <td>0.0</td>\n",
       "      <td>0.0</td>\n",
       "      <td>0.0</td>\n",
       "      <td>0.0</td>\n",
       "      <td>0.0</td>\n",
       "      <td>0.0</td>\n",
       "      <td>Shipping Repacking</td>\n",
       "      <td>/50/5220////</td>\n",
       "      <td>Feb</td>\n",
       "      <td>True</td>\n",
       "      <td>0.0</td>\n",
       "      <td>0.0</td>\n",
       "      <td>0.0</td>\n",
       "      <td>0.0</td>\n",
       "      <td>0.0</td>\n",
       "      <td>0.0</td>\n",
       "      <td>0.0</td>\n",
       "      <td>0.0</td>\n",
       "      <td>01</td>\n",
       "      <td>0.0</td>\n",
       "      <td>0.0</td>\n",
       "      <td>0.0</td>\n",
       "      <td>0.0</td>\n",
       "      <td>0.0</td>\n",
       "      <td>0.0</td>\n",
       "      <td>0.0</td>\n",
       "      <td>0.0</td>\n",
       "      <td>0.0</td>\n",
       "      <td>5.71</td>\n",
       "      <td>0.0</td>\n",
       "      <td>113.260002</td>\n",
       "      <td>2018-02-01</td>\n",
       "      <td>0.0</td>\n",
       "      <td>5.71</td>\n",
       "      <td>0.0</td>\n",
       "      <td>113.260002</td>\n",
       "      <td>NaN</td>\n",
       "      <td>0.0</td>\n",
       "      <td>0.0</td>\n",
       "      <td>0.0</td>\n",
       "      <td>0.0</td>\n",
       "      <td>Active</td>\n",
       "      <td>506513.0</td>\n",
       "      <td>Shipping Casual</td>\n",
       "    </tr>\n",
       "  </tbody>\n",
       "</table>\n",
       "</div>"
      ],
      "text/plain": [
       "                                                    absence_no_pay|days  \\\n",
       "warehouse reports_to_name employee_id month_period                        \n",
       "STL       Manning, Travis 3FT002657   Feb_01                        0.0   \n",
       "                          3FT003097   Feb_01                        0.0   \n",
       "                          3FT002821   Feb_01                        0.0   \n",
       "                          3FT002844   Feb_01                        0.0   \n",
       "                          3FT002970   Feb_01                        0.0   \n",
       "\n",
       "                                                    absence_no_pay|hours  \\\n",
       "warehouse reports_to_name employee_id month_period                         \n",
       "STL       Manning, Travis 3FT002657   Feb_01                         0.0   \n",
       "                          3FT003097   Feb_01                         0.0   \n",
       "                          3FT002821   Feb_01                         0.0   \n",
       "                          3FT002844   Feb_01                         0.0   \n",
       "                          3FT002970   Feb_01                         0.0   \n",
       "\n",
       "                                                    absence_no_pay|money  \\\n",
       "warehouse reports_to_name employee_id month_period                         \n",
       "STL       Manning, Travis 3FT002657   Feb_01                         0.0   \n",
       "                          3FT003097   Feb_01                         0.0   \n",
       "                          3FT002821   Feb_01                         0.0   \n",
       "                          3FT002844   Feb_01                         0.0   \n",
       "                          3FT002970   Feb_01                         0.0   \n",
       "\n",
       "                                                    absence_no_pay|wages  \\\n",
       "warehouse reports_to_name employee_id month_period                         \n",
       "STL       Manning, Travis 3FT002657   Feb_01                         0.0   \n",
       "                          3FT003097   Feb_01                         0.0   \n",
       "                          3FT002821   Feb_01                         0.0   \n",
       "                          3FT002844   Feb_01                         0.0   \n",
       "                          3FT002970   Feb_01                         0.0   \n",
       "\n",
       "                                                    birthday|days  \\\n",
       "warehouse reports_to_name employee_id month_period                  \n",
       "STL       Manning, Travis 3FT002657   Feb_01                  NaN   \n",
       "                          3FT003097   Feb_01                  NaN   \n",
       "                          3FT002821   Feb_01                  NaN   \n",
       "                          3FT002844   Feb_01                  NaN   \n",
       "                          3FT002970   Feb_01                  NaN   \n",
       "\n",
       "                                                    birthday|hours  \\\n",
       "warehouse reports_to_name employee_id month_period                   \n",
       "STL       Manning, Travis 3FT002657   Feb_01                   NaN   \n",
       "                          3FT003097   Feb_01                   NaN   \n",
       "                          3FT002821   Feb_01                   NaN   \n",
       "                          3FT002844   Feb_01                   NaN   \n",
       "                          3FT002970   Feb_01                   NaN   \n",
       "\n",
       "                                                    birthday|money  \\\n",
       "warehouse reports_to_name employee_id month_period                   \n",
       "STL       Manning, Travis 3FT002657   Feb_01                   NaN   \n",
       "                          3FT003097   Feb_01                   NaN   \n",
       "                          3FT002821   Feb_01                   NaN   \n",
       "                          3FT002844   Feb_01                   NaN   \n",
       "                          3FT002970   Feb_01                   NaN   \n",
       "\n",
       "                                                    birthday|wages  \\\n",
       "warehouse reports_to_name employee_id month_period                   \n",
       "STL       Manning, Travis 3FT002657   Feb_01                   NaN   \n",
       "                          3FT003097   Feb_01                   NaN   \n",
       "                          3FT002821   Feb_01                   NaN   \n",
       "                          3FT002844   Feb_01                   NaN   \n",
       "                          3FT002970   Feb_01                   NaN   \n",
       "\n",
       "                                                    doubletime|days  \\\n",
       "warehouse reports_to_name employee_id month_period                    \n",
       "STL       Manning, Travis 3FT002657   Feb_01                    0.0   \n",
       "                          3FT003097   Feb_01                    0.0   \n",
       "                          3FT002821   Feb_01                    0.0   \n",
       "                          3FT002844   Feb_01                    0.0   \n",
       "                          3FT002970   Feb_01                    0.0   \n",
       "\n",
       "                                                    doubletime|hours  \\\n",
       "warehouse reports_to_name employee_id month_period                     \n",
       "STL       Manning, Travis 3FT002657   Feb_01                     0.0   \n",
       "                          3FT003097   Feb_01                     0.0   \n",
       "                          3FT002821   Feb_01                     0.0   \n",
       "                          3FT002844   Feb_01                     0.0   \n",
       "                          3FT002970   Feb_01                     0.0   \n",
       "\n",
       "                                                    doubletime|money  \\\n",
       "warehouse reports_to_name employee_id month_period                     \n",
       "STL       Manning, Travis 3FT002657   Feb_01                     0.0   \n",
       "                          3FT003097   Feb_01                     0.0   \n",
       "                          3FT002821   Feb_01                     0.0   \n",
       "                          3FT002844   Feb_01                     0.0   \n",
       "                          3FT002970   Feb_01                     0.0   \n",
       "\n",
       "                                                    doubletime|wages  \\\n",
       "warehouse reports_to_name employee_id month_period                     \n",
       "STL       Manning, Travis 3FT002657   Feb_01                     0.0   \n",
       "                          3FT003097   Feb_01                     0.0   \n",
       "                          3FT002821   Feb_01                     0.0   \n",
       "                          3FT002844   Feb_01                     0.0   \n",
       "                          3FT002970   Feb_01                     0.0   \n",
       "\n",
       "                                                    kc_personal_day|days  \\\n",
       "warehouse reports_to_name employee_id month_period                         \n",
       "STL       Manning, Travis 3FT002657   Feb_01                         0.0   \n",
       "                          3FT003097   Feb_01                         0.0   \n",
       "                          3FT002821   Feb_01                         0.0   \n",
       "                          3FT002844   Feb_01                         0.0   \n",
       "                          3FT002970   Feb_01                         0.0   \n",
       "\n",
       "                                                    kc_personal_day|hours  \\\n",
       "warehouse reports_to_name employee_id month_period                          \n",
       "STL       Manning, Travis 3FT002657   Feb_01                          0.0   \n",
       "                          3FT003097   Feb_01                          0.0   \n",
       "                          3FT002821   Feb_01                          0.0   \n",
       "                          3FT002844   Feb_01                          0.0   \n",
       "                          3FT002970   Feb_01                          0.0   \n",
       "\n",
       "                                                    kc_personal_day|money  \\\n",
       "warehouse reports_to_name employee_id month_period                          \n",
       "STL       Manning, Travis 3FT002657   Feb_01                          0.0   \n",
       "                          3FT003097   Feb_01                          0.0   \n",
       "                          3FT002821   Feb_01                          0.0   \n",
       "                          3FT002844   Feb_01                          0.0   \n",
       "                          3FT002970   Feb_01                          0.0   \n",
       "\n",
       "                                                    kc_personal_day|wages  \\\n",
       "warehouse reports_to_name employee_id month_period                          \n",
       "STL       Manning, Travis 3FT002657   Feb_01                          0.0   \n",
       "                          3FT003097   Feb_01                          0.0   \n",
       "                          3FT002821   Feb_01                          0.0   \n",
       "                          3FT002844   Feb_01                          0.0   \n",
       "                          3FT002970   Feb_01                          0.0   \n",
       "\n",
       "                                                    kc_sick|days  \\\n",
       "warehouse reports_to_name employee_id month_period                 \n",
       "STL       Manning, Travis 3FT002657   Feb_01                 0.0   \n",
       "                          3FT003097   Feb_01                 0.0   \n",
       "                          3FT002821   Feb_01                 0.0   \n",
       "                          3FT002844   Feb_01                 0.0   \n",
       "                          3FT002970   Feb_01                 0.0   \n",
       "\n",
       "                                                    kc_sick|hours  \\\n",
       "warehouse reports_to_name employee_id month_period                  \n",
       "STL       Manning, Travis 3FT002657   Feb_01                  0.0   \n",
       "                          3FT003097   Feb_01                  0.0   \n",
       "                          3FT002821   Feb_01                  0.0   \n",
       "                          3FT002844   Feb_01                  0.0   \n",
       "                          3FT002970   Feb_01                  0.0   \n",
       "\n",
       "                                                    kc_sick|money  \\\n",
       "warehouse reports_to_name employee_id month_period                  \n",
       "STL       Manning, Travis 3FT002657   Feb_01                  0.0   \n",
       "                          3FT003097   Feb_01                  0.0   \n",
       "                          3FT002821   Feb_01                  0.0   \n",
       "                          3FT002844   Feb_01                  0.0   \n",
       "                          3FT002970   Feb_01                  0.0   \n",
       "\n",
       "                                                    kc_sick|wages  \\\n",
       "warehouse reports_to_name employee_id month_period                  \n",
       "STL       Manning, Travis 3FT002657   Feb_01                  0.0   \n",
       "                          3FT003097   Feb_01                  0.0   \n",
       "                          3FT002821   Feb_01                  0.0   \n",
       "                          3FT002844   Feb_01                  0.0   \n",
       "                          3FT002970   Feb_01                  0.0   \n",
       "\n",
       "                                                           labor_level  \\\n",
       "warehouse reports_to_name employee_id month_period                       \n",
       "STL       Manning, Travis 3FT002657   Feb_01        Shipping Repacking   \n",
       "                          3FT003097   Feb_01        Shipping Repacking   \n",
       "                          3FT002821   Feb_01        Shipping Repacking   \n",
       "                          3FT002844   Feb_01        Shipping Repacking   \n",
       "                          3FT002970   Feb_01        Shipping Repacking   \n",
       "\n",
       "                                                   labor_level_selected month  \\\n",
       "warehouse reports_to_name employee_id month_period                              \n",
       "STL       Manning, Travis 3FT002657   Feb_01               /50/5220////   Feb   \n",
       "                          3FT003097   Feb_01               /50/5220////   Feb   \n",
       "                          3FT002821   Feb_01               /50/5220////   Feb   \n",
       "                          3FT002844   Feb_01               /50/5220////   Feb   \n",
       "                          3FT002970   Feb_01               /50/5220////   Feb   \n",
       "\n",
       "                                                    night_crew  \\\n",
       "warehouse reports_to_name employee_id month_period               \n",
       "STL       Manning, Travis 3FT002657   Feb_01              True   \n",
       "                          3FT003097   Feb_01              True   \n",
       "                          3FT002821   Feb_01              True   \n",
       "                          3FT002844   Feb_01              True   \n",
       "                          3FT002970   Feb_01              True   \n",
       "\n",
       "                                                    no_pay_hours|days  \\\n",
       "warehouse reports_to_name employee_id month_period                      \n",
       "STL       Manning, Travis 3FT002657   Feb_01                      0.0   \n",
       "                          3FT003097   Feb_01                      0.0   \n",
       "                          3FT002821   Feb_01                      0.0   \n",
       "                          3FT002844   Feb_01                      0.0   \n",
       "                          3FT002970   Feb_01                      0.0   \n",
       "\n",
       "                                                    no_pay_hours|hours  \\\n",
       "warehouse reports_to_name employee_id month_period                       \n",
       "STL       Manning, Travis 3FT002657   Feb_01                       0.0   \n",
       "                          3FT003097   Feb_01                       0.0   \n",
       "                          3FT002821   Feb_01                       0.0   \n",
       "                          3FT002844   Feb_01                       0.0   \n",
       "                          3FT002970   Feb_01                       0.0   \n",
       "\n",
       "                                                    no_pay_hours|money  \\\n",
       "warehouse reports_to_name employee_id month_period                       \n",
       "STL       Manning, Travis 3FT002657   Feb_01                       0.0   \n",
       "                          3FT003097   Feb_01                       0.0   \n",
       "                          3FT002821   Feb_01                       0.0   \n",
       "                          3FT002844   Feb_01                       0.0   \n",
       "                          3FT002970   Feb_01                       0.0   \n",
       "\n",
       "                                                    no_pay_hours|wages  \\\n",
       "warehouse reports_to_name employee_id month_period                       \n",
       "STL       Manning, Travis 3FT002657   Feb_01                       0.0   \n",
       "                          3FT003097   Feb_01                       0.0   \n",
       "                          3FT002821   Feb_01                       0.0   \n",
       "                          3FT002844   Feb_01                       0.0   \n",
       "                          3FT002970   Feb_01                       0.0   \n",
       "\n",
       "                                                    overtime|days  \\\n",
       "warehouse reports_to_name employee_id month_period                  \n",
       "STL       Manning, Travis 3FT002657   Feb_01                  0.0   \n",
       "                          3FT003097   Feb_01                  0.0   \n",
       "                          3FT002821   Feb_01                  0.0   \n",
       "                          3FT002844   Feb_01                  0.0   \n",
       "                          3FT002970   Feb_01                  0.0   \n",
       "\n",
       "                                                    overtime|hours  \\\n",
       "warehouse reports_to_name employee_id month_period                   \n",
       "STL       Manning, Travis 3FT002657   Feb_01                   0.0   \n",
       "                          3FT003097   Feb_01                   0.0   \n",
       "                          3FT002821   Feb_01                   0.0   \n",
       "                          3FT002844   Feb_01                   0.0   \n",
       "                          3FT002970   Feb_01                   0.0   \n",
       "\n",
       "                                                    overtime|money  \\\n",
       "warehouse reports_to_name employee_id month_period                   \n",
       "STL       Manning, Travis 3FT002657   Feb_01                   0.0   \n",
       "                          3FT003097   Feb_01                   0.0   \n",
       "                          3FT002821   Feb_01                   0.0   \n",
       "                          3FT002844   Feb_01                   0.0   \n",
       "                          3FT002970   Feb_01                   0.0   \n",
       "\n",
       "                                                    overtime|wages pay_period  \\\n",
       "warehouse reports_to_name employee_id month_period                              \n",
       "STL       Manning, Travis 3FT002657   Feb_01                   0.0         01   \n",
       "                          3FT003097   Feb_01                   0.0         01   \n",
       "                          3FT002821   Feb_01                   0.0         01   \n",
       "                          3FT002844   Feb_01                   0.0         01   \n",
       "                          3FT002970   Feb_01                   0.0         01   \n",
       "\n",
       "                                                    personal_day|days  \\\n",
       "warehouse reports_to_name employee_id month_period                      \n",
       "STL       Manning, Travis 3FT002657   Feb_01                      0.0   \n",
       "                          3FT003097   Feb_01                      0.0   \n",
       "                          3FT002821   Feb_01                      0.0   \n",
       "                          3FT002844   Feb_01                      0.0   \n",
       "                          3FT002970   Feb_01                      0.0   \n",
       "\n",
       "                                                    personal_day|hours  \\\n",
       "warehouse reports_to_name employee_id month_period                       \n",
       "STL       Manning, Travis 3FT002657   Feb_01                       0.0   \n",
       "                          3FT003097   Feb_01                       0.0   \n",
       "                          3FT002821   Feb_01                       0.0   \n",
       "                          3FT002844   Feb_01                       0.0   \n",
       "                          3FT002970   Feb_01                       0.0   \n",
       "\n",
       "                                                    personal_day|money  \\\n",
       "warehouse reports_to_name employee_id month_period                       \n",
       "STL       Manning, Travis 3FT002657   Feb_01                       0.0   \n",
       "                          3FT003097   Feb_01                       0.0   \n",
       "                          3FT002821   Feb_01                       0.0   \n",
       "                          3FT002844   Feb_01                       0.0   \n",
       "                          3FT002970   Feb_01                       0.0   \n",
       "\n",
       "                                                    personal_day|wages  \\\n",
       "warehouse reports_to_name employee_id month_period                       \n",
       "STL       Manning, Travis 3FT002657   Feb_01                       0.0   \n",
       "                          3FT003097   Feb_01                       0.0   \n",
       "                          3FT002821   Feb_01                       0.0   \n",
       "                          3FT002844   Feb_01                       0.0   \n",
       "                          3FT002970   Feb_01                       0.0   \n",
       "\n",
       "                                                    pto|days  pto|hours  \\\n",
       "warehouse reports_to_name employee_id month_period                        \n",
       "STL       Manning, Travis 3FT002657   Feb_01             0.0        0.0   \n",
       "                          3FT003097   Feb_01             0.0        0.0   \n",
       "                          3FT002821   Feb_01             0.0        0.0   \n",
       "                          3FT002844   Feb_01             0.0        0.0   \n",
       "                          3FT002970   Feb_01             0.0        0.0   \n",
       "\n",
       "                                                    pto|money  pto|wages  \\\n",
       "warehouse reports_to_name employee_id month_period                         \n",
       "STL       Manning, Travis 3FT002657   Feb_01              0.0        0.0   \n",
       "                          3FT003097   Feb_01              0.0        0.0   \n",
       "                          3FT002821   Feb_01              0.0        0.0   \n",
       "                          3FT002844   Feb_01              0.0        0.0   \n",
       "                          3FT002970   Feb_01              0.0        0.0   \n",
       "\n",
       "                                                    regular|days  \\\n",
       "warehouse reports_to_name employee_id month_period                 \n",
       "STL       Manning, Travis 3FT002657   Feb_01                 0.0   \n",
       "                          3FT003097   Feb_01                 0.0   \n",
       "                          3FT002821   Feb_01                 0.0   \n",
       "                          3FT002844   Feb_01                 0.0   \n",
       "                          3FT002970   Feb_01                 0.0   \n",
       "\n",
       "                                                    regular|hours  \\\n",
       "warehouse reports_to_name employee_id month_period                  \n",
       "STL       Manning, Travis 3FT002657   Feb_01                 4.38   \n",
       "                          3FT003097   Feb_01                 2.27   \n",
       "                          3FT002821   Feb_01                 2.88   \n",
       "                          3FT002844   Feb_01                 4.47   \n",
       "                          3FT002970   Feb_01                 5.71   \n",
       "\n",
       "                                                    regular|money  \\\n",
       "warehouse reports_to_name employee_id month_period                  \n",
       "STL       Manning, Travis 3FT002657   Feb_01                  0.0   \n",
       "                          3FT003097   Feb_01                  0.0   \n",
       "                          3FT002821   Feb_01                  0.0   \n",
       "                          3FT002844   Feb_01                  0.0   \n",
       "                          3FT002970   Feb_01                  0.0   \n",
       "\n",
       "                                                    regular|wages  \\\n",
       "warehouse reports_to_name employee_id month_period                  \n",
       "STL       Manning, Travis 3FT002657   Feb_01            78.330002   \n",
       "                          3FT003097   Feb_01            42.209999   \n",
       "                          3FT002821   Feb_01            59.450001   \n",
       "                          3FT002844   Feb_01            92.099998   \n",
       "                          3FT002970   Feb_01           113.260002   \n",
       "\n",
       "                                                   starting_date  total|days  \\\n",
       "warehouse reports_to_name employee_id month_period                             \n",
       "STL       Manning, Travis 3FT002657   Feb_01          2018-02-01         0.0   \n",
       "                          3FT003097   Feb_01          2018-02-01         0.0   \n",
       "                          3FT002821   Feb_01          2018-02-01         0.0   \n",
       "                          3FT002844   Feb_01          2018-02-01         0.0   \n",
       "                          3FT002970   Feb_01          2018-02-01         0.0   \n",
       "\n",
       "                                                    total|hours  total|money  \\\n",
       "warehouse reports_to_name employee_id month_period                             \n",
       "STL       Manning, Travis 3FT002657   Feb_01               4.38          0.0   \n",
       "                          3FT003097   Feb_01               2.27          0.0   \n",
       "                          3FT002821   Feb_01               2.88          0.0   \n",
       "                          3FT002844   Feb_01               4.47          0.0   \n",
       "                          3FT002970   Feb_01               5.71          0.0   \n",
       "\n",
       "                                                    total|wages  unnamed:_10  \\\n",
       "warehouse reports_to_name employee_id month_period                             \n",
       "STL       Manning, Travis 3FT002657   Feb_01          78.330002          NaN   \n",
       "                          3FT003097   Feb_01          42.209999          NaN   \n",
       "                          3FT002821   Feb_01          59.450001          NaN   \n",
       "                          3FT002844   Feb_01          92.099998          NaN   \n",
       "                          3FT002970   Feb_01         113.260002          NaN   \n",
       "\n",
       "                                                    vacation|days  \\\n",
       "warehouse reports_to_name employee_id month_period                  \n",
       "STL       Manning, Travis 3FT002657   Feb_01                  0.0   \n",
       "                          3FT003097   Feb_01                  0.0   \n",
       "                          3FT002821   Feb_01                  0.0   \n",
       "                          3FT002844   Feb_01                  0.0   \n",
       "                          3FT002970   Feb_01                  0.0   \n",
       "\n",
       "                                                    vacation|hours  \\\n",
       "warehouse reports_to_name employee_id month_period                   \n",
       "STL       Manning, Travis 3FT002657   Feb_01                   0.0   \n",
       "                          3FT003097   Feb_01                   0.0   \n",
       "                          3FT002821   Feb_01                   0.0   \n",
       "                          3FT002844   Feb_01                   0.0   \n",
       "                          3FT002970   Feb_01                   0.0   \n",
       "\n",
       "                                                    vacation|money  \\\n",
       "warehouse reports_to_name employee_id month_period                   \n",
       "STL       Manning, Travis 3FT002657   Feb_01                   0.0   \n",
       "                          3FT003097   Feb_01                   0.0   \n",
       "                          3FT002821   Feb_01                   0.0   \n",
       "                          3FT002844   Feb_01                   0.0   \n",
       "                          3FT002970   Feb_01                   0.0   \n",
       "\n",
       "                                                    vacation|wages  \\\n",
       "warehouse reports_to_name employee_id month_period                   \n",
       "STL       Manning, Travis 3FT002657   Feb_01                   0.0   \n",
       "                          3FT003097   Feb_01                   0.0   \n",
       "                          3FT002821   Feb_01                   0.0   \n",
       "                          3FT002844   Feb_01                   0.0   \n",
       "                          3FT002970   Feb_01                   0.0   \n",
       "\n",
       "                                                   position_status  \\\n",
       "warehouse reports_to_name employee_id month_period                   \n",
       "STL       Manning, Travis 3FT002657   Feb_01                Active   \n",
       "                          3FT003097   Feb_01                Active   \n",
       "                          3FT002821   Feb_01                Active   \n",
       "                          3FT002844   Feb_01                Active   \n",
       "                          3FT002970   Feb_01                Active   \n",
       "\n",
       "                                                    home_department_code  \\\n",
       "warehouse reports_to_name employee_id month_period                         \n",
       "STL       Manning, Travis 3FT002657   Feb_01                    506513.0   \n",
       "                          3FT003097   Feb_01                    506513.0   \n",
       "                          3FT002821   Feb_01                    506513.0   \n",
       "                          3FT002844   Feb_01                    506513.0   \n",
       "                          3FT002970   Feb_01                    506513.0   \n",
       "\n",
       "                                                   job_title_description  \n",
       "warehouse reports_to_name employee_id month_period                        \n",
       "STL       Manning, Travis 3FT002657   Feb_01             Shipping Casual  \n",
       "                          3FT003097   Feb_01             Shipping Casual  \n",
       "                          3FT002821   Feb_01             Shipping Casual  \n",
       "                          3FT002844   Feb_01             Shipping Casual  \n",
       "                          3FT002970   Feb_01             Shipping Casual  "
      ]
     },
     "execution_count": 15,
     "metadata": {},
     "output_type": "execute_result"
    }
   ],
   "source": [
    "def fetch_operations_roster(fpath):\n",
    "    roster = pd.read_csv(fpath)\n",
    "    roster.columns = drop_unnecessary_characters(roster.columns)\n",
    "    roster.rename(columns={'position_id': 'employee_id'}, inplace=True)\n",
    "    roster['employee_id'] = roster['employee_id'].astype(str)\n",
    "    roster['employee_id'] = roster['employee_id'].str.replace(' ', '').str.upper()\n",
    "    roster.drop(columns=['first_name', 'last_name'], inplace=True)\n",
    "    return roster\n",
    "\n",
    "def merge_roster_with_adp(roster_fpath, ops_hours_df, verbose=1):\n",
    "    '''\n",
    "    Combines ADP data with Roster from HR.\n",
    "    '''\n",
    "    # read in roster data\n",
    "    roster_df = fetch_operations_roster(roster_fpath)\n",
    "\n",
    "    # merge with ops_hours_df\n",
    "    rows_before = ops_hours_df.shape[0]\n",
    "    ops_df = ops_hours_df.merge(roster_df, on='employee_id', how='left')\n",
    "    rows_after = ops_df.shape[0]\n",
    "\n",
    "    # check what got dropped\n",
    "    notinnewdata = ~ops_hours_df.employee_id.isin(ops_df.employee_id.tolist())\n",
    "    dropped_from_data = ops_hours_df.loc[notinnewdata, 'employee_id'].unique().tolist()\n",
    "    \n",
    "    if verbose:\n",
    "        print('Roster Columns:')\n",
    "        print(roster_df.columns.tolist())\n",
    "        print('''\n",
    "        Merging in EMPLOYEE ROSTER data from HR.  \n",
    "\n",
    "        This file needs to be updated by hand each month from ADAM COLEMAN or whoever is in that role. \n",
    "\n",
    "        Rows before merging in Roster:    {}\n",
    "        Rows after merging in Roster:     {}\n",
    "\n",
    "        The following Employee IDs were dropped in this process:\n",
    "        {}\n",
    "        '''.format(rows_before, rows_after, dropped_from_data))\n",
    "\n",
    "    # add in which warehouse they are in\n",
    "    manager_dict = {'Manning, Travis': 'STL', \n",
    "                    'nan': 'STL', \n",
    "                    'Hercher, Donald': 'STL', \n",
    "                    'Coffer, Wesley': 'KC',\n",
    "                    'Surls, Kurtis': 'KC', \n",
    "                    'Ade, Richard': 'KC', \n",
    "                    'Jorgensen, Skylar': 'KC'}\n",
    "    ops_df['warehouse'] = ops_df.reports_to_name.map(manager_dict)\n",
    "    \n",
    "    return ops_df\n",
    "\n",
    "roster_fpath = base_dir + 'lookup data/operations_roster_03202018.csv'\n",
    "ops_df = merge_roster_with_adp(roster_fpath, ops_hours_df, verbose=0)\n",
    "ops_df.set_index(['warehouse', 'reports_to_name', 'employee_id', 'month_period']).head()"
   ]
  },
  {
   "cell_type": "code",
   "execution_count": 17,
   "metadata": {
    "hideCode": true,
    "hidePrompt": false,
    "scrolled": false
   },
   "outputs": [
    {
     "data": {
      "text/html": [
       "<script>requirejs.config({paths: { 'plotly': ['https://cdn.plot.ly/plotly-latest.min']},});if(!window.Plotly) {{require(['plotly'],function(plotly) {window.Plotly=plotly;});}}</script>"
      ],
      "text/vnd.plotly.v1+html": [
       "<script>requirejs.config({paths: { 'plotly': ['https://cdn.plot.ly/plotly-latest.min']},});if(!window.Plotly) {{require(['plotly'],function(plotly) {window.Plotly=plotly;});}}</script>"
      ]
     },
     "metadata": {},
     "output_type": "display_data"
    }
   ],
   "source": [
    "import plotly.offline as py\n",
    "import plotly.graph_objs as go\n",
    "import plotly.figure_factory as ff\n",
    "py.init_notebook_mode(connected=True)\n",
    "\n",
    "def plot_by_month(df, y, title, \n",
    "               seperate_y_axis=False, \n",
    "               x_axis_label='', y_axis_label='', \n",
    "               scale='linear', initial_hide=False,\n",
    "               barmode='group'):\n",
    "    '''\n",
    "    Plot variables by month\n",
    "    '''\n",
    "    df = df.loc[:, y + ['month']].groupby('month')[y].sum()\n",
    "    \n",
    "    label_arr = list(df)\n",
    "    series_arr = list(map(lambda col: df[col], label_arr))\n",
    "    \n",
    "    for col in df.columns:\n",
    "        df[col] = df[col].apply(lambda x: round(x, 2))\n",
    "    print(title); print('-' * 100); print(df.T)\n",
    "    \n",
    "    \n",
    "    layout = go.Layout(\n",
    "        barmode = barmode,\n",
    "        title = title,\n",
    "        legend = dict(orientation=\"h\"),\n",
    "        xaxis = dict(type='month',\n",
    "                  title='Month'),\n",
    "        yaxis=dict(\n",
    "            title = y_axis_label,\n",
    "            showticklabels = not seperate_y_axis,\n",
    "            type = scale\n",
    "        ),\n",
    "        bargap=0.2\n",
    "    )\n",
    "    \n",
    "    y_axis_config = dict(\n",
    "        overlaying = 'y',\n",
    "        showticklabels = False,\n",
    "        type = scale )\n",
    "    \n",
    "    visibility = 'visible'\n",
    "    if initial_hide:  visibility = 'legendonly'\n",
    "        \n",
    "    # make a trace for each series\n",
    "    trace_arr = []\n",
    "    for index, series in enumerate(series_arr):\n",
    "        trace = go.Bar( #go.Scatter\n",
    "            x=series.index, \n",
    "            y=series, \n",
    "            text=title, \n",
    "            name=label_arr[index],\n",
    "            visible=visibility,\n",
    "            opacity=0.7\n",
    "        )\n",
    "        # Add seperate axis for the series\n",
    "        if seperate_y_axis:\n",
    "            trace['yaxis'] = 'y{}'.format(index + 1)\n",
    "            layout['yaxis{}'.format(index + 1)] = y_axis_config    \n",
    "        trace_arr.append(trace)\n",
    "    fig = go.Figure(data=trace_arr, layout=layout)\n",
    "    py.iplot(fig)\n",
    "    print('\\n')\n",
    "\n",
    "    \n",
    "def interactive_bar_plot(ops_df, y_list, subgroup):\n",
    "    for grp, df in ops_df.groupby(['warehouse', subgroup]):\n",
    "        title = str(grp).replace('(', '').replace(')', '').replace('\\'', '')\n",
    "        plot_by_month(df, \n",
    "                      y=y_list, \n",
    "                      title=title, \n",
    "                      seperate_y_axis=False, \n",
    "                      y_axis_label='Total Wages ($)', \n",
    "                      scale='linear',\n",
    "                      initial_hide=False)"
   ]
  },
  {
   "cell_type": "markdown",
   "metadata": {},
   "source": [
    "# Total Employee Wages \n",
    "\n",
    "Below wages are plotted by various categories.  Numbers shown are summed by group and month to show changes over time.  \n",
    "\n",
    "## Wages by Warehouse & Day/Night\n",
    "\n",
    "`True` indicates \"Night Crew\", `False` indicates \"Day Crew.\""
   ]
  },
  {
   "cell_type": "code",
   "execution_count": 20,
   "metadata": {
    "hideCode": true,
    "scrolled": false
   },
   "outputs": [
    {
     "name": "stdout",
     "output_type": "stream",
     "text": [
      "\n",
      "Wages ($) by Warehouse & Day/Night Cre\n",
      "\n",
      "KC, False\n",
      "----------------------------------------------------------------------------------------------------\n",
      "month                  Feb       Mar\n",
      "doubletime|wages    241.49      0.00\n",
      "overtime|wages    12148.85   2884.73\n",
      "regular|wages     50051.11  27573.34\n",
      "total|wages       62441.45  30458.08\n"
     ]
    },
    {
     "data": {
      "application/vnd.plotly.v1+json": {
       "data": [
        {
         "name": "doubletime|wages",
         "opacity": 0.7,
         "text": "KC, False",
         "type": "bar",
         "visible": "visible",
         "x": [
          "Feb",
          "Mar"
         ],
         "y": [
          241.49000549316406,
          0
         ]
        },
        {
         "name": "overtime|wages",
         "opacity": 0.7,
         "text": "KC, False",
         "type": "bar",
         "visible": "visible",
         "x": [
          "Feb",
          "Mar"
         ],
         "y": [
          12148.849609375,
          2884.72998046875
         ]
        },
        {
         "name": "regular|wages",
         "opacity": 0.7,
         "text": "KC, False",
         "type": "bar",
         "visible": "visible",
         "x": [
          "Feb",
          "Mar"
         ],
         "y": [
          50051.109375,
          27573.33984375
         ]
        },
        {
         "name": "total|wages",
         "opacity": 0.7,
         "text": "KC, False",
         "type": "bar",
         "visible": "visible",
         "x": [
          "Feb",
          "Mar"
         ],
         "y": [
          62441.44921875,
          30458.080078125
         ]
        }
       ],
       "layout": {
        "bargap": 0.2,
        "barmode": "group",
        "legend": {
         "orientation": "h"
        },
        "title": "KC, False",
        "xaxis": {
         "title": "Month",
         "type": "month"
        },
        "yaxis": {
         "showticklabels": true,
         "title": "Total Wages ($)",
         "type": "linear"
        }
       }
      },
      "text/html": [
       "<div id=\"a3665466-3159-4e3e-8275-5581f9bf6006\" style=\"height: 525px; width: 100%;\" class=\"plotly-graph-div\"></div><script type=\"text/javascript\">require([\"plotly\"], function(Plotly) { window.PLOTLYENV=window.PLOTLYENV || {};window.PLOTLYENV.BASE_URL=\"https://plot.ly\";Plotly.newPlot(\"a3665466-3159-4e3e-8275-5581f9bf6006\", [{\"text\": \"KC, False\", \"visible\": \"visible\", \"type\": \"bar\", \"name\": \"doubletime|wages\", \"opacity\": 0.7, \"y\": [241.49000549316406, 0.0], \"x\": [\"Feb\", \"Mar\"]}, {\"text\": \"KC, False\", \"visible\": \"visible\", \"type\": \"bar\", \"name\": \"overtime|wages\", \"opacity\": 0.7, \"y\": [12148.849609375, 2884.72998046875], \"x\": [\"Feb\", \"Mar\"]}, {\"text\": \"KC, False\", \"visible\": \"visible\", \"type\": \"bar\", \"name\": \"regular|wages\", \"opacity\": 0.7, \"y\": [50051.109375, 27573.33984375], \"x\": [\"Feb\", \"Mar\"]}, {\"text\": \"KC, False\", \"visible\": \"visible\", \"type\": \"bar\", \"name\": \"total|wages\", \"opacity\": 0.7, \"y\": [62441.44921875, 30458.080078125], \"x\": [\"Feb\", \"Mar\"]}], {\"yaxis\": {\"showticklabels\": true, \"title\": \"Total Wages ($)\", \"type\": \"linear\"}, \"title\": \"KC, False\", \"bargap\": 0.2, \"barmode\": \"group\", \"xaxis\": {\"title\": \"Month\", \"type\": \"month\"}, \"legend\": {\"orientation\": \"h\"}}, {\"showLink\": true, \"linkText\": \"Export to plot.ly\"})});</script>"
      ],
      "text/vnd.plotly.v1+html": [
       "<div id=\"a3665466-3159-4e3e-8275-5581f9bf6006\" style=\"height: 525px; width: 100%;\" class=\"plotly-graph-div\"></div><script type=\"text/javascript\">require([\"plotly\"], function(Plotly) { window.PLOTLYENV=window.PLOTLYENV || {};window.PLOTLYENV.BASE_URL=\"https://plot.ly\";Plotly.newPlot(\"a3665466-3159-4e3e-8275-5581f9bf6006\", [{\"text\": \"KC, False\", \"visible\": \"visible\", \"type\": \"bar\", \"name\": \"doubletime|wages\", \"opacity\": 0.7, \"y\": [241.49000549316406, 0.0], \"x\": [\"Feb\", \"Mar\"]}, {\"text\": \"KC, False\", \"visible\": \"visible\", \"type\": \"bar\", \"name\": \"overtime|wages\", \"opacity\": 0.7, \"y\": [12148.849609375, 2884.72998046875], \"x\": [\"Feb\", \"Mar\"]}, {\"text\": \"KC, False\", \"visible\": \"visible\", \"type\": \"bar\", \"name\": \"regular|wages\", \"opacity\": 0.7, \"y\": [50051.109375, 27573.33984375], \"x\": [\"Feb\", \"Mar\"]}, {\"text\": \"KC, False\", \"visible\": \"visible\", \"type\": \"bar\", \"name\": \"total|wages\", \"opacity\": 0.7, \"y\": [62441.44921875, 30458.080078125], \"x\": [\"Feb\", \"Mar\"]}], {\"yaxis\": {\"showticklabels\": true, \"title\": \"Total Wages ($)\", \"type\": \"linear\"}, \"title\": \"KC, False\", \"bargap\": 0.2, \"barmode\": \"group\", \"xaxis\": {\"title\": \"Month\", \"type\": \"month\"}, \"legend\": {\"orientation\": \"h\"}}, {\"showLink\": true, \"linkText\": \"Export to plot.ly\"})});</script>"
      ]
     },
     "metadata": {},
     "output_type": "display_data"
    },
    {
     "name": "stdout",
     "output_type": "stream",
     "text": [
      "\n",
      "\n",
      "KC, True\n",
      "----------------------------------------------------------------------------------------------------\n",
      "month                  Feb       Mar\n",
      "doubletime|wages      0.00      0.00\n",
      "overtime|wages     3927.32   5940.68\n",
      "regular|wages     70242.31  35727.10\n",
      "total|wages       77756.38  44206.66\n"
     ]
    },
    {
     "data": {
      "application/vnd.plotly.v1+json": {
       "data": [
        {
         "name": "doubletime|wages",
         "opacity": 0.7,
         "text": "KC, True",
         "type": "bar",
         "visible": "visible",
         "x": [
          "Feb",
          "Mar"
         ],
         "y": [
          0,
          0
         ]
        },
        {
         "name": "overtime|wages",
         "opacity": 0.7,
         "text": "KC, True",
         "type": "bar",
         "visible": "visible",
         "x": [
          "Feb",
          "Mar"
         ],
         "y": [
          3927.320068359375,
          5940.68017578125
         ]
        },
        {
         "name": "regular|wages",
         "opacity": 0.7,
         "text": "KC, True",
         "type": "bar",
         "visible": "visible",
         "x": [
          "Feb",
          "Mar"
         ],
         "y": [
          70242.3125,
          35727.1015625
         ]
        },
        {
         "name": "total|wages",
         "opacity": 0.7,
         "text": "KC, True",
         "type": "bar",
         "visible": "visible",
         "x": [
          "Feb",
          "Mar"
         ],
         "y": [
          77756.3828125,
          44206.66015625
         ]
        }
       ],
       "layout": {
        "bargap": 0.2,
        "barmode": "group",
        "legend": {
         "orientation": "h"
        },
        "title": "KC, True",
        "xaxis": {
         "title": "Month",
         "type": "month"
        },
        "yaxis": {
         "showticklabels": true,
         "title": "Total Wages ($)",
         "type": "linear"
        }
       }
      },
      "text/html": [
       "<div id=\"885ea52d-6fcf-4418-9246-237c747ec962\" style=\"height: 525px; width: 100%;\" class=\"plotly-graph-div\"></div><script type=\"text/javascript\">require([\"plotly\"], function(Plotly) { window.PLOTLYENV=window.PLOTLYENV || {};window.PLOTLYENV.BASE_URL=\"https://plot.ly\";Plotly.newPlot(\"885ea52d-6fcf-4418-9246-237c747ec962\", [{\"text\": \"KC, True\", \"visible\": \"visible\", \"type\": \"bar\", \"name\": \"doubletime|wages\", \"opacity\": 0.7, \"y\": [0.0, 0.0], \"x\": [\"Feb\", \"Mar\"]}, {\"text\": \"KC, True\", \"visible\": \"visible\", \"type\": \"bar\", \"name\": \"overtime|wages\", \"opacity\": 0.7, \"y\": [3927.320068359375, 5940.68017578125], \"x\": [\"Feb\", \"Mar\"]}, {\"text\": \"KC, True\", \"visible\": \"visible\", \"type\": \"bar\", \"name\": \"regular|wages\", \"opacity\": 0.7, \"y\": [70242.3125, 35727.1015625], \"x\": [\"Feb\", \"Mar\"]}, {\"text\": \"KC, True\", \"visible\": \"visible\", \"type\": \"bar\", \"name\": \"total|wages\", \"opacity\": 0.7, \"y\": [77756.3828125, 44206.66015625], \"x\": [\"Feb\", \"Mar\"]}], {\"yaxis\": {\"showticklabels\": true, \"title\": \"Total Wages ($)\", \"type\": \"linear\"}, \"title\": \"KC, True\", \"bargap\": 0.2, \"barmode\": \"group\", \"xaxis\": {\"title\": \"Month\", \"type\": \"month\"}, \"legend\": {\"orientation\": \"h\"}}, {\"showLink\": true, \"linkText\": \"Export to plot.ly\"})});</script>"
      ],
      "text/vnd.plotly.v1+html": [
       "<div id=\"885ea52d-6fcf-4418-9246-237c747ec962\" style=\"height: 525px; width: 100%;\" class=\"plotly-graph-div\"></div><script type=\"text/javascript\">require([\"plotly\"], function(Plotly) { window.PLOTLYENV=window.PLOTLYENV || {};window.PLOTLYENV.BASE_URL=\"https://plot.ly\";Plotly.newPlot(\"885ea52d-6fcf-4418-9246-237c747ec962\", [{\"text\": \"KC, True\", \"visible\": \"visible\", \"type\": \"bar\", \"name\": \"doubletime|wages\", \"opacity\": 0.7, \"y\": [0.0, 0.0], \"x\": [\"Feb\", \"Mar\"]}, {\"text\": \"KC, True\", \"visible\": \"visible\", \"type\": \"bar\", \"name\": \"overtime|wages\", \"opacity\": 0.7, \"y\": [3927.320068359375, 5940.68017578125], \"x\": [\"Feb\", \"Mar\"]}, {\"text\": \"KC, True\", \"visible\": \"visible\", \"type\": \"bar\", \"name\": \"regular|wages\", \"opacity\": 0.7, \"y\": [70242.3125, 35727.1015625], \"x\": [\"Feb\", \"Mar\"]}, {\"text\": \"KC, True\", \"visible\": \"visible\", \"type\": \"bar\", \"name\": \"total|wages\", \"opacity\": 0.7, \"y\": [77756.3828125, 44206.66015625], \"x\": [\"Feb\", \"Mar\"]}], {\"yaxis\": {\"showticklabels\": true, \"title\": \"Total Wages ($)\", \"type\": \"linear\"}, \"title\": \"KC, True\", \"bargap\": 0.2, \"barmode\": \"group\", \"xaxis\": {\"title\": \"Month\", \"type\": \"month\"}, \"legend\": {\"orientation\": \"h\"}}, {\"showLink\": true, \"linkText\": \"Export to plot.ly\"})});</script>"
      ]
     },
     "metadata": {},
     "output_type": "display_data"
    },
    {
     "name": "stdout",
     "output_type": "stream",
     "text": [
      "\n",
      "\n",
      "STL, False\n",
      "----------------------------------------------------------------------------------------------------\n",
      "month                  Feb       Mar\n",
      "doubletime|wages      0.00      0.00\n",
      "overtime|wages     3049.35   2215.05\n",
      "regular|wages     70071.01  38899.13\n",
      "total|wages       78067.20  42978.86\n"
     ]
    },
    {
     "data": {
      "application/vnd.plotly.v1+json": {
       "data": [
        {
         "name": "doubletime|wages",
         "opacity": 0.7,
         "text": "STL, False",
         "type": "bar",
         "visible": "visible",
         "x": [
          "Feb",
          "Mar"
         ],
         "y": [
          0,
          0
         ]
        },
        {
         "name": "overtime|wages",
         "opacity": 0.7,
         "text": "STL, False",
         "type": "bar",
         "visible": "visible",
         "x": [
          "Feb",
          "Mar"
         ],
         "y": [
          3049.35009765625,
          2215.050048828125
         ]
        },
        {
         "name": "regular|wages",
         "opacity": 0.7,
         "text": "STL, False",
         "type": "bar",
         "visible": "visible",
         "x": [
          "Feb",
          "Mar"
         ],
         "y": [
          70071.0078125,
          38899.12890625
         ]
        },
        {
         "name": "total|wages",
         "opacity": 0.7,
         "text": "STL, False",
         "type": "bar",
         "visible": "visible",
         "x": [
          "Feb",
          "Mar"
         ],
         "y": [
          78067.203125,
          42978.859375
         ]
        }
       ],
       "layout": {
        "bargap": 0.2,
        "barmode": "group",
        "legend": {
         "orientation": "h"
        },
        "title": "STL, False",
        "xaxis": {
         "title": "Month",
         "type": "month"
        },
        "yaxis": {
         "showticklabels": true,
         "title": "Total Wages ($)",
         "type": "linear"
        }
       }
      },
      "text/html": [
       "<div id=\"168fadc3-acd7-4e55-9a07-38b7f4adcb21\" style=\"height: 525px; width: 100%;\" class=\"plotly-graph-div\"></div><script type=\"text/javascript\">require([\"plotly\"], function(Plotly) { window.PLOTLYENV=window.PLOTLYENV || {};window.PLOTLYENV.BASE_URL=\"https://plot.ly\";Plotly.newPlot(\"168fadc3-acd7-4e55-9a07-38b7f4adcb21\", [{\"text\": \"STL, False\", \"visible\": \"visible\", \"type\": \"bar\", \"name\": \"doubletime|wages\", \"opacity\": 0.7, \"y\": [0.0, 0.0], \"x\": [\"Feb\", \"Mar\"]}, {\"text\": \"STL, False\", \"visible\": \"visible\", \"type\": \"bar\", \"name\": \"overtime|wages\", \"opacity\": 0.7, \"y\": [3049.35009765625, 2215.050048828125], \"x\": [\"Feb\", \"Mar\"]}, {\"text\": \"STL, False\", \"visible\": \"visible\", \"type\": \"bar\", \"name\": \"regular|wages\", \"opacity\": 0.7, \"y\": [70071.0078125, 38899.12890625], \"x\": [\"Feb\", \"Mar\"]}, {\"text\": \"STL, False\", \"visible\": \"visible\", \"type\": \"bar\", \"name\": \"total|wages\", \"opacity\": 0.7, \"y\": [78067.203125, 42978.859375], \"x\": [\"Feb\", \"Mar\"]}], {\"yaxis\": {\"showticklabels\": true, \"title\": \"Total Wages ($)\", \"type\": \"linear\"}, \"title\": \"STL, False\", \"bargap\": 0.2, \"barmode\": \"group\", \"xaxis\": {\"title\": \"Month\", \"type\": \"month\"}, \"legend\": {\"orientation\": \"h\"}}, {\"showLink\": true, \"linkText\": \"Export to plot.ly\"})});</script>"
      ],
      "text/vnd.plotly.v1+html": [
       "<div id=\"168fadc3-acd7-4e55-9a07-38b7f4adcb21\" style=\"height: 525px; width: 100%;\" class=\"plotly-graph-div\"></div><script type=\"text/javascript\">require([\"plotly\"], function(Plotly) { window.PLOTLYENV=window.PLOTLYENV || {};window.PLOTLYENV.BASE_URL=\"https://plot.ly\";Plotly.newPlot(\"168fadc3-acd7-4e55-9a07-38b7f4adcb21\", [{\"text\": \"STL, False\", \"visible\": \"visible\", \"type\": \"bar\", \"name\": \"doubletime|wages\", \"opacity\": 0.7, \"y\": [0.0, 0.0], \"x\": [\"Feb\", \"Mar\"]}, {\"text\": \"STL, False\", \"visible\": \"visible\", \"type\": \"bar\", \"name\": \"overtime|wages\", \"opacity\": 0.7, \"y\": [3049.35009765625, 2215.050048828125], \"x\": [\"Feb\", \"Mar\"]}, {\"text\": \"STL, False\", \"visible\": \"visible\", \"type\": \"bar\", \"name\": \"regular|wages\", \"opacity\": 0.7, \"y\": [70071.0078125, 38899.12890625], \"x\": [\"Feb\", \"Mar\"]}, {\"text\": \"STL, False\", \"visible\": \"visible\", \"type\": \"bar\", \"name\": \"total|wages\", \"opacity\": 0.7, \"y\": [78067.203125, 42978.859375], \"x\": [\"Feb\", \"Mar\"]}], {\"yaxis\": {\"showticklabels\": true, \"title\": \"Total Wages ($)\", \"type\": \"linear\"}, \"title\": \"STL, False\", \"bargap\": 0.2, \"barmode\": \"group\", \"xaxis\": {\"title\": \"Month\", \"type\": \"month\"}, \"legend\": {\"orientation\": \"h\"}}, {\"showLink\": true, \"linkText\": \"Export to plot.ly\"})});</script>"
      ]
     },
     "metadata": {},
     "output_type": "display_data"
    },
    {
     "name": "stdout",
     "output_type": "stream",
     "text": [
      "\n",
      "\n",
      "STL, True\n",
      "----------------------------------------------------------------------------------------------------\n",
      "month                   Feb       Mar\n",
      "doubletime|wages     540.88      0.00\n",
      "overtime|wages       760.85   1280.91\n",
      "regular|wages     120534.40  68296.88\n",
      "total|wages       123491.50  71814.76\n"
     ]
    },
    {
     "data": {
      "application/vnd.plotly.v1+json": {
       "data": [
        {
         "name": "doubletime|wages",
         "opacity": 0.7,
         "text": "STL, True",
         "type": "bar",
         "visible": "visible",
         "x": [
          "Feb",
          "Mar"
         ],
         "y": [
          540.8800048828125,
          0
         ]
        },
        {
         "name": "overtime|wages",
         "opacity": 0.7,
         "text": "STL, True",
         "type": "bar",
         "visible": "visible",
         "x": [
          "Feb",
          "Mar"
         ],
         "y": [
          760.8499755859375,
          1280.9100341796875
         ]
        },
        {
         "name": "regular|wages",
         "opacity": 0.7,
         "text": "STL, True",
         "type": "bar",
         "visible": "visible",
         "x": [
          "Feb",
          "Mar"
         ],
         "y": [
          120534.3984375,
          68296.8828125
         ]
        },
        {
         "name": "total|wages",
         "opacity": 0.7,
         "text": "STL, True",
         "type": "bar",
         "visible": "visible",
         "x": [
          "Feb",
          "Mar"
         ],
         "y": [
          123491.5,
          71814.7578125
         ]
        }
       ],
       "layout": {
        "bargap": 0.2,
        "barmode": "group",
        "legend": {
         "orientation": "h"
        },
        "title": "STL, True",
        "xaxis": {
         "title": "Month",
         "type": "month"
        },
        "yaxis": {
         "showticklabels": true,
         "title": "Total Wages ($)",
         "type": "linear"
        }
       }
      },
      "text/html": [
       "<div id=\"8da77980-2162-4580-93da-9bf14ec4355f\" style=\"height: 525px; width: 100%;\" class=\"plotly-graph-div\"></div><script type=\"text/javascript\">require([\"plotly\"], function(Plotly) { window.PLOTLYENV=window.PLOTLYENV || {};window.PLOTLYENV.BASE_URL=\"https://plot.ly\";Plotly.newPlot(\"8da77980-2162-4580-93da-9bf14ec4355f\", [{\"text\": \"STL, True\", \"visible\": \"visible\", \"type\": \"bar\", \"name\": \"doubletime|wages\", \"opacity\": 0.7, \"y\": [540.8800048828125, 0.0], \"x\": [\"Feb\", \"Mar\"]}, {\"text\": \"STL, True\", \"visible\": \"visible\", \"type\": \"bar\", \"name\": \"overtime|wages\", \"opacity\": 0.7, \"y\": [760.8499755859375, 1280.9100341796875], \"x\": [\"Feb\", \"Mar\"]}, {\"text\": \"STL, True\", \"visible\": \"visible\", \"type\": \"bar\", \"name\": \"regular|wages\", \"opacity\": 0.7, \"y\": [120534.3984375, 68296.8828125], \"x\": [\"Feb\", \"Mar\"]}, {\"text\": \"STL, True\", \"visible\": \"visible\", \"type\": \"bar\", \"name\": \"total|wages\", \"opacity\": 0.7, \"y\": [123491.5, 71814.7578125], \"x\": [\"Feb\", \"Mar\"]}], {\"yaxis\": {\"showticklabels\": true, \"title\": \"Total Wages ($)\", \"type\": \"linear\"}, \"title\": \"STL, True\", \"bargap\": 0.2, \"barmode\": \"group\", \"xaxis\": {\"title\": \"Month\", \"type\": \"month\"}, \"legend\": {\"orientation\": \"h\"}}, {\"showLink\": true, \"linkText\": \"Export to plot.ly\"})});</script>"
      ],
      "text/vnd.plotly.v1+html": [
       "<div id=\"8da77980-2162-4580-93da-9bf14ec4355f\" style=\"height: 525px; width: 100%;\" class=\"plotly-graph-div\"></div><script type=\"text/javascript\">require([\"plotly\"], function(Plotly) { window.PLOTLYENV=window.PLOTLYENV || {};window.PLOTLYENV.BASE_URL=\"https://plot.ly\";Plotly.newPlot(\"8da77980-2162-4580-93da-9bf14ec4355f\", [{\"text\": \"STL, True\", \"visible\": \"visible\", \"type\": \"bar\", \"name\": \"doubletime|wages\", \"opacity\": 0.7, \"y\": [540.8800048828125, 0.0], \"x\": [\"Feb\", \"Mar\"]}, {\"text\": \"STL, True\", \"visible\": \"visible\", \"type\": \"bar\", \"name\": \"overtime|wages\", \"opacity\": 0.7, \"y\": [760.8499755859375, 1280.9100341796875], \"x\": [\"Feb\", \"Mar\"]}, {\"text\": \"STL, True\", \"visible\": \"visible\", \"type\": \"bar\", \"name\": \"regular|wages\", \"opacity\": 0.7, \"y\": [120534.3984375, 68296.8828125], \"x\": [\"Feb\", \"Mar\"]}, {\"text\": \"STL, True\", \"visible\": \"visible\", \"type\": \"bar\", \"name\": \"total|wages\", \"opacity\": 0.7, \"y\": [123491.5, 71814.7578125], \"x\": [\"Feb\", \"Mar\"]}], {\"yaxis\": {\"showticklabels\": true, \"title\": \"Total Wages ($)\", \"type\": \"linear\"}, \"title\": \"STL, True\", \"bargap\": 0.2, \"barmode\": \"group\", \"xaxis\": {\"title\": \"Month\", \"type\": \"month\"}, \"legend\": {\"orientation\": \"h\"}}, {\"showLink\": true, \"linkText\": \"Export to plot.ly\"})});</script>"
      ]
     },
     "metadata": {},
     "output_type": "display_data"
    },
    {
     "name": "stdout",
     "output_type": "stream",
     "text": [
      "\n",
      "\n"
     ]
    }
   ],
   "source": [
    "# specify parameters\n",
    "subgroup = 'night_crew'\n",
    "y_list = ['doubletime|wages', 'overtime|wages', 'regular|wages', 'total|wages']\n",
    "\n",
    "print('''\n",
    "Wages ($) by Warehouse & Day/Night Cre\n",
    "''')\n",
    "\n",
    "interactive_bar_plot(ops_df, y_list, subgroup)"
   ]
  },
  {
   "cell_type": "markdown",
   "metadata": {},
   "source": [
    "## Wages by Warehouse & Manager"
   ]
  },
  {
   "cell_type": "code",
   "execution_count": 18,
   "metadata": {
    "hideCode": false,
    "hidePrompt": false,
    "scrolled": false
   },
   "outputs": [
    {
     "name": "stdout",
     "output_type": "stream",
     "text": [
      "\n",
      "Wages ($) by Warehouse/Manager\n",
      "\n",
      "KC, Ade, Richard\n",
      "----------------------------------------------------------------------------------------------------\n",
      "month                 Feb      Mar\n",
      "doubletime|wages     0.00     0.00\n",
      "overtime|wages      58.25   195.66\n",
      "regular|wages     6832.52  3563.11\n",
      "total|wages       6890.76  3758.78\n"
     ]
    },
    {
     "data": {
      "application/vnd.plotly.v1+json": {
       "data": [
        {
         "name": "doubletime|wages",
         "opacity": 0.7,
         "text": "KC, Ade, Richard",
         "type": "bar",
         "visible": "visible",
         "x": [
          "Feb",
          "Mar"
         ],
         "y": [
          0,
          0
         ]
        },
        {
         "name": "overtime|wages",
         "opacity": 0.7,
         "text": "KC, Ade, Richard",
         "type": "bar",
         "visible": "visible",
         "x": [
          "Feb",
          "Mar"
         ],
         "y": [
          58.25,
          195.66000366210938
         ]
        },
        {
         "name": "regular|wages",
         "opacity": 0.7,
         "text": "KC, Ade, Richard",
         "type": "bar",
         "visible": "visible",
         "x": [
          "Feb",
          "Mar"
         ],
         "y": [
          6832.52001953125,
          3563.10986328125
         ]
        },
        {
         "name": "total|wages",
         "opacity": 0.7,
         "text": "KC, Ade, Richard",
         "type": "bar",
         "visible": "visible",
         "x": [
          "Feb",
          "Mar"
         ],
         "y": [
          6890.759765625,
          3758.77978515625
         ]
        }
       ],
       "layout": {
        "bargap": 0.2,
        "barmode": "group",
        "legend": {
         "orientation": "h"
        },
        "title": "KC, Ade, Richard",
        "xaxis": {
         "title": "Month",
         "type": "month"
        },
        "yaxis": {
         "showticklabels": true,
         "title": "Total Wages ($)",
         "type": "linear"
        }
       }
      },
      "text/html": [
       "<div id=\"619f74aa-aeb3-4518-b0c2-a9c4e43e251f\" style=\"height: 525px; width: 100%;\" class=\"plotly-graph-div\"></div><script type=\"text/javascript\">require([\"plotly\"], function(Plotly) { window.PLOTLYENV=window.PLOTLYENV || {};window.PLOTLYENV.BASE_URL=\"https://plot.ly\";Plotly.newPlot(\"619f74aa-aeb3-4518-b0c2-a9c4e43e251f\", [{\"text\": \"KC, Ade, Richard\", \"visible\": \"visible\", \"type\": \"bar\", \"name\": \"doubletime|wages\", \"opacity\": 0.7, \"y\": [0.0, 0.0], \"x\": [\"Feb\", \"Mar\"]}, {\"text\": \"KC, Ade, Richard\", \"visible\": \"visible\", \"type\": \"bar\", \"name\": \"overtime|wages\", \"opacity\": 0.7, \"y\": [58.25, 195.66000366210938], \"x\": [\"Feb\", \"Mar\"]}, {\"text\": \"KC, Ade, Richard\", \"visible\": \"visible\", \"type\": \"bar\", \"name\": \"regular|wages\", \"opacity\": 0.7, \"y\": [6832.52001953125, 3563.10986328125], \"x\": [\"Feb\", \"Mar\"]}, {\"text\": \"KC, Ade, Richard\", \"visible\": \"visible\", \"type\": \"bar\", \"name\": \"total|wages\", \"opacity\": 0.7, \"y\": [6890.759765625, 3758.77978515625], \"x\": [\"Feb\", \"Mar\"]}], {\"yaxis\": {\"showticklabels\": true, \"title\": \"Total Wages ($)\", \"type\": \"linear\"}, \"title\": \"KC, Ade, Richard\", \"bargap\": 0.2, \"barmode\": \"group\", \"xaxis\": {\"title\": \"Month\", \"type\": \"month\"}, \"legend\": {\"orientation\": \"h\"}}, {\"showLink\": true, \"linkText\": \"Export to plot.ly\"})});</script>"
      ],
      "text/vnd.plotly.v1+html": [
       "<div id=\"619f74aa-aeb3-4518-b0c2-a9c4e43e251f\" style=\"height: 525px; width: 100%;\" class=\"plotly-graph-div\"></div><script type=\"text/javascript\">require([\"plotly\"], function(Plotly) { window.PLOTLYENV=window.PLOTLYENV || {};window.PLOTLYENV.BASE_URL=\"https://plot.ly\";Plotly.newPlot(\"619f74aa-aeb3-4518-b0c2-a9c4e43e251f\", [{\"text\": \"KC, Ade, Richard\", \"visible\": \"visible\", \"type\": \"bar\", \"name\": \"doubletime|wages\", \"opacity\": 0.7, \"y\": [0.0, 0.0], \"x\": [\"Feb\", \"Mar\"]}, {\"text\": \"KC, Ade, Richard\", \"visible\": \"visible\", \"type\": \"bar\", \"name\": \"overtime|wages\", \"opacity\": 0.7, \"y\": [58.25, 195.66000366210938], \"x\": [\"Feb\", \"Mar\"]}, {\"text\": \"KC, Ade, Richard\", \"visible\": \"visible\", \"type\": \"bar\", \"name\": \"regular|wages\", \"opacity\": 0.7, \"y\": [6832.52001953125, 3563.10986328125], \"x\": [\"Feb\", \"Mar\"]}, {\"text\": \"KC, Ade, Richard\", \"visible\": \"visible\", \"type\": \"bar\", \"name\": \"total|wages\", \"opacity\": 0.7, \"y\": [6890.759765625, 3758.77978515625], \"x\": [\"Feb\", \"Mar\"]}], {\"yaxis\": {\"showticklabels\": true, \"title\": \"Total Wages ($)\", \"type\": \"linear\"}, \"title\": \"KC, Ade, Richard\", \"bargap\": 0.2, \"barmode\": \"group\", \"xaxis\": {\"title\": \"Month\", \"type\": \"month\"}, \"legend\": {\"orientation\": \"h\"}}, {\"showLink\": true, \"linkText\": \"Export to plot.ly\"})});</script>"
      ]
     },
     "metadata": {},
     "output_type": "display_data"
    },
    {
     "name": "stdout",
     "output_type": "stream",
     "text": [
      "\n",
      "\n",
      "KC, Coffer, Wesley\n",
      "----------------------------------------------------------------------------------------------------\n",
      "month                  Feb       Mar\n",
      "doubletime|wages      0.00      0.00\n",
      "overtime|wages     3927.32   5940.68\n",
      "regular|wages     70242.31  35727.10\n",
      "total|wages       77756.38  44206.66\n"
     ]
    },
    {
     "data": {
      "application/vnd.plotly.v1+json": {
       "data": [
        {
         "name": "doubletime|wages",
         "opacity": 0.7,
         "text": "KC, Coffer, Wesley",
         "type": "bar",
         "visible": "visible",
         "x": [
          "Feb",
          "Mar"
         ],
         "y": [
          0,
          0
         ]
        },
        {
         "name": "overtime|wages",
         "opacity": 0.7,
         "text": "KC, Coffer, Wesley",
         "type": "bar",
         "visible": "visible",
         "x": [
          "Feb",
          "Mar"
         ],
         "y": [
          3927.320068359375,
          5940.68017578125
         ]
        },
        {
         "name": "regular|wages",
         "opacity": 0.7,
         "text": "KC, Coffer, Wesley",
         "type": "bar",
         "visible": "visible",
         "x": [
          "Feb",
          "Mar"
         ],
         "y": [
          70242.3125,
          35727.1015625
         ]
        },
        {
         "name": "total|wages",
         "opacity": 0.7,
         "text": "KC, Coffer, Wesley",
         "type": "bar",
         "visible": "visible",
         "x": [
          "Feb",
          "Mar"
         ],
         "y": [
          77756.3828125,
          44206.66015625
         ]
        }
       ],
       "layout": {
        "bargap": 0.2,
        "barmode": "group",
        "legend": {
         "orientation": "h"
        },
        "title": "KC, Coffer, Wesley",
        "xaxis": {
         "title": "Month",
         "type": "month"
        },
        "yaxis": {
         "showticklabels": true,
         "title": "Total Wages ($)",
         "type": "linear"
        }
       }
      },
      "text/html": [
       "<div id=\"a0235ce2-e242-4ada-ab5d-f25251a9c0ea\" style=\"height: 525px; width: 100%;\" class=\"plotly-graph-div\"></div><script type=\"text/javascript\">require([\"plotly\"], function(Plotly) { window.PLOTLYENV=window.PLOTLYENV || {};window.PLOTLYENV.BASE_URL=\"https://plot.ly\";Plotly.newPlot(\"a0235ce2-e242-4ada-ab5d-f25251a9c0ea\", [{\"text\": \"KC, Coffer, Wesley\", \"visible\": \"visible\", \"type\": \"bar\", \"name\": \"doubletime|wages\", \"opacity\": 0.7, \"y\": [0.0, 0.0], \"x\": [\"Feb\", \"Mar\"]}, {\"text\": \"KC, Coffer, Wesley\", \"visible\": \"visible\", \"type\": \"bar\", \"name\": \"overtime|wages\", \"opacity\": 0.7, \"y\": [3927.320068359375, 5940.68017578125], \"x\": [\"Feb\", \"Mar\"]}, {\"text\": \"KC, Coffer, Wesley\", \"visible\": \"visible\", \"type\": \"bar\", \"name\": \"regular|wages\", \"opacity\": 0.7, \"y\": [70242.3125, 35727.1015625], \"x\": [\"Feb\", \"Mar\"]}, {\"text\": \"KC, Coffer, Wesley\", \"visible\": \"visible\", \"type\": \"bar\", \"name\": \"total|wages\", \"opacity\": 0.7, \"y\": [77756.3828125, 44206.66015625], \"x\": [\"Feb\", \"Mar\"]}], {\"yaxis\": {\"showticklabels\": true, \"title\": \"Total Wages ($)\", \"type\": \"linear\"}, \"title\": \"KC, Coffer, Wesley\", \"bargap\": 0.2, \"barmode\": \"group\", \"xaxis\": {\"title\": \"Month\", \"type\": \"month\"}, \"legend\": {\"orientation\": \"h\"}}, {\"showLink\": true, \"linkText\": \"Export to plot.ly\"})});</script>"
      ],
      "text/vnd.plotly.v1+html": [
       "<div id=\"a0235ce2-e242-4ada-ab5d-f25251a9c0ea\" style=\"height: 525px; width: 100%;\" class=\"plotly-graph-div\"></div><script type=\"text/javascript\">require([\"plotly\"], function(Plotly) { window.PLOTLYENV=window.PLOTLYENV || {};window.PLOTLYENV.BASE_URL=\"https://plot.ly\";Plotly.newPlot(\"a0235ce2-e242-4ada-ab5d-f25251a9c0ea\", [{\"text\": \"KC, Coffer, Wesley\", \"visible\": \"visible\", \"type\": \"bar\", \"name\": \"doubletime|wages\", \"opacity\": 0.7, \"y\": [0.0, 0.0], \"x\": [\"Feb\", \"Mar\"]}, {\"text\": \"KC, Coffer, Wesley\", \"visible\": \"visible\", \"type\": \"bar\", \"name\": \"overtime|wages\", \"opacity\": 0.7, \"y\": [3927.320068359375, 5940.68017578125], \"x\": [\"Feb\", \"Mar\"]}, {\"text\": \"KC, Coffer, Wesley\", \"visible\": \"visible\", \"type\": \"bar\", \"name\": \"regular|wages\", \"opacity\": 0.7, \"y\": [70242.3125, 35727.1015625], \"x\": [\"Feb\", \"Mar\"]}, {\"text\": \"KC, Coffer, Wesley\", \"visible\": \"visible\", \"type\": \"bar\", \"name\": \"total|wages\", \"opacity\": 0.7, \"y\": [77756.3828125, 44206.66015625], \"x\": [\"Feb\", \"Mar\"]}], {\"yaxis\": {\"showticklabels\": true, \"title\": \"Total Wages ($)\", \"type\": \"linear\"}, \"title\": \"KC, Coffer, Wesley\", \"bargap\": 0.2, \"barmode\": \"group\", \"xaxis\": {\"title\": \"Month\", \"type\": \"month\"}, \"legend\": {\"orientation\": \"h\"}}, {\"showLink\": true, \"linkText\": \"Export to plot.ly\"})});</script>"
      ]
     },
     "metadata": {},
     "output_type": "display_data"
    },
    {
     "name": "stdout",
     "output_type": "stream",
     "text": [
      "\n",
      "\n",
      "KC, Jorgensen, Skylar\n",
      "----------------------------------------------------------------------------------------------------\n",
      "month                 Feb     Mar\n",
      "doubletime|wages     0.00     0.0\n",
      "overtime|wages    1699.96   197.4\n",
      "regular|wages     6615.70  3677.8\n",
      "total|wages       8315.66  3875.2\n"
     ]
    },
    {
     "data": {
      "application/vnd.plotly.v1+json": {
       "data": [
        {
         "name": "doubletime|wages",
         "opacity": 0.7,
         "text": "KC, Jorgensen, Skylar",
         "type": "bar",
         "visible": "visible",
         "x": [
          "Feb",
          "Mar"
         ],
         "y": [
          0,
          0
         ]
        },
        {
         "name": "overtime|wages",
         "opacity": 0.7,
         "text": "KC, Jorgensen, Skylar",
         "type": "bar",
         "visible": "visible",
         "x": [
          "Feb",
          "Mar"
         ],
         "y": [
          1699.9599609375,
          197.39999389648438
         ]
        },
        {
         "name": "regular|wages",
         "opacity": 0.7,
         "text": "KC, Jorgensen, Skylar",
         "type": "bar",
         "visible": "visible",
         "x": [
          "Feb",
          "Mar"
         ],
         "y": [
          6615.7001953125,
          3677.800048828125
         ]
        },
        {
         "name": "total|wages",
         "opacity": 0.7,
         "text": "KC, Jorgensen, Skylar",
         "type": "bar",
         "visible": "visible",
         "x": [
          "Feb",
          "Mar"
         ],
         "y": [
          8315.66015625,
          3875.199951171875
         ]
        }
       ],
       "layout": {
        "bargap": 0.2,
        "barmode": "group",
        "legend": {
         "orientation": "h"
        },
        "title": "KC, Jorgensen, Skylar",
        "xaxis": {
         "title": "Month",
         "type": "month"
        },
        "yaxis": {
         "showticklabels": true,
         "title": "Total Wages ($)",
         "type": "linear"
        }
       }
      },
      "text/html": [
       "<div id=\"d52b9226-b204-43fc-b23b-89629839388e\" style=\"height: 525px; width: 100%;\" class=\"plotly-graph-div\"></div><script type=\"text/javascript\">require([\"plotly\"], function(Plotly) { window.PLOTLYENV=window.PLOTLYENV || {};window.PLOTLYENV.BASE_URL=\"https://plot.ly\";Plotly.newPlot(\"d52b9226-b204-43fc-b23b-89629839388e\", [{\"text\": \"KC, Jorgensen, Skylar\", \"visible\": \"visible\", \"type\": \"bar\", \"name\": \"doubletime|wages\", \"opacity\": 0.7, \"y\": [0.0, 0.0], \"x\": [\"Feb\", \"Mar\"]}, {\"text\": \"KC, Jorgensen, Skylar\", \"visible\": \"visible\", \"type\": \"bar\", \"name\": \"overtime|wages\", \"opacity\": 0.7, \"y\": [1699.9599609375, 197.39999389648438], \"x\": [\"Feb\", \"Mar\"]}, {\"text\": \"KC, Jorgensen, Skylar\", \"visible\": \"visible\", \"type\": \"bar\", \"name\": \"regular|wages\", \"opacity\": 0.7, \"y\": [6615.7001953125, 3677.800048828125], \"x\": [\"Feb\", \"Mar\"]}, {\"text\": \"KC, Jorgensen, Skylar\", \"visible\": \"visible\", \"type\": \"bar\", \"name\": \"total|wages\", \"opacity\": 0.7, \"y\": [8315.66015625, 3875.199951171875], \"x\": [\"Feb\", \"Mar\"]}], {\"yaxis\": {\"showticklabels\": true, \"title\": \"Total Wages ($)\", \"type\": \"linear\"}, \"title\": \"KC, Jorgensen, Skylar\", \"bargap\": 0.2, \"barmode\": \"group\", \"xaxis\": {\"title\": \"Month\", \"type\": \"month\"}, \"legend\": {\"orientation\": \"h\"}}, {\"showLink\": true, \"linkText\": \"Export to plot.ly\"})});</script>"
      ],
      "text/vnd.plotly.v1+html": [
       "<div id=\"d52b9226-b204-43fc-b23b-89629839388e\" style=\"height: 525px; width: 100%;\" class=\"plotly-graph-div\"></div><script type=\"text/javascript\">require([\"plotly\"], function(Plotly) { window.PLOTLYENV=window.PLOTLYENV || {};window.PLOTLYENV.BASE_URL=\"https://plot.ly\";Plotly.newPlot(\"d52b9226-b204-43fc-b23b-89629839388e\", [{\"text\": \"KC, Jorgensen, Skylar\", \"visible\": \"visible\", \"type\": \"bar\", \"name\": \"doubletime|wages\", \"opacity\": 0.7, \"y\": [0.0, 0.0], \"x\": [\"Feb\", \"Mar\"]}, {\"text\": \"KC, Jorgensen, Skylar\", \"visible\": \"visible\", \"type\": \"bar\", \"name\": \"overtime|wages\", \"opacity\": 0.7, \"y\": [1699.9599609375, 197.39999389648438], \"x\": [\"Feb\", \"Mar\"]}, {\"text\": \"KC, Jorgensen, Skylar\", \"visible\": \"visible\", \"type\": \"bar\", \"name\": \"regular|wages\", \"opacity\": 0.7, \"y\": [6615.7001953125, 3677.800048828125], \"x\": [\"Feb\", \"Mar\"]}, {\"text\": \"KC, Jorgensen, Skylar\", \"visible\": \"visible\", \"type\": \"bar\", \"name\": \"total|wages\", \"opacity\": 0.7, \"y\": [8315.66015625, 3875.199951171875], \"x\": [\"Feb\", \"Mar\"]}], {\"yaxis\": {\"showticklabels\": true, \"title\": \"Total Wages ($)\", \"type\": \"linear\"}, \"title\": \"KC, Jorgensen, Skylar\", \"bargap\": 0.2, \"barmode\": \"group\", \"xaxis\": {\"title\": \"Month\", \"type\": \"month\"}, \"legend\": {\"orientation\": \"h\"}}, {\"showLink\": true, \"linkText\": \"Export to plot.ly\"})});</script>"
      ]
     },
     "metadata": {},
     "output_type": "display_data"
    },
    {
     "name": "stdout",
     "output_type": "stream",
     "text": [
      "\n",
      "\n",
      "KC, Surls, Kurtis\n",
      "----------------------------------------------------------------------------------------------------\n",
      "month                  Feb       Mar\n",
      "doubletime|wages    241.49      0.00\n",
      "overtime|wages    10390.64   2491.67\n",
      "regular|wages     36602.89  20332.43\n",
      "total|wages       47235.03  22824.10\n"
     ]
    },
    {
     "data": {
      "application/vnd.plotly.v1+json": {
       "data": [
        {
         "name": "doubletime|wages",
         "opacity": 0.7,
         "text": "KC, Surls, Kurtis",
         "type": "bar",
         "visible": "visible",
         "x": [
          "Feb",
          "Mar"
         ],
         "y": [
          241.49000549316406,
          0
         ]
        },
        {
         "name": "overtime|wages",
         "opacity": 0.7,
         "text": "KC, Surls, Kurtis",
         "type": "bar",
         "visible": "visible",
         "x": [
          "Feb",
          "Mar"
         ],
         "y": [
          10390.6396484375,
          2491.670166015625
         ]
        },
        {
         "name": "regular|wages",
         "opacity": 0.7,
         "text": "KC, Surls, Kurtis",
         "type": "bar",
         "visible": "visible",
         "x": [
          "Feb",
          "Mar"
         ],
         "y": [
          36602.890625,
          20332.4296875
         ]
        },
        {
         "name": "total|wages",
         "opacity": 0.7,
         "text": "KC, Surls, Kurtis",
         "type": "bar",
         "visible": "visible",
         "x": [
          "Feb",
          "Mar"
         ],
         "y": [
          47235.03125,
          22824.099609375
         ]
        }
       ],
       "layout": {
        "bargap": 0.2,
        "barmode": "group",
        "legend": {
         "orientation": "h"
        },
        "title": "KC, Surls, Kurtis",
        "xaxis": {
         "title": "Month",
         "type": "month"
        },
        "yaxis": {
         "showticklabels": true,
         "title": "Total Wages ($)",
         "type": "linear"
        }
       }
      },
      "text/html": [
       "<div id=\"7a06076b-5478-4b4b-9f44-b4d1c0bece40\" style=\"height: 525px; width: 100%;\" class=\"plotly-graph-div\"></div><script type=\"text/javascript\">require([\"plotly\"], function(Plotly) { window.PLOTLYENV=window.PLOTLYENV || {};window.PLOTLYENV.BASE_URL=\"https://plot.ly\";Plotly.newPlot(\"7a06076b-5478-4b4b-9f44-b4d1c0bece40\", [{\"text\": \"KC, Surls, Kurtis\", \"visible\": \"visible\", \"type\": \"bar\", \"name\": \"doubletime|wages\", \"opacity\": 0.7, \"y\": [241.49000549316406, 0.0], \"x\": [\"Feb\", \"Mar\"]}, {\"text\": \"KC, Surls, Kurtis\", \"visible\": \"visible\", \"type\": \"bar\", \"name\": \"overtime|wages\", \"opacity\": 0.7, \"y\": [10390.6396484375, 2491.670166015625], \"x\": [\"Feb\", \"Mar\"]}, {\"text\": \"KC, Surls, Kurtis\", \"visible\": \"visible\", \"type\": \"bar\", \"name\": \"regular|wages\", \"opacity\": 0.7, \"y\": [36602.890625, 20332.4296875], \"x\": [\"Feb\", \"Mar\"]}, {\"text\": \"KC, Surls, Kurtis\", \"visible\": \"visible\", \"type\": \"bar\", \"name\": \"total|wages\", \"opacity\": 0.7, \"y\": [47235.03125, 22824.099609375], \"x\": [\"Feb\", \"Mar\"]}], {\"yaxis\": {\"showticklabels\": true, \"title\": \"Total Wages ($)\", \"type\": \"linear\"}, \"title\": \"KC, Surls, Kurtis\", \"bargap\": 0.2, \"barmode\": \"group\", \"xaxis\": {\"title\": \"Month\", \"type\": \"month\"}, \"legend\": {\"orientation\": \"h\"}}, {\"showLink\": true, \"linkText\": \"Export to plot.ly\"})});</script>"
      ],
      "text/vnd.plotly.v1+html": [
       "<div id=\"7a06076b-5478-4b4b-9f44-b4d1c0bece40\" style=\"height: 525px; width: 100%;\" class=\"plotly-graph-div\"></div><script type=\"text/javascript\">require([\"plotly\"], function(Plotly) { window.PLOTLYENV=window.PLOTLYENV || {};window.PLOTLYENV.BASE_URL=\"https://plot.ly\";Plotly.newPlot(\"7a06076b-5478-4b4b-9f44-b4d1c0bece40\", [{\"text\": \"KC, Surls, Kurtis\", \"visible\": \"visible\", \"type\": \"bar\", \"name\": \"doubletime|wages\", \"opacity\": 0.7, \"y\": [241.49000549316406, 0.0], \"x\": [\"Feb\", \"Mar\"]}, {\"text\": \"KC, Surls, Kurtis\", \"visible\": \"visible\", \"type\": \"bar\", \"name\": \"overtime|wages\", \"opacity\": 0.7, \"y\": [10390.6396484375, 2491.670166015625], \"x\": [\"Feb\", \"Mar\"]}, {\"text\": \"KC, Surls, Kurtis\", \"visible\": \"visible\", \"type\": \"bar\", \"name\": \"regular|wages\", \"opacity\": 0.7, \"y\": [36602.890625, 20332.4296875], \"x\": [\"Feb\", \"Mar\"]}, {\"text\": \"KC, Surls, Kurtis\", \"visible\": \"visible\", \"type\": \"bar\", \"name\": \"total|wages\", \"opacity\": 0.7, \"y\": [47235.03125, 22824.099609375], \"x\": [\"Feb\", \"Mar\"]}], {\"yaxis\": {\"showticklabels\": true, \"title\": \"Total Wages ($)\", \"type\": \"linear\"}, \"title\": \"KC, Surls, Kurtis\", \"bargap\": 0.2, \"barmode\": \"group\", \"xaxis\": {\"title\": \"Month\", \"type\": \"month\"}, \"legend\": {\"orientation\": \"h\"}}, {\"showLink\": true, \"linkText\": \"Export to plot.ly\"})});</script>"
      ]
     },
     "metadata": {},
     "output_type": "display_data"
    },
    {
     "name": "stdout",
     "output_type": "stream",
     "text": [
      "\n",
      "\n",
      "STL, Hercher, Donald\n",
      "----------------------------------------------------------------------------------------------------\n",
      "month                  Feb       Mar\n",
      "doubletime|wages    357.92      0.00\n",
      "overtime|wages     2920.02   2144.17\n",
      "regular|wages     72125.32  41091.64\n",
      "total|wages       80350.70  44567.21\n"
     ]
    },
    {
     "data": {
      "application/vnd.plotly.v1+json": {
       "data": [
        {
         "name": "doubletime|wages",
         "opacity": 0.7,
         "text": "STL, Hercher, Donald",
         "type": "bar",
         "visible": "visible",
         "x": [
          "Feb",
          "Mar"
         ],
         "y": [
          357.9200134277344,
          0
         ]
        },
        {
         "name": "overtime|wages",
         "opacity": 0.7,
         "text": "STL, Hercher, Donald",
         "type": "bar",
         "visible": "visible",
         "x": [
          "Feb",
          "Mar"
         ],
         "y": [
          2920.02001953125,
          2144.169921875
         ]
        },
        {
         "name": "regular|wages",
         "opacity": 0.7,
         "text": "STL, Hercher, Donald",
         "type": "bar",
         "visible": "visible",
         "x": [
          "Feb",
          "Mar"
         ],
         "y": [
          72125.3203125,
          41091.640625
         ]
        },
        {
         "name": "total|wages",
         "opacity": 0.7,
         "text": "STL, Hercher, Donald",
         "type": "bar",
         "visible": "visible",
         "x": [
          "Feb",
          "Mar"
         ],
         "y": [
          80350.703125,
          44567.2109375
         ]
        }
       ],
       "layout": {
        "bargap": 0.2,
        "barmode": "group",
        "legend": {
         "orientation": "h"
        },
        "title": "STL, Hercher, Donald",
        "xaxis": {
         "title": "Month",
         "type": "month"
        },
        "yaxis": {
         "showticklabels": true,
         "title": "Total Wages ($)",
         "type": "linear"
        }
       }
      },
      "text/html": [
       "<div id=\"5949b11d-2131-4c98-b4b9-7088574d43cc\" style=\"height: 525px; width: 100%;\" class=\"plotly-graph-div\"></div><script type=\"text/javascript\">require([\"plotly\"], function(Plotly) { window.PLOTLYENV=window.PLOTLYENV || {};window.PLOTLYENV.BASE_URL=\"https://plot.ly\";Plotly.newPlot(\"5949b11d-2131-4c98-b4b9-7088574d43cc\", [{\"text\": \"STL, Hercher, Donald\", \"visible\": \"visible\", \"type\": \"bar\", \"name\": \"doubletime|wages\", \"opacity\": 0.7, \"y\": [357.9200134277344, 0.0], \"x\": [\"Feb\", \"Mar\"]}, {\"text\": \"STL, Hercher, Donald\", \"visible\": \"visible\", \"type\": \"bar\", \"name\": \"overtime|wages\", \"opacity\": 0.7, \"y\": [2920.02001953125, 2144.169921875], \"x\": [\"Feb\", \"Mar\"]}, {\"text\": \"STL, Hercher, Donald\", \"visible\": \"visible\", \"type\": \"bar\", \"name\": \"regular|wages\", \"opacity\": 0.7, \"y\": [72125.3203125, 41091.640625], \"x\": [\"Feb\", \"Mar\"]}, {\"text\": \"STL, Hercher, Donald\", \"visible\": \"visible\", \"type\": \"bar\", \"name\": \"total|wages\", \"opacity\": 0.7, \"y\": [80350.703125, 44567.2109375], \"x\": [\"Feb\", \"Mar\"]}], {\"yaxis\": {\"showticklabels\": true, \"title\": \"Total Wages ($)\", \"type\": \"linear\"}, \"title\": \"STL, Hercher, Donald\", \"bargap\": 0.2, \"barmode\": \"group\", \"xaxis\": {\"title\": \"Month\", \"type\": \"month\"}, \"legend\": {\"orientation\": \"h\"}}, {\"showLink\": true, \"linkText\": \"Export to plot.ly\"})});</script>"
      ],
      "text/vnd.plotly.v1+html": [
       "<div id=\"5949b11d-2131-4c98-b4b9-7088574d43cc\" style=\"height: 525px; width: 100%;\" class=\"plotly-graph-div\"></div><script type=\"text/javascript\">require([\"plotly\"], function(Plotly) { window.PLOTLYENV=window.PLOTLYENV || {};window.PLOTLYENV.BASE_URL=\"https://plot.ly\";Plotly.newPlot(\"5949b11d-2131-4c98-b4b9-7088574d43cc\", [{\"text\": \"STL, Hercher, Donald\", \"visible\": \"visible\", \"type\": \"bar\", \"name\": \"doubletime|wages\", \"opacity\": 0.7, \"y\": [357.9200134277344, 0.0], \"x\": [\"Feb\", \"Mar\"]}, {\"text\": \"STL, Hercher, Donald\", \"visible\": \"visible\", \"type\": \"bar\", \"name\": \"overtime|wages\", \"opacity\": 0.7, \"y\": [2920.02001953125, 2144.169921875], \"x\": [\"Feb\", \"Mar\"]}, {\"text\": \"STL, Hercher, Donald\", \"visible\": \"visible\", \"type\": \"bar\", \"name\": \"regular|wages\", \"opacity\": 0.7, \"y\": [72125.3203125, 41091.640625], \"x\": [\"Feb\", \"Mar\"]}, {\"text\": \"STL, Hercher, Donald\", \"visible\": \"visible\", \"type\": \"bar\", \"name\": \"total|wages\", \"opacity\": 0.7, \"y\": [80350.703125, 44567.2109375], \"x\": [\"Feb\", \"Mar\"]}], {\"yaxis\": {\"showticklabels\": true, \"title\": \"Total Wages ($)\", \"type\": \"linear\"}, \"title\": \"STL, Hercher, Donald\", \"bargap\": 0.2, \"barmode\": \"group\", \"xaxis\": {\"title\": \"Month\", \"type\": \"month\"}, \"legend\": {\"orientation\": \"h\"}}, {\"showLink\": true, \"linkText\": \"Export to plot.ly\"})});</script>"
      ]
     },
     "metadata": {},
     "output_type": "display_data"
    },
    {
     "name": "stdout",
     "output_type": "stream",
     "text": [
      "\n",
      "\n",
      "STL, Manning, Travis\n",
      "----------------------------------------------------------------------------------------------------\n",
      "month                   Feb       Mar\n",
      "doubletime|wages     182.96      0.00\n",
      "overtime|wages       890.18   1351.79\n",
      "regular|wages     118480.09  66104.37\n",
      "total|wages       121208.00  70226.41\n"
     ]
    },
    {
     "data": {
      "application/vnd.plotly.v1+json": {
       "data": [
        {
         "name": "doubletime|wages",
         "opacity": 0.7,
         "text": "STL, Manning, Travis",
         "type": "bar",
         "visible": "visible",
         "x": [
          "Feb",
          "Mar"
         ],
         "y": [
          182.9600067138672,
          0
         ]
        },
        {
         "name": "overtime|wages",
         "opacity": 0.7,
         "text": "STL, Manning, Travis",
         "type": "bar",
         "visible": "visible",
         "x": [
          "Feb",
          "Mar"
         ],
         "y": [
          890.1799926757812,
          1351.7900390625
         ]
        },
        {
         "name": "regular|wages",
         "opacity": 0.7,
         "text": "STL, Manning, Travis",
         "type": "bar",
         "visible": "visible",
         "x": [
          "Feb",
          "Mar"
         ],
         "y": [
          118480.09375,
          66104.3671875
         ]
        },
        {
         "name": "total|wages",
         "opacity": 0.7,
         "text": "STL, Manning, Travis",
         "type": "bar",
         "visible": "visible",
         "x": [
          "Feb",
          "Mar"
         ],
         "y": [
          121208,
          70226.40625
         ]
        }
       ],
       "layout": {
        "bargap": 0.2,
        "barmode": "group",
        "legend": {
         "orientation": "h"
        },
        "title": "STL, Manning, Travis",
        "xaxis": {
         "title": "Month",
         "type": "month"
        },
        "yaxis": {
         "showticklabels": true,
         "title": "Total Wages ($)",
         "type": "linear"
        }
       }
      },
      "text/html": [
       "<div id=\"2daca28c-c00a-4efa-a478-6d7574e1b022\" style=\"height: 525px; width: 100%;\" class=\"plotly-graph-div\"></div><script type=\"text/javascript\">require([\"plotly\"], function(Plotly) { window.PLOTLYENV=window.PLOTLYENV || {};window.PLOTLYENV.BASE_URL=\"https://plot.ly\";Plotly.newPlot(\"2daca28c-c00a-4efa-a478-6d7574e1b022\", [{\"text\": \"STL, Manning, Travis\", \"visible\": \"visible\", \"type\": \"bar\", \"name\": \"doubletime|wages\", \"opacity\": 0.7, \"y\": [182.9600067138672, 0.0], \"x\": [\"Feb\", \"Mar\"]}, {\"text\": \"STL, Manning, Travis\", \"visible\": \"visible\", \"type\": \"bar\", \"name\": \"overtime|wages\", \"opacity\": 0.7, \"y\": [890.1799926757812, 1351.7900390625], \"x\": [\"Feb\", \"Mar\"]}, {\"text\": \"STL, Manning, Travis\", \"visible\": \"visible\", \"type\": \"bar\", \"name\": \"regular|wages\", \"opacity\": 0.7, \"y\": [118480.09375, 66104.3671875], \"x\": [\"Feb\", \"Mar\"]}, {\"text\": \"STL, Manning, Travis\", \"visible\": \"visible\", \"type\": \"bar\", \"name\": \"total|wages\", \"opacity\": 0.7, \"y\": [121208.0, 70226.40625], \"x\": [\"Feb\", \"Mar\"]}], {\"yaxis\": {\"showticklabels\": true, \"title\": \"Total Wages ($)\", \"type\": \"linear\"}, \"title\": \"STL, Manning, Travis\", \"bargap\": 0.2, \"barmode\": \"group\", \"xaxis\": {\"title\": \"Month\", \"type\": \"month\"}, \"legend\": {\"orientation\": \"h\"}}, {\"showLink\": true, \"linkText\": \"Export to plot.ly\"})});</script>"
      ],
      "text/vnd.plotly.v1+html": [
       "<div id=\"2daca28c-c00a-4efa-a478-6d7574e1b022\" style=\"height: 525px; width: 100%;\" class=\"plotly-graph-div\"></div><script type=\"text/javascript\">require([\"plotly\"], function(Plotly) { window.PLOTLYENV=window.PLOTLYENV || {};window.PLOTLYENV.BASE_URL=\"https://plot.ly\";Plotly.newPlot(\"2daca28c-c00a-4efa-a478-6d7574e1b022\", [{\"text\": \"STL, Manning, Travis\", \"visible\": \"visible\", \"type\": \"bar\", \"name\": \"doubletime|wages\", \"opacity\": 0.7, \"y\": [182.9600067138672, 0.0], \"x\": [\"Feb\", \"Mar\"]}, {\"text\": \"STL, Manning, Travis\", \"visible\": \"visible\", \"type\": \"bar\", \"name\": \"overtime|wages\", \"opacity\": 0.7, \"y\": [890.1799926757812, 1351.7900390625], \"x\": [\"Feb\", \"Mar\"]}, {\"text\": \"STL, Manning, Travis\", \"visible\": \"visible\", \"type\": \"bar\", \"name\": \"regular|wages\", \"opacity\": 0.7, \"y\": [118480.09375, 66104.3671875], \"x\": [\"Feb\", \"Mar\"]}, {\"text\": \"STL, Manning, Travis\", \"visible\": \"visible\", \"type\": \"bar\", \"name\": \"total|wages\", \"opacity\": 0.7, \"y\": [121208.0, 70226.40625], \"x\": [\"Feb\", \"Mar\"]}], {\"yaxis\": {\"showticklabels\": true, \"title\": \"Total Wages ($)\", \"type\": \"linear\"}, \"title\": \"STL, Manning, Travis\", \"bargap\": 0.2, \"barmode\": \"group\", \"xaxis\": {\"title\": \"Month\", \"type\": \"month\"}, \"legend\": {\"orientation\": \"h\"}}, {\"showLink\": true, \"linkText\": \"Export to plot.ly\"})});</script>"
      ]
     },
     "metadata": {},
     "output_type": "display_data"
    },
    {
     "name": "stdout",
     "output_type": "stream",
     "text": [
      "\n",
      "\n"
     ]
    }
   ],
   "source": [
    "# specify parameters\n",
    "subgroup = 'reports_to_name'\n",
    "y_list = ['doubletime|wages', 'overtime|wages', 'regular|wages', 'total|wages']\n",
    "\n",
    "print('''\n",
    "Wages ($) by Warehouse/Manager\n",
    "''')\n",
    "\n",
    "interactive_bar_plot(ops_df, y_list, subgroup)"
   ]
  },
  {
   "cell_type": "markdown",
   "metadata": {},
   "source": [
    "## Wages by Warehouse & Labor Level"
   ]
  },
  {
   "cell_type": "code",
   "execution_count": 19,
   "metadata": {
    "hideCode": true,
    "scrolled": false
   },
   "outputs": [
    {
     "name": "stdout",
     "output_type": "stream",
     "text": [
      "\n",
      "Wages ($) by Warehouse/Labor Level\n",
      "\n",
      "KC, Shipping Casual\n",
      "----------------------------------------------------------------------------------------------------\n",
      "month                  Feb       Mar\n",
      "doubletime|wages      0.00      0.00\n",
      "overtime|wages      822.50   2275.39\n",
      "regular|wages     29174.09  13495.24\n",
      "total|wages       29996.59  15770.63\n"
     ]
    },
    {
     "data": {
      "application/vnd.plotly.v1+json": {
       "data": [
        {
         "name": "doubletime|wages",
         "opacity": 0.7,
         "text": "KC, Shipping Casual",
         "type": "bar",
         "visible": "visible",
         "x": [
          "Feb",
          "Mar"
         ],
         "y": [
          0,
          0
         ]
        },
        {
         "name": "overtime|wages",
         "opacity": 0.7,
         "text": "KC, Shipping Casual",
         "type": "bar",
         "visible": "visible",
         "x": [
          "Feb",
          "Mar"
         ],
         "y": [
          822.5,
          2275.389892578125
         ]
        },
        {
         "name": "regular|wages",
         "opacity": 0.7,
         "text": "KC, Shipping Casual",
         "type": "bar",
         "visible": "visible",
         "x": [
          "Feb",
          "Mar"
         ],
         "y": [
          29174.08984375,
          13495.240234375
         ]
        },
        {
         "name": "total|wages",
         "opacity": 0.7,
         "text": "KC, Shipping Casual",
         "type": "bar",
         "visible": "visible",
         "x": [
          "Feb",
          "Mar"
         ],
         "y": [
          29996.58984375,
          15770.6298828125
         ]
        }
       ],
       "layout": {
        "bargap": 0.2,
        "barmode": "group",
        "legend": {
         "orientation": "h"
        },
        "title": "KC, Shipping Casual",
        "xaxis": {
         "title": "Month",
         "type": "month"
        },
        "yaxis": {
         "showticklabels": true,
         "title": "Total Wages ($)",
         "type": "linear"
        }
       }
      },
      "text/html": [
       "<div id=\"88638f30-f650-4fe4-8e9e-cf5b860fd6ad\" style=\"height: 525px; width: 100%;\" class=\"plotly-graph-div\"></div><script type=\"text/javascript\">require([\"plotly\"], function(Plotly) { window.PLOTLYENV=window.PLOTLYENV || {};window.PLOTLYENV.BASE_URL=\"https://plot.ly\";Plotly.newPlot(\"88638f30-f650-4fe4-8e9e-cf5b860fd6ad\", [{\"text\": \"KC, Shipping Casual\", \"visible\": \"visible\", \"type\": \"bar\", \"name\": \"doubletime|wages\", \"opacity\": 0.7, \"y\": [0.0, 0.0], \"x\": [\"Feb\", \"Mar\"]}, {\"text\": \"KC, Shipping Casual\", \"visible\": \"visible\", \"type\": \"bar\", \"name\": \"overtime|wages\", \"opacity\": 0.7, \"y\": [822.5, 2275.389892578125], \"x\": [\"Feb\", \"Mar\"]}, {\"text\": \"KC, Shipping Casual\", \"visible\": \"visible\", \"type\": \"bar\", \"name\": \"regular|wages\", \"opacity\": 0.7, \"y\": [29174.08984375, 13495.240234375], \"x\": [\"Feb\", \"Mar\"]}, {\"text\": \"KC, Shipping Casual\", \"visible\": \"visible\", \"type\": \"bar\", \"name\": \"total|wages\", \"opacity\": 0.7, \"y\": [29996.58984375, 15770.6298828125], \"x\": [\"Feb\", \"Mar\"]}], {\"yaxis\": {\"showticklabels\": true, \"title\": \"Total Wages ($)\", \"type\": \"linear\"}, \"title\": \"KC, Shipping Casual\", \"bargap\": 0.2, \"barmode\": \"group\", \"xaxis\": {\"title\": \"Month\", \"type\": \"month\"}, \"legend\": {\"orientation\": \"h\"}}, {\"showLink\": true, \"linkText\": \"Export to plot.ly\"})});</script>"
      ],
      "text/vnd.plotly.v1+html": [
       "<div id=\"88638f30-f650-4fe4-8e9e-cf5b860fd6ad\" style=\"height: 525px; width: 100%;\" class=\"plotly-graph-div\"></div><script type=\"text/javascript\">require([\"plotly\"], function(Plotly) { window.PLOTLYENV=window.PLOTLYENV || {};window.PLOTLYENV.BASE_URL=\"https://plot.ly\";Plotly.newPlot(\"88638f30-f650-4fe4-8e9e-cf5b860fd6ad\", [{\"text\": \"KC, Shipping Casual\", \"visible\": \"visible\", \"type\": \"bar\", \"name\": \"doubletime|wages\", \"opacity\": 0.7, \"y\": [0.0, 0.0], \"x\": [\"Feb\", \"Mar\"]}, {\"text\": \"KC, Shipping Casual\", \"visible\": \"visible\", \"type\": \"bar\", \"name\": \"overtime|wages\", \"opacity\": 0.7, \"y\": [822.5, 2275.389892578125], \"x\": [\"Feb\", \"Mar\"]}, {\"text\": \"KC, Shipping Casual\", \"visible\": \"visible\", \"type\": \"bar\", \"name\": \"regular|wages\", \"opacity\": 0.7, \"y\": [29174.08984375, 13495.240234375], \"x\": [\"Feb\", \"Mar\"]}, {\"text\": \"KC, Shipping Casual\", \"visible\": \"visible\", \"type\": \"bar\", \"name\": \"total|wages\", \"opacity\": 0.7, \"y\": [29996.58984375, 15770.6298828125], \"x\": [\"Feb\", \"Mar\"]}], {\"yaxis\": {\"showticklabels\": true, \"title\": \"Total Wages ($)\", \"type\": \"linear\"}, \"title\": \"KC, Shipping Casual\", \"bargap\": 0.2, \"barmode\": \"group\", \"xaxis\": {\"title\": \"Month\", \"type\": \"month\"}, \"legend\": {\"orientation\": \"h\"}}, {\"showLink\": true, \"linkText\": \"Export to plot.ly\"})});</script>"
      ]
     },
     "metadata": {},
     "output_type": "display_data"
    },
    {
     "name": "stdout",
     "output_type": "stream",
     "text": [
      "\n",
      "\n",
      "KC, Shipping Wages\n",
      "----------------------------------------------------------------------------------------------------\n",
      "month                  Feb       Mar\n",
      "doubletime|wages      0.00      0.00\n",
      "overtime|wages     3104.82   3665.29\n",
      "regular|wages     41068.22  22231.86\n",
      "total|wages       47759.79  28436.03\n"
     ]
    },
    {
     "data": {
      "application/vnd.plotly.v1+json": {
       "data": [
        {
         "name": "doubletime|wages",
         "opacity": 0.7,
         "text": "KC, Shipping Wages",
         "type": "bar",
         "visible": "visible",
         "x": [
          "Feb",
          "Mar"
         ],
         "y": [
          0,
          0
         ]
        },
        {
         "name": "overtime|wages",
         "opacity": 0.7,
         "text": "KC, Shipping Wages",
         "type": "bar",
         "visible": "visible",
         "x": [
          "Feb",
          "Mar"
         ],
         "y": [
          3104.820068359375,
          3665.2900390625
         ]
        },
        {
         "name": "regular|wages",
         "opacity": 0.7,
         "text": "KC, Shipping Wages",
         "type": "bar",
         "visible": "visible",
         "x": [
          "Feb",
          "Mar"
         ],
         "y": [
          41068.21875,
          22231.859375
         ]
        },
        {
         "name": "total|wages",
         "opacity": 0.7,
         "text": "KC, Shipping Wages",
         "type": "bar",
         "visible": "visible",
         "x": [
          "Feb",
          "Mar"
         ],
         "y": [
          47759.7890625,
          28436.029296875
         ]
        }
       ],
       "layout": {
        "bargap": 0.2,
        "barmode": "group",
        "legend": {
         "orientation": "h"
        },
        "title": "KC, Shipping Wages",
        "xaxis": {
         "title": "Month",
         "type": "month"
        },
        "yaxis": {
         "showticklabels": true,
         "title": "Total Wages ($)",
         "type": "linear"
        }
       }
      },
      "text/html": [
       "<div id=\"f3867a5c-be73-4bf3-82a7-cbe6ef34433a\" style=\"height: 525px; width: 100%;\" class=\"plotly-graph-div\"></div><script type=\"text/javascript\">require([\"plotly\"], function(Plotly) { window.PLOTLYENV=window.PLOTLYENV || {};window.PLOTLYENV.BASE_URL=\"https://plot.ly\";Plotly.newPlot(\"f3867a5c-be73-4bf3-82a7-cbe6ef34433a\", [{\"text\": \"KC, Shipping Wages\", \"visible\": \"visible\", \"type\": \"bar\", \"name\": \"doubletime|wages\", \"opacity\": 0.7, \"y\": [0.0, 0.0], \"x\": [\"Feb\", \"Mar\"]}, {\"text\": \"KC, Shipping Wages\", \"visible\": \"visible\", \"type\": \"bar\", \"name\": \"overtime|wages\", \"opacity\": 0.7, \"y\": [3104.820068359375, 3665.2900390625], \"x\": [\"Feb\", \"Mar\"]}, {\"text\": \"KC, Shipping Wages\", \"visible\": \"visible\", \"type\": \"bar\", \"name\": \"regular|wages\", \"opacity\": 0.7, \"y\": [41068.21875, 22231.859375], \"x\": [\"Feb\", \"Mar\"]}, {\"text\": \"KC, Shipping Wages\", \"visible\": \"visible\", \"type\": \"bar\", \"name\": \"total|wages\", \"opacity\": 0.7, \"y\": [47759.7890625, 28436.029296875], \"x\": [\"Feb\", \"Mar\"]}], {\"yaxis\": {\"showticklabels\": true, \"title\": \"Total Wages ($)\", \"type\": \"linear\"}, \"title\": \"KC, Shipping Wages\", \"bargap\": 0.2, \"barmode\": \"group\", \"xaxis\": {\"title\": \"Month\", \"type\": \"month\"}, \"legend\": {\"orientation\": \"h\"}}, {\"showLink\": true, \"linkText\": \"Export to plot.ly\"})});</script>"
      ],
      "text/vnd.plotly.v1+html": [
       "<div id=\"f3867a5c-be73-4bf3-82a7-cbe6ef34433a\" style=\"height: 525px; width: 100%;\" class=\"plotly-graph-div\"></div><script type=\"text/javascript\">require([\"plotly\"], function(Plotly) { window.PLOTLYENV=window.PLOTLYENV || {};window.PLOTLYENV.BASE_URL=\"https://plot.ly\";Plotly.newPlot(\"f3867a5c-be73-4bf3-82a7-cbe6ef34433a\", [{\"text\": \"KC, Shipping Wages\", \"visible\": \"visible\", \"type\": \"bar\", \"name\": \"doubletime|wages\", \"opacity\": 0.7, \"y\": [0.0, 0.0], \"x\": [\"Feb\", \"Mar\"]}, {\"text\": \"KC, Shipping Wages\", \"visible\": \"visible\", \"type\": \"bar\", \"name\": \"overtime|wages\", \"opacity\": 0.7, \"y\": [3104.820068359375, 3665.2900390625], \"x\": [\"Feb\", \"Mar\"]}, {\"text\": \"KC, Shipping Wages\", \"visible\": \"visible\", \"type\": \"bar\", \"name\": \"regular|wages\", \"opacity\": 0.7, \"y\": [41068.21875, 22231.859375], \"x\": [\"Feb\", \"Mar\"]}, {\"text\": \"KC, Shipping Wages\", \"visible\": \"visible\", \"type\": \"bar\", \"name\": \"total|wages\", \"opacity\": 0.7, \"y\": [47759.7890625, 28436.029296875], \"x\": [\"Feb\", \"Mar\"]}], {\"yaxis\": {\"showticklabels\": true, \"title\": \"Total Wages ($)\", \"type\": \"linear\"}, \"title\": \"KC, Shipping Wages\", \"bargap\": 0.2, \"barmode\": \"group\", \"xaxis\": {\"title\": \"Month\", \"type\": \"month\"}, \"legend\": {\"orientation\": \"h\"}}, {\"showLink\": true, \"linkText\": \"Export to plot.ly\"})});</script>"
      ]
     },
     "metadata": {},
     "output_type": "display_data"
    },
    {
     "name": "stdout",
     "output_type": "stream",
     "text": [
      "\n",
      "\n",
      "KC, Warehouse Casual\n",
      "----------------------------------------------------------------------------------------------------\n",
      "month                  Feb       Mar\n",
      "doubletime|wages      0.00      0.00\n",
      "overtime|wages     5716.52   1368.12\n",
      "regular|wages     23243.36  13031.09\n",
      "total|wages       28959.90  14399.21\n"
     ]
    },
    {
     "data": {
      "application/vnd.plotly.v1+json": {
       "data": [
        {
         "name": "doubletime|wages",
         "opacity": 0.7,
         "text": "KC, Warehouse Casual",
         "type": "bar",
         "visible": "visible",
         "x": [
          "Feb",
          "Mar"
         ],
         "y": [
          0,
          0
         ]
        },
        {
         "name": "overtime|wages",
         "opacity": 0.7,
         "text": "KC, Warehouse Casual",
         "type": "bar",
         "visible": "visible",
         "x": [
          "Feb",
          "Mar"
         ],
         "y": [
          5716.52001953125,
          1368.1199951171875
         ]
        },
        {
         "name": "regular|wages",
         "opacity": 0.7,
         "text": "KC, Warehouse Casual",
         "type": "bar",
         "visible": "visible",
         "x": [
          "Feb",
          "Mar"
         ],
         "y": [
          23243.359375,
          13031.08984375
         ]
        },
        {
         "name": "total|wages",
         "opacity": 0.7,
         "text": "KC, Warehouse Casual",
         "type": "bar",
         "visible": "visible",
         "x": [
          "Feb",
          "Mar"
         ],
         "y": [
          28959.900390625,
          14399.2099609375
         ]
        }
       ],
       "layout": {
        "bargap": 0.2,
        "barmode": "group",
        "legend": {
         "orientation": "h"
        },
        "title": "KC, Warehouse Casual",
        "xaxis": {
         "title": "Month",
         "type": "month"
        },
        "yaxis": {
         "showticklabels": true,
         "title": "Total Wages ($)",
         "type": "linear"
        }
       }
      },
      "text/html": [
       "<div id=\"29bf701d-e8a5-4b1a-855d-0936ba5a0801\" style=\"height: 525px; width: 100%;\" class=\"plotly-graph-div\"></div><script type=\"text/javascript\">require([\"plotly\"], function(Plotly) { window.PLOTLYENV=window.PLOTLYENV || {};window.PLOTLYENV.BASE_URL=\"https://plot.ly\";Plotly.newPlot(\"29bf701d-e8a5-4b1a-855d-0936ba5a0801\", [{\"text\": \"KC, Warehouse Casual\", \"visible\": \"visible\", \"type\": \"bar\", \"name\": \"doubletime|wages\", \"opacity\": 0.7, \"y\": [0.0, 0.0], \"x\": [\"Feb\", \"Mar\"]}, {\"text\": \"KC, Warehouse Casual\", \"visible\": \"visible\", \"type\": \"bar\", \"name\": \"overtime|wages\", \"opacity\": 0.7, \"y\": [5716.52001953125, 1368.1199951171875], \"x\": [\"Feb\", \"Mar\"]}, {\"text\": \"KC, Warehouse Casual\", \"visible\": \"visible\", \"type\": \"bar\", \"name\": \"regular|wages\", \"opacity\": 0.7, \"y\": [23243.359375, 13031.08984375], \"x\": [\"Feb\", \"Mar\"]}, {\"text\": \"KC, Warehouse Casual\", \"visible\": \"visible\", \"type\": \"bar\", \"name\": \"total|wages\", \"opacity\": 0.7, \"y\": [28959.900390625, 14399.2099609375], \"x\": [\"Feb\", \"Mar\"]}], {\"yaxis\": {\"showticklabels\": true, \"title\": \"Total Wages ($)\", \"type\": \"linear\"}, \"title\": \"KC, Warehouse Casual\", \"bargap\": 0.2, \"barmode\": \"group\", \"xaxis\": {\"title\": \"Month\", \"type\": \"month\"}, \"legend\": {\"orientation\": \"h\"}}, {\"showLink\": true, \"linkText\": \"Export to plot.ly\"})});</script>"
      ],
      "text/vnd.plotly.v1+html": [
       "<div id=\"29bf701d-e8a5-4b1a-855d-0936ba5a0801\" style=\"height: 525px; width: 100%;\" class=\"plotly-graph-div\"></div><script type=\"text/javascript\">require([\"plotly\"], function(Plotly) { window.PLOTLYENV=window.PLOTLYENV || {};window.PLOTLYENV.BASE_URL=\"https://plot.ly\";Plotly.newPlot(\"29bf701d-e8a5-4b1a-855d-0936ba5a0801\", [{\"text\": \"KC, Warehouse Casual\", \"visible\": \"visible\", \"type\": \"bar\", \"name\": \"doubletime|wages\", \"opacity\": 0.7, \"y\": [0.0, 0.0], \"x\": [\"Feb\", \"Mar\"]}, {\"text\": \"KC, Warehouse Casual\", \"visible\": \"visible\", \"type\": \"bar\", \"name\": \"overtime|wages\", \"opacity\": 0.7, \"y\": [5716.52001953125, 1368.1199951171875], \"x\": [\"Feb\", \"Mar\"]}, {\"text\": \"KC, Warehouse Casual\", \"visible\": \"visible\", \"type\": \"bar\", \"name\": \"regular|wages\", \"opacity\": 0.7, \"y\": [23243.359375, 13031.08984375], \"x\": [\"Feb\", \"Mar\"]}, {\"text\": \"KC, Warehouse Casual\", \"visible\": \"visible\", \"type\": \"bar\", \"name\": \"total|wages\", \"opacity\": 0.7, \"y\": [28959.900390625, 14399.2099609375], \"x\": [\"Feb\", \"Mar\"]}], {\"yaxis\": {\"showticklabels\": true, \"title\": \"Total Wages ($)\", \"type\": \"linear\"}, \"title\": \"KC, Warehouse Casual\", \"bargap\": 0.2, \"barmode\": \"group\", \"xaxis\": {\"title\": \"Month\", \"type\": \"month\"}, \"legend\": {\"orientation\": \"h\"}}, {\"showLink\": true, \"linkText\": \"Export to plot.ly\"})});</script>"
      ]
     },
     "metadata": {},
     "output_type": "display_data"
    },
    {
     "name": "stdout",
     "output_type": "stream",
     "text": [
      "\n",
      "\n",
      "KC, Warehouse Repacking\n",
      "----------------------------------------------------------------------------------------------------\n",
      "month                 Feb\n",
      "doubletime|wages     0.00\n",
      "overtime|wages     725.37\n",
      "regular|wages      305.37\n",
      "total|wages       1030.74\n"
     ]
    },
    {
     "data": {
      "application/vnd.plotly.v1+json": {
       "data": [
        {
         "name": "doubletime|wages",
         "opacity": 0.7,
         "text": "KC, Warehouse Repacking",
         "type": "bar",
         "visible": "visible",
         "x": [
          "Feb"
         ],
         "y": [
          0
         ]
        },
        {
         "name": "overtime|wages",
         "opacity": 0.7,
         "text": "KC, Warehouse Repacking",
         "type": "bar",
         "visible": "visible",
         "x": [
          "Feb"
         ],
         "y": [
          725.3699951171875
         ]
        },
        {
         "name": "regular|wages",
         "opacity": 0.7,
         "text": "KC, Warehouse Repacking",
         "type": "bar",
         "visible": "visible",
         "x": [
          "Feb"
         ],
         "y": [
          305.3699951171875
         ]
        },
        {
         "name": "total|wages",
         "opacity": 0.7,
         "text": "KC, Warehouse Repacking",
         "type": "bar",
         "visible": "visible",
         "x": [
          "Feb"
         ],
         "y": [
          1030.739990234375
         ]
        }
       ],
       "layout": {
        "bargap": 0.2,
        "barmode": "group",
        "legend": {
         "orientation": "h"
        },
        "title": "KC, Warehouse Repacking",
        "xaxis": {
         "title": "Month",
         "type": "month"
        },
        "yaxis": {
         "showticklabels": true,
         "title": "Total Wages ($)",
         "type": "linear"
        }
       }
      },
      "text/html": [
       "<div id=\"03defc1c-2785-46ae-aa73-d4819960301f\" style=\"height: 525px; width: 100%;\" class=\"plotly-graph-div\"></div><script type=\"text/javascript\">require([\"plotly\"], function(Plotly) { window.PLOTLYENV=window.PLOTLYENV || {};window.PLOTLYENV.BASE_URL=\"https://plot.ly\";Plotly.newPlot(\"03defc1c-2785-46ae-aa73-d4819960301f\", [{\"text\": \"KC, Warehouse Repacking\", \"visible\": \"visible\", \"type\": \"bar\", \"name\": \"doubletime|wages\", \"opacity\": 0.7, \"y\": [0.0], \"x\": [\"Feb\"]}, {\"text\": \"KC, Warehouse Repacking\", \"visible\": \"visible\", \"type\": \"bar\", \"name\": \"overtime|wages\", \"opacity\": 0.7, \"y\": [725.3699951171875], \"x\": [\"Feb\"]}, {\"text\": \"KC, Warehouse Repacking\", \"visible\": \"visible\", \"type\": \"bar\", \"name\": \"regular|wages\", \"opacity\": 0.7, \"y\": [305.3699951171875], \"x\": [\"Feb\"]}, {\"text\": \"KC, Warehouse Repacking\", \"visible\": \"visible\", \"type\": \"bar\", \"name\": \"total|wages\", \"opacity\": 0.7, \"y\": [1030.739990234375], \"x\": [\"Feb\"]}], {\"yaxis\": {\"showticklabels\": true, \"title\": \"Total Wages ($)\", \"type\": \"linear\"}, \"title\": \"KC, Warehouse Repacking\", \"bargap\": 0.2, \"barmode\": \"group\", \"xaxis\": {\"title\": \"Month\", \"type\": \"month\"}, \"legend\": {\"orientation\": \"h\"}}, {\"showLink\": true, \"linkText\": \"Export to plot.ly\"})});</script>"
      ],
      "text/vnd.plotly.v1+html": [
       "<div id=\"03defc1c-2785-46ae-aa73-d4819960301f\" style=\"height: 525px; width: 100%;\" class=\"plotly-graph-div\"></div><script type=\"text/javascript\">require([\"plotly\"], function(Plotly) { window.PLOTLYENV=window.PLOTLYENV || {};window.PLOTLYENV.BASE_URL=\"https://plot.ly\";Plotly.newPlot(\"03defc1c-2785-46ae-aa73-d4819960301f\", [{\"text\": \"KC, Warehouse Repacking\", \"visible\": \"visible\", \"type\": \"bar\", \"name\": \"doubletime|wages\", \"opacity\": 0.7, \"y\": [0.0], \"x\": [\"Feb\"]}, {\"text\": \"KC, Warehouse Repacking\", \"visible\": \"visible\", \"type\": \"bar\", \"name\": \"overtime|wages\", \"opacity\": 0.7, \"y\": [725.3699951171875], \"x\": [\"Feb\"]}, {\"text\": \"KC, Warehouse Repacking\", \"visible\": \"visible\", \"type\": \"bar\", \"name\": \"regular|wages\", \"opacity\": 0.7, \"y\": [305.3699951171875], \"x\": [\"Feb\"]}, {\"text\": \"KC, Warehouse Repacking\", \"visible\": \"visible\", \"type\": \"bar\", \"name\": \"total|wages\", \"opacity\": 0.7, \"y\": [1030.739990234375], \"x\": [\"Feb\"]}], {\"yaxis\": {\"showticklabels\": true, \"title\": \"Total Wages ($)\", \"type\": \"linear\"}, \"title\": \"KC, Warehouse Repacking\", \"bargap\": 0.2, \"barmode\": \"group\", \"xaxis\": {\"title\": \"Month\", \"type\": \"month\"}, \"legend\": {\"orientation\": \"h\"}}, {\"showLink\": true, \"linkText\": \"Export to plot.ly\"})});</script>"
      ]
     },
     "metadata": {},
     "output_type": "display_data"
    },
    {
     "name": "stdout",
     "output_type": "stream",
     "text": [
      "\n",
      "\n",
      "KC, Warehouse Wages\n",
      "----------------------------------------------------------------------------------------------------\n",
      "month                  Feb       Mar\n",
      "doubletime|wages    241.49      0.00\n",
      "overtime|wages     5706.96   1516.61\n",
      "regular|wages     26502.38  14542.25\n",
      "total|wages       32450.81  16058.87\n"
     ]
    },
    {
     "data": {
      "application/vnd.plotly.v1+json": {
       "data": [
        {
         "name": "doubletime|wages",
         "opacity": 0.7,
         "text": "KC, Warehouse Wages",
         "type": "bar",
         "visible": "visible",
         "x": [
          "Feb",
          "Mar"
         ],
         "y": [
          241.49000549316406,
          0
         ]
        },
        {
         "name": "overtime|wages",
         "opacity": 0.7,
         "text": "KC, Warehouse Wages",
         "type": "bar",
         "visible": "visible",
         "x": [
          "Feb",
          "Mar"
         ],
         "y": [
          5706.9599609375,
          1516.6099853515625
         ]
        },
        {
         "name": "regular|wages",
         "opacity": 0.7,
         "text": "KC, Warehouse Wages",
         "type": "bar",
         "visible": "visible",
         "x": [
          "Feb",
          "Mar"
         ],
         "y": [
          26502.380859375,
          14542.25
         ]
        },
        {
         "name": "total|wages",
         "opacity": 0.7,
         "text": "KC, Warehouse Wages",
         "type": "bar",
         "visible": "visible",
         "x": [
          "Feb",
          "Mar"
         ],
         "y": [
          32450.810546875,
          16058.8701171875
         ]
        }
       ],
       "layout": {
        "bargap": 0.2,
        "barmode": "group",
        "legend": {
         "orientation": "h"
        },
        "title": "KC, Warehouse Wages",
        "xaxis": {
         "title": "Month",
         "type": "month"
        },
        "yaxis": {
         "showticklabels": true,
         "title": "Total Wages ($)",
         "type": "linear"
        }
       }
      },
      "text/html": [
       "<div id=\"ffec12dc-b8f7-47fe-b7b5-439dd8dea29c\" style=\"height: 525px; width: 100%;\" class=\"plotly-graph-div\"></div><script type=\"text/javascript\">require([\"plotly\"], function(Plotly) { window.PLOTLYENV=window.PLOTLYENV || {};window.PLOTLYENV.BASE_URL=\"https://plot.ly\";Plotly.newPlot(\"ffec12dc-b8f7-47fe-b7b5-439dd8dea29c\", [{\"text\": \"KC, Warehouse Wages\", \"visible\": \"visible\", \"type\": \"bar\", \"name\": \"doubletime|wages\", \"opacity\": 0.7, \"y\": [241.49000549316406, 0.0], \"x\": [\"Feb\", \"Mar\"]}, {\"text\": \"KC, Warehouse Wages\", \"visible\": \"visible\", \"type\": \"bar\", \"name\": \"overtime|wages\", \"opacity\": 0.7, \"y\": [5706.9599609375, 1516.6099853515625], \"x\": [\"Feb\", \"Mar\"]}, {\"text\": \"KC, Warehouse Wages\", \"visible\": \"visible\", \"type\": \"bar\", \"name\": \"regular|wages\", \"opacity\": 0.7, \"y\": [26502.380859375, 14542.25], \"x\": [\"Feb\", \"Mar\"]}, {\"text\": \"KC, Warehouse Wages\", \"visible\": \"visible\", \"type\": \"bar\", \"name\": \"total|wages\", \"opacity\": 0.7, \"y\": [32450.810546875, 16058.8701171875], \"x\": [\"Feb\", \"Mar\"]}], {\"yaxis\": {\"showticklabels\": true, \"title\": \"Total Wages ($)\", \"type\": \"linear\"}, \"title\": \"KC, Warehouse Wages\", \"bargap\": 0.2, \"barmode\": \"group\", \"xaxis\": {\"title\": \"Month\", \"type\": \"month\"}, \"legend\": {\"orientation\": \"h\"}}, {\"showLink\": true, \"linkText\": \"Export to plot.ly\"})});</script>"
      ],
      "text/vnd.plotly.v1+html": [
       "<div id=\"ffec12dc-b8f7-47fe-b7b5-439dd8dea29c\" style=\"height: 525px; width: 100%;\" class=\"plotly-graph-div\"></div><script type=\"text/javascript\">require([\"plotly\"], function(Plotly) { window.PLOTLYENV=window.PLOTLYENV || {};window.PLOTLYENV.BASE_URL=\"https://plot.ly\";Plotly.newPlot(\"ffec12dc-b8f7-47fe-b7b5-439dd8dea29c\", [{\"text\": \"KC, Warehouse Wages\", \"visible\": \"visible\", \"type\": \"bar\", \"name\": \"doubletime|wages\", \"opacity\": 0.7, \"y\": [241.49000549316406, 0.0], \"x\": [\"Feb\", \"Mar\"]}, {\"text\": \"KC, Warehouse Wages\", \"visible\": \"visible\", \"type\": \"bar\", \"name\": \"overtime|wages\", \"opacity\": 0.7, \"y\": [5706.9599609375, 1516.6099853515625], \"x\": [\"Feb\", \"Mar\"]}, {\"text\": \"KC, Warehouse Wages\", \"visible\": \"visible\", \"type\": \"bar\", \"name\": \"regular|wages\", \"opacity\": 0.7, \"y\": [26502.380859375, 14542.25], \"x\": [\"Feb\", \"Mar\"]}, {\"text\": \"KC, Warehouse Wages\", \"visible\": \"visible\", \"type\": \"bar\", \"name\": \"total|wages\", \"opacity\": 0.7, \"y\": [32450.810546875, 16058.8701171875], \"x\": [\"Feb\", \"Mar\"]}], {\"yaxis\": {\"showticklabels\": true, \"title\": \"Total Wages ($)\", \"type\": \"linear\"}, \"title\": \"KC, Warehouse Wages\", \"bargap\": 0.2, \"barmode\": \"group\", \"xaxis\": {\"title\": \"Month\", \"type\": \"month\"}, \"legend\": {\"orientation\": \"h\"}}, {\"showLink\": true, \"linkText\": \"Export to plot.ly\"})});</script>"
      ]
     },
     "metadata": {},
     "output_type": "display_data"
    },
    {
     "name": "stdout",
     "output_type": "stream",
     "text": [
      "\n",
      "\n",
      "STL, Shipping Casual\n",
      "----------------------------------------------------------------------------------------------------\n",
      "month                  Feb       Mar\n",
      "doubletime|wages      0.00      0.00\n",
      "overtime|wages      234.47    297.27\n",
      "regular|wages     66455.78  38958.66\n",
      "total|wages       66690.24  39255.93\n"
     ]
    },
    {
     "data": {
      "application/vnd.plotly.v1+json": {
       "data": [
        {
         "name": "doubletime|wages",
         "opacity": 0.7,
         "text": "STL, Shipping Casual",
         "type": "bar",
         "visible": "visible",
         "x": [
          "Feb",
          "Mar"
         ],
         "y": [
          0,
          0
         ]
        },
        {
         "name": "overtime|wages",
         "opacity": 0.7,
         "text": "STL, Shipping Casual",
         "type": "bar",
         "visible": "visible",
         "x": [
          "Feb",
          "Mar"
         ],
         "y": [
          234.47000122070312,
          297.2699890136719
         ]
        },
        {
         "name": "regular|wages",
         "opacity": 0.7,
         "text": "STL, Shipping Casual",
         "type": "bar",
         "visible": "visible",
         "x": [
          "Feb",
          "Mar"
         ],
         "y": [
          66455.78125,
          38958.66015625
         ]
        },
        {
         "name": "total|wages",
         "opacity": 0.7,
         "text": "STL, Shipping Casual",
         "type": "bar",
         "visible": "visible",
         "x": [
          "Feb",
          "Mar"
         ],
         "y": [
          66690.2421875,
          39255.9296875
         ]
        }
       ],
       "layout": {
        "bargap": 0.2,
        "barmode": "group",
        "legend": {
         "orientation": "h"
        },
        "title": "STL, Shipping Casual",
        "xaxis": {
         "title": "Month",
         "type": "month"
        },
        "yaxis": {
         "showticklabels": true,
         "title": "Total Wages ($)",
         "type": "linear"
        }
       }
      },
      "text/html": [
       "<div id=\"82b8318d-e07e-40b2-8c8d-9ba659cca305\" style=\"height: 525px; width: 100%;\" class=\"plotly-graph-div\"></div><script type=\"text/javascript\">require([\"plotly\"], function(Plotly) { window.PLOTLYENV=window.PLOTLYENV || {};window.PLOTLYENV.BASE_URL=\"https://plot.ly\";Plotly.newPlot(\"82b8318d-e07e-40b2-8c8d-9ba659cca305\", [{\"text\": \"STL, Shipping Casual\", \"visible\": \"visible\", \"type\": \"bar\", \"name\": \"doubletime|wages\", \"opacity\": 0.7, \"y\": [0.0, 0.0], \"x\": [\"Feb\", \"Mar\"]}, {\"text\": \"STL, Shipping Casual\", \"visible\": \"visible\", \"type\": \"bar\", \"name\": \"overtime|wages\", \"opacity\": 0.7, \"y\": [234.47000122070312, 297.2699890136719], \"x\": [\"Feb\", \"Mar\"]}, {\"text\": \"STL, Shipping Casual\", \"visible\": \"visible\", \"type\": \"bar\", \"name\": \"regular|wages\", \"opacity\": 0.7, \"y\": [66455.78125, 38958.66015625], \"x\": [\"Feb\", \"Mar\"]}, {\"text\": \"STL, Shipping Casual\", \"visible\": \"visible\", \"type\": \"bar\", \"name\": \"total|wages\", \"opacity\": 0.7, \"y\": [66690.2421875, 39255.9296875], \"x\": [\"Feb\", \"Mar\"]}], {\"yaxis\": {\"showticklabels\": true, \"title\": \"Total Wages ($)\", \"type\": \"linear\"}, \"title\": \"STL, Shipping Casual\", \"bargap\": 0.2, \"barmode\": \"group\", \"xaxis\": {\"title\": \"Month\", \"type\": \"month\"}, \"legend\": {\"orientation\": \"h\"}}, {\"showLink\": true, \"linkText\": \"Export to plot.ly\"})});</script>"
      ],
      "text/vnd.plotly.v1+html": [
       "<div id=\"82b8318d-e07e-40b2-8c8d-9ba659cca305\" style=\"height: 525px; width: 100%;\" class=\"plotly-graph-div\"></div><script type=\"text/javascript\">require([\"plotly\"], function(Plotly) { window.PLOTLYENV=window.PLOTLYENV || {};window.PLOTLYENV.BASE_URL=\"https://plot.ly\";Plotly.newPlot(\"82b8318d-e07e-40b2-8c8d-9ba659cca305\", [{\"text\": \"STL, Shipping Casual\", \"visible\": \"visible\", \"type\": \"bar\", \"name\": \"doubletime|wages\", \"opacity\": 0.7, \"y\": [0.0, 0.0], \"x\": [\"Feb\", \"Mar\"]}, {\"text\": \"STL, Shipping Casual\", \"visible\": \"visible\", \"type\": \"bar\", \"name\": \"overtime|wages\", \"opacity\": 0.7, \"y\": [234.47000122070312, 297.2699890136719], \"x\": [\"Feb\", \"Mar\"]}, {\"text\": \"STL, Shipping Casual\", \"visible\": \"visible\", \"type\": \"bar\", \"name\": \"regular|wages\", \"opacity\": 0.7, \"y\": [66455.78125, 38958.66015625], \"x\": [\"Feb\", \"Mar\"]}, {\"text\": \"STL, Shipping Casual\", \"visible\": \"visible\", \"type\": \"bar\", \"name\": \"total|wages\", \"opacity\": 0.7, \"y\": [66690.2421875, 39255.9296875], \"x\": [\"Feb\", \"Mar\"]}], {\"yaxis\": {\"showticklabels\": true, \"title\": \"Total Wages ($)\", \"type\": \"linear\"}, \"title\": \"STL, Shipping Casual\", \"bargap\": 0.2, \"barmode\": \"group\", \"xaxis\": {\"title\": \"Month\", \"type\": \"month\"}, \"legend\": {\"orientation\": \"h\"}}, {\"showLink\": true, \"linkText\": \"Export to plot.ly\"})});</script>"
      ]
     },
     "metadata": {},
     "output_type": "display_data"
    },
    {
     "name": "stdout",
     "output_type": "stream",
     "text": [
      "\n",
      "\n",
      "STL, Shipping Repacking\n",
      "----------------------------------------------------------------------------------------------------\n",
      "month                Feb     Mar\n",
      "doubletime|wages    0.00    0.00\n",
      "overtime|wages      0.00    0.00\n",
      "regular|wages     662.59  883.74\n",
      "total|wages       662.59  883.74\n"
     ]
    },
    {
     "data": {
      "application/vnd.plotly.v1+json": {
       "data": [
        {
         "name": "doubletime|wages",
         "opacity": 0.7,
         "text": "STL, Shipping Repacking",
         "type": "bar",
         "visible": "visible",
         "x": [
          "Feb",
          "Mar"
         ],
         "y": [
          0,
          0
         ]
        },
        {
         "name": "overtime|wages",
         "opacity": 0.7,
         "text": "STL, Shipping Repacking",
         "type": "bar",
         "visible": "visible",
         "x": [
          "Feb",
          "Mar"
         ],
         "y": [
          0,
          0
         ]
        },
        {
         "name": "regular|wages",
         "opacity": 0.7,
         "text": "STL, Shipping Repacking",
         "type": "bar",
         "visible": "visible",
         "x": [
          "Feb",
          "Mar"
         ],
         "y": [
          662.5900268554688,
          883.739990234375
         ]
        },
        {
         "name": "total|wages",
         "opacity": 0.7,
         "text": "STL, Shipping Repacking",
         "type": "bar",
         "visible": "visible",
         "x": [
          "Feb",
          "Mar"
         ],
         "y": [
          662.5900268554688,
          883.739990234375
         ]
        }
       ],
       "layout": {
        "bargap": 0.2,
        "barmode": "group",
        "legend": {
         "orientation": "h"
        },
        "title": "STL, Shipping Repacking",
        "xaxis": {
         "title": "Month",
         "type": "month"
        },
        "yaxis": {
         "showticklabels": true,
         "title": "Total Wages ($)",
         "type": "linear"
        }
       }
      },
      "text/html": [
       "<div id=\"3049d9bc-95c0-4dcf-836a-45d327b5da6c\" style=\"height: 525px; width: 100%;\" class=\"plotly-graph-div\"></div><script type=\"text/javascript\">require([\"plotly\"], function(Plotly) { window.PLOTLYENV=window.PLOTLYENV || {};window.PLOTLYENV.BASE_URL=\"https://plot.ly\";Plotly.newPlot(\"3049d9bc-95c0-4dcf-836a-45d327b5da6c\", [{\"text\": \"STL, Shipping Repacking\", \"visible\": \"visible\", \"type\": \"bar\", \"name\": \"doubletime|wages\", \"opacity\": 0.7, \"y\": [0.0, 0.0], \"x\": [\"Feb\", \"Mar\"]}, {\"text\": \"STL, Shipping Repacking\", \"visible\": \"visible\", \"type\": \"bar\", \"name\": \"overtime|wages\", \"opacity\": 0.7, \"y\": [0.0, 0.0], \"x\": [\"Feb\", \"Mar\"]}, {\"text\": \"STL, Shipping Repacking\", \"visible\": \"visible\", \"type\": \"bar\", \"name\": \"regular|wages\", \"opacity\": 0.7, \"y\": [662.5900268554688, 883.739990234375], \"x\": [\"Feb\", \"Mar\"]}, {\"text\": \"STL, Shipping Repacking\", \"visible\": \"visible\", \"type\": \"bar\", \"name\": \"total|wages\", \"opacity\": 0.7, \"y\": [662.5900268554688, 883.739990234375], \"x\": [\"Feb\", \"Mar\"]}], {\"yaxis\": {\"showticklabels\": true, \"title\": \"Total Wages ($)\", \"type\": \"linear\"}, \"title\": \"STL, Shipping Repacking\", \"bargap\": 0.2, \"barmode\": \"group\", \"xaxis\": {\"title\": \"Month\", \"type\": \"month\"}, \"legend\": {\"orientation\": \"h\"}}, {\"showLink\": true, \"linkText\": \"Export to plot.ly\"})});</script>"
      ],
      "text/vnd.plotly.v1+html": [
       "<div id=\"3049d9bc-95c0-4dcf-836a-45d327b5da6c\" style=\"height: 525px; width: 100%;\" class=\"plotly-graph-div\"></div><script type=\"text/javascript\">require([\"plotly\"], function(Plotly) { window.PLOTLYENV=window.PLOTLYENV || {};window.PLOTLYENV.BASE_URL=\"https://plot.ly\";Plotly.newPlot(\"3049d9bc-95c0-4dcf-836a-45d327b5da6c\", [{\"text\": \"STL, Shipping Repacking\", \"visible\": \"visible\", \"type\": \"bar\", \"name\": \"doubletime|wages\", \"opacity\": 0.7, \"y\": [0.0, 0.0], \"x\": [\"Feb\", \"Mar\"]}, {\"text\": \"STL, Shipping Repacking\", \"visible\": \"visible\", \"type\": \"bar\", \"name\": \"overtime|wages\", \"opacity\": 0.7, \"y\": [0.0, 0.0], \"x\": [\"Feb\", \"Mar\"]}, {\"text\": \"STL, Shipping Repacking\", \"visible\": \"visible\", \"type\": \"bar\", \"name\": \"regular|wages\", \"opacity\": 0.7, \"y\": [662.5900268554688, 883.739990234375], \"x\": [\"Feb\", \"Mar\"]}, {\"text\": \"STL, Shipping Repacking\", \"visible\": \"visible\", \"type\": \"bar\", \"name\": \"total|wages\", \"opacity\": 0.7, \"y\": [662.5900268554688, 883.739990234375], \"x\": [\"Feb\", \"Mar\"]}], {\"yaxis\": {\"showticklabels\": true, \"title\": \"Total Wages ($)\", \"type\": \"linear\"}, \"title\": \"STL, Shipping Repacking\", \"bargap\": 0.2, \"barmode\": \"group\", \"xaxis\": {\"title\": \"Month\", \"type\": \"month\"}, \"legend\": {\"orientation\": \"h\"}}, {\"showLink\": true, \"linkText\": \"Export to plot.ly\"})});</script>"
      ]
     },
     "metadata": {},
     "output_type": "display_data"
    },
    {
     "name": "stdout",
     "output_type": "stream",
     "text": [
      "\n",
      "\n",
      "STL, Shipping Wages\n",
      "----------------------------------------------------------------------------------------------------\n",
      "month                  Feb       Mar\n",
      "doubletime|wages    540.88      0.00\n",
      "overtime|wages      526.38    983.64\n",
      "regular|wages     53416.03  28454.48\n",
      "total|wages       56138.67  31675.09\n"
     ]
    },
    {
     "data": {
      "application/vnd.plotly.v1+json": {
       "data": [
        {
         "name": "doubletime|wages",
         "opacity": 0.7,
         "text": "STL, Shipping Wages",
         "type": "bar",
         "visible": "visible",
         "x": [
          "Feb",
          "Mar"
         ],
         "y": [
          540.8800048828125,
          0
         ]
        },
        {
         "name": "overtime|wages",
         "opacity": 0.7,
         "text": "STL, Shipping Wages",
         "type": "bar",
         "visible": "visible",
         "x": [
          "Feb",
          "Mar"
         ],
         "y": [
          526.3800048828125,
          983.6399536132812
         ]
        },
        {
         "name": "regular|wages",
         "opacity": 0.7,
         "text": "STL, Shipping Wages",
         "type": "bar",
         "visible": "visible",
         "x": [
          "Feb",
          "Mar"
         ],
         "y": [
          53416.03125,
          28454.48046875
         ]
        },
        {
         "name": "total|wages",
         "opacity": 0.7,
         "text": "STL, Shipping Wages",
         "type": "bar",
         "visible": "visible",
         "x": [
          "Feb",
          "Mar"
         ],
         "y": [
          56138.671875,
          31675.08984375
         ]
        }
       ],
       "layout": {
        "bargap": 0.2,
        "barmode": "group",
        "legend": {
         "orientation": "h"
        },
        "title": "STL, Shipping Wages",
        "xaxis": {
         "title": "Month",
         "type": "month"
        },
        "yaxis": {
         "showticklabels": true,
         "title": "Total Wages ($)",
         "type": "linear"
        }
       }
      },
      "text/html": [
       "<div id=\"cd81ef69-78ab-4753-9bee-b81d5f974682\" style=\"height: 525px; width: 100%;\" class=\"plotly-graph-div\"></div><script type=\"text/javascript\">require([\"plotly\"], function(Plotly) { window.PLOTLYENV=window.PLOTLYENV || {};window.PLOTLYENV.BASE_URL=\"https://plot.ly\";Plotly.newPlot(\"cd81ef69-78ab-4753-9bee-b81d5f974682\", [{\"text\": \"STL, Shipping Wages\", \"visible\": \"visible\", \"type\": \"bar\", \"name\": \"doubletime|wages\", \"opacity\": 0.7, \"y\": [540.8800048828125, 0.0], \"x\": [\"Feb\", \"Mar\"]}, {\"text\": \"STL, Shipping Wages\", \"visible\": \"visible\", \"type\": \"bar\", \"name\": \"overtime|wages\", \"opacity\": 0.7, \"y\": [526.3800048828125, 983.6399536132812], \"x\": [\"Feb\", \"Mar\"]}, {\"text\": \"STL, Shipping Wages\", \"visible\": \"visible\", \"type\": \"bar\", \"name\": \"regular|wages\", \"opacity\": 0.7, \"y\": [53416.03125, 28454.48046875], \"x\": [\"Feb\", \"Mar\"]}, {\"text\": \"STL, Shipping Wages\", \"visible\": \"visible\", \"type\": \"bar\", \"name\": \"total|wages\", \"opacity\": 0.7, \"y\": [56138.671875, 31675.08984375], \"x\": [\"Feb\", \"Mar\"]}], {\"yaxis\": {\"showticklabels\": true, \"title\": \"Total Wages ($)\", \"type\": \"linear\"}, \"title\": \"STL, Shipping Wages\", \"bargap\": 0.2, \"barmode\": \"group\", \"xaxis\": {\"title\": \"Month\", \"type\": \"month\"}, \"legend\": {\"orientation\": \"h\"}}, {\"showLink\": true, \"linkText\": \"Export to plot.ly\"})});</script>"
      ],
      "text/vnd.plotly.v1+html": [
       "<div id=\"cd81ef69-78ab-4753-9bee-b81d5f974682\" style=\"height: 525px; width: 100%;\" class=\"plotly-graph-div\"></div><script type=\"text/javascript\">require([\"plotly\"], function(Plotly) { window.PLOTLYENV=window.PLOTLYENV || {};window.PLOTLYENV.BASE_URL=\"https://plot.ly\";Plotly.newPlot(\"cd81ef69-78ab-4753-9bee-b81d5f974682\", [{\"text\": \"STL, Shipping Wages\", \"visible\": \"visible\", \"type\": \"bar\", \"name\": \"doubletime|wages\", \"opacity\": 0.7, \"y\": [540.8800048828125, 0.0], \"x\": [\"Feb\", \"Mar\"]}, {\"text\": \"STL, Shipping Wages\", \"visible\": \"visible\", \"type\": \"bar\", \"name\": \"overtime|wages\", \"opacity\": 0.7, \"y\": [526.3800048828125, 983.6399536132812], \"x\": [\"Feb\", \"Mar\"]}, {\"text\": \"STL, Shipping Wages\", \"visible\": \"visible\", \"type\": \"bar\", \"name\": \"regular|wages\", \"opacity\": 0.7, \"y\": [53416.03125, 28454.48046875], \"x\": [\"Feb\", \"Mar\"]}, {\"text\": \"STL, Shipping Wages\", \"visible\": \"visible\", \"type\": \"bar\", \"name\": \"total|wages\", \"opacity\": 0.7, \"y\": [56138.671875, 31675.08984375], \"x\": [\"Feb\", \"Mar\"]}], {\"yaxis\": {\"showticklabels\": true, \"title\": \"Total Wages ($)\", \"type\": \"linear\"}, \"title\": \"STL, Shipping Wages\", \"bargap\": 0.2, \"barmode\": \"group\", \"xaxis\": {\"title\": \"Month\", \"type\": \"month\"}, \"legend\": {\"orientation\": \"h\"}}, {\"showLink\": true, \"linkText\": \"Export to plot.ly\"})});</script>"
      ]
     },
     "metadata": {},
     "output_type": "display_data"
    },
    {
     "name": "stdout",
     "output_type": "stream",
     "text": [
      "\n",
      "\n",
      "STL, Warehouse Wages\n",
      "----------------------------------------------------------------------------------------------------\n",
      "month                  Feb       Mar\n",
      "doubletime|wages      0.00      0.00\n",
      "overtime|wages     3049.35   2215.05\n",
      "regular|wages     70071.01  38899.13\n",
      "total|wages       78067.20  42978.86\n"
     ]
    },
    {
     "data": {
      "application/vnd.plotly.v1+json": {
       "data": [
        {
         "name": "doubletime|wages",
         "opacity": 0.7,
         "text": "STL, Warehouse Wages",
         "type": "bar",
         "visible": "visible",
         "x": [
          "Feb",
          "Mar"
         ],
         "y": [
          0,
          0
         ]
        },
        {
         "name": "overtime|wages",
         "opacity": 0.7,
         "text": "STL, Warehouse Wages",
         "type": "bar",
         "visible": "visible",
         "x": [
          "Feb",
          "Mar"
         ],
         "y": [
          3049.35009765625,
          2215.050048828125
         ]
        },
        {
         "name": "regular|wages",
         "opacity": 0.7,
         "text": "STL, Warehouse Wages",
         "type": "bar",
         "visible": "visible",
         "x": [
          "Feb",
          "Mar"
         ],
         "y": [
          70071.0078125,
          38899.12890625
         ]
        },
        {
         "name": "total|wages",
         "opacity": 0.7,
         "text": "STL, Warehouse Wages",
         "type": "bar",
         "visible": "visible",
         "x": [
          "Feb",
          "Mar"
         ],
         "y": [
          78067.203125,
          42978.859375
         ]
        }
       ],
       "layout": {
        "bargap": 0.2,
        "barmode": "group",
        "legend": {
         "orientation": "h"
        },
        "title": "STL, Warehouse Wages",
        "xaxis": {
         "title": "Month",
         "type": "month"
        },
        "yaxis": {
         "showticklabels": true,
         "title": "Total Wages ($)",
         "type": "linear"
        }
       }
      },
      "text/html": [
       "<div id=\"2b54e039-c523-41cc-b851-610dddf46df4\" style=\"height: 525px; width: 100%;\" class=\"plotly-graph-div\"></div><script type=\"text/javascript\">require([\"plotly\"], function(Plotly) { window.PLOTLYENV=window.PLOTLYENV || {};window.PLOTLYENV.BASE_URL=\"https://plot.ly\";Plotly.newPlot(\"2b54e039-c523-41cc-b851-610dddf46df4\", [{\"text\": \"STL, Warehouse Wages\", \"visible\": \"visible\", \"type\": \"bar\", \"name\": \"doubletime|wages\", \"opacity\": 0.7, \"y\": [0.0, 0.0], \"x\": [\"Feb\", \"Mar\"]}, {\"text\": \"STL, Warehouse Wages\", \"visible\": \"visible\", \"type\": \"bar\", \"name\": \"overtime|wages\", \"opacity\": 0.7, \"y\": [3049.35009765625, 2215.050048828125], \"x\": [\"Feb\", \"Mar\"]}, {\"text\": \"STL, Warehouse Wages\", \"visible\": \"visible\", \"type\": \"bar\", \"name\": \"regular|wages\", \"opacity\": 0.7, \"y\": [70071.0078125, 38899.12890625], \"x\": [\"Feb\", \"Mar\"]}, {\"text\": \"STL, Warehouse Wages\", \"visible\": \"visible\", \"type\": \"bar\", \"name\": \"total|wages\", \"opacity\": 0.7, \"y\": [78067.203125, 42978.859375], \"x\": [\"Feb\", \"Mar\"]}], {\"yaxis\": {\"showticklabels\": true, \"title\": \"Total Wages ($)\", \"type\": \"linear\"}, \"title\": \"STL, Warehouse Wages\", \"bargap\": 0.2, \"barmode\": \"group\", \"xaxis\": {\"title\": \"Month\", \"type\": \"month\"}, \"legend\": {\"orientation\": \"h\"}}, {\"showLink\": true, \"linkText\": \"Export to plot.ly\"})});</script>"
      ],
      "text/vnd.plotly.v1+html": [
       "<div id=\"2b54e039-c523-41cc-b851-610dddf46df4\" style=\"height: 525px; width: 100%;\" class=\"plotly-graph-div\"></div><script type=\"text/javascript\">require([\"plotly\"], function(Plotly) { window.PLOTLYENV=window.PLOTLYENV || {};window.PLOTLYENV.BASE_URL=\"https://plot.ly\";Plotly.newPlot(\"2b54e039-c523-41cc-b851-610dddf46df4\", [{\"text\": \"STL, Warehouse Wages\", \"visible\": \"visible\", \"type\": \"bar\", \"name\": \"doubletime|wages\", \"opacity\": 0.7, \"y\": [0.0, 0.0], \"x\": [\"Feb\", \"Mar\"]}, {\"text\": \"STL, Warehouse Wages\", \"visible\": \"visible\", \"type\": \"bar\", \"name\": \"overtime|wages\", \"opacity\": 0.7, \"y\": [3049.35009765625, 2215.050048828125], \"x\": [\"Feb\", \"Mar\"]}, {\"text\": \"STL, Warehouse Wages\", \"visible\": \"visible\", \"type\": \"bar\", \"name\": \"regular|wages\", \"opacity\": 0.7, \"y\": [70071.0078125, 38899.12890625], \"x\": [\"Feb\", \"Mar\"]}, {\"text\": \"STL, Warehouse Wages\", \"visible\": \"visible\", \"type\": \"bar\", \"name\": \"total|wages\", \"opacity\": 0.7, \"y\": [78067.203125, 42978.859375], \"x\": [\"Feb\", \"Mar\"]}], {\"yaxis\": {\"showticklabels\": true, \"title\": \"Total Wages ($)\", \"type\": \"linear\"}, \"title\": \"STL, Warehouse Wages\", \"bargap\": 0.2, \"barmode\": \"group\", \"xaxis\": {\"title\": \"Month\", \"type\": \"month\"}, \"legend\": {\"orientation\": \"h\"}}, {\"showLink\": true, \"linkText\": \"Export to plot.ly\"})});</script>"
      ]
     },
     "metadata": {},
     "output_type": "display_data"
    },
    {
     "name": "stdout",
     "output_type": "stream",
     "text": [
      "\n",
      "\n"
     ]
    }
   ],
   "source": [
    "# specify parameters\n",
    "subgroup = 'labor_level'\n",
    "y_list = ['doubletime|wages', 'overtime|wages', 'regular|wages', 'total|wages']\n",
    "\n",
    "print('''\n",
    "Wages ($) by Warehouse/Labor Level\n",
    "''')\n",
    "\n",
    "interactive_bar_plot(ops_df, y_list, subgroup)"
   ]
  },
  {
   "cell_type": "markdown",
   "metadata": {},
   "source": [
    "# Total Employee Hours \n",
    "\n",
    "The plots below reflect same plotting method as was employed above, only it is plotting employee hours on the y-axis.    \n",
    "\n",
    "## Hours by Warehouse & Day/Night\n",
    "\n",
    "`True` indicates \"Night Crew\", `False` indicates \"Day Crew.\""
   ]
  },
  {
   "cell_type": "code",
   "execution_count": 23,
   "metadata": {
    "hideCode": false,
    "hideOutput": false,
    "scrolled": false
   },
   "outputs": [
    {
     "name": "stdout",
     "output_type": "stream",
     "text": [
      "\n",
      "Hours by Warehouse/Labor Level\n",
      "\n",
      "KC, False\n",
      "----------------------------------------------------------------------------------------------------\n",
      "month                 Feb      Mar\n",
      "doubletime|hours     5.73     0.00\n",
      "overtime|hours     399.90    95.81\n",
      "regular|hours     2450.58  1353.14\n",
      "total|hours       2856.21  1448.95\n"
     ]
    },
    {
     "data": {
      "application/vnd.plotly.v1+json": {
       "data": [
        {
         "name": "doubletime|hours",
         "opacity": 0.7,
         "text": "KC, False",
         "type": "bar",
         "visible": "visible",
         "x": [
          "Feb",
          "Mar"
         ],
         "y": [
          5.730000019073486,
          0
         ]
        },
        {
         "name": "overtime|hours",
         "opacity": 0.7,
         "text": "KC, False",
         "type": "bar",
         "visible": "visible",
         "x": [
          "Feb",
          "Mar"
         ],
         "y": [
          399.8999938964844,
          95.80999755859375
         ]
        },
        {
         "name": "regular|hours",
         "opacity": 0.7,
         "text": "KC, False",
         "type": "bar",
         "visible": "visible",
         "x": [
          "Feb",
          "Mar"
         ],
         "y": [
          2450.580078125,
          1353.1400146484375
         ]
        },
        {
         "name": "total|hours",
         "opacity": 0.7,
         "text": "KC, False",
         "type": "bar",
         "visible": "visible",
         "x": [
          "Feb",
          "Mar"
         ],
         "y": [
          2856.2099609375,
          1448.949951171875
         ]
        }
       ],
       "layout": {
        "bargap": 0.2,
        "barmode": "group",
        "legend": {
         "orientation": "h"
        },
        "title": "KC, False",
        "xaxis": {
         "title": "Month",
         "type": "month"
        },
        "yaxis": {
         "showticklabels": true,
         "title": "Total Wages ($)",
         "type": "linear"
        }
       }
      },
      "text/html": [
       "<div id=\"ec585d7f-0a19-41cc-9861-c98f709fca6c\" style=\"height: 525px; width: 100%;\" class=\"plotly-graph-div\"></div><script type=\"text/javascript\">require([\"plotly\"], function(Plotly) { window.PLOTLYENV=window.PLOTLYENV || {};window.PLOTLYENV.BASE_URL=\"https://plot.ly\";Plotly.newPlot(\"ec585d7f-0a19-41cc-9861-c98f709fca6c\", [{\"text\": \"KC, False\", \"visible\": \"visible\", \"type\": \"bar\", \"name\": \"doubletime|hours\", \"opacity\": 0.7, \"y\": [5.730000019073486, 0.0], \"x\": [\"Feb\", \"Mar\"]}, {\"text\": \"KC, False\", \"visible\": \"visible\", \"type\": \"bar\", \"name\": \"overtime|hours\", \"opacity\": 0.7, \"y\": [399.8999938964844, 95.80999755859375], \"x\": [\"Feb\", \"Mar\"]}, {\"text\": \"KC, False\", \"visible\": \"visible\", \"type\": \"bar\", \"name\": \"regular|hours\", \"opacity\": 0.7, \"y\": [2450.580078125, 1353.1400146484375], \"x\": [\"Feb\", \"Mar\"]}, {\"text\": \"KC, False\", \"visible\": \"visible\", \"type\": \"bar\", \"name\": \"total|hours\", \"opacity\": 0.7, \"y\": [2856.2099609375, 1448.949951171875], \"x\": [\"Feb\", \"Mar\"]}], {\"yaxis\": {\"showticklabels\": true, \"title\": \"Total Wages ($)\", \"type\": \"linear\"}, \"title\": \"KC, False\", \"bargap\": 0.2, \"barmode\": \"group\", \"xaxis\": {\"title\": \"Month\", \"type\": \"month\"}, \"legend\": {\"orientation\": \"h\"}}, {\"showLink\": true, \"linkText\": \"Export to plot.ly\"})});</script>"
      ],
      "text/vnd.plotly.v1+html": [
       "<div id=\"ec585d7f-0a19-41cc-9861-c98f709fca6c\" style=\"height: 525px; width: 100%;\" class=\"plotly-graph-div\"></div><script type=\"text/javascript\">require([\"plotly\"], function(Plotly) { window.PLOTLYENV=window.PLOTLYENV || {};window.PLOTLYENV.BASE_URL=\"https://plot.ly\";Plotly.newPlot(\"ec585d7f-0a19-41cc-9861-c98f709fca6c\", [{\"text\": \"KC, False\", \"visible\": \"visible\", \"type\": \"bar\", \"name\": \"doubletime|hours\", \"opacity\": 0.7, \"y\": [5.730000019073486, 0.0], \"x\": [\"Feb\", \"Mar\"]}, {\"text\": \"KC, False\", \"visible\": \"visible\", \"type\": \"bar\", \"name\": \"overtime|hours\", \"opacity\": 0.7, \"y\": [399.8999938964844, 95.80999755859375], \"x\": [\"Feb\", \"Mar\"]}, {\"text\": \"KC, False\", \"visible\": \"visible\", \"type\": \"bar\", \"name\": \"regular|hours\", \"opacity\": 0.7, \"y\": [2450.580078125, 1353.1400146484375], \"x\": [\"Feb\", \"Mar\"]}, {\"text\": \"KC, False\", \"visible\": \"visible\", \"type\": \"bar\", \"name\": \"total|hours\", \"opacity\": 0.7, \"y\": [2856.2099609375, 1448.949951171875], \"x\": [\"Feb\", \"Mar\"]}], {\"yaxis\": {\"showticklabels\": true, \"title\": \"Total Wages ($)\", \"type\": \"linear\"}, \"title\": \"KC, False\", \"bargap\": 0.2, \"barmode\": \"group\", \"xaxis\": {\"title\": \"Month\", \"type\": \"month\"}, \"legend\": {\"orientation\": \"h\"}}, {\"showLink\": true, \"linkText\": \"Export to plot.ly\"})});</script>"
      ]
     },
     "metadata": {},
     "output_type": "display_data"
    },
    {
     "name": "stdout",
     "output_type": "stream",
     "text": [
      "\n",
      "\n",
      "KC, True\n",
      "----------------------------------------------------------------------------------------------------\n",
      "month                 Feb      Mar\n",
      "doubletime|hours     0.00     0.00\n",
      "overtime|hours     136.46   212.10\n",
      "regular|hours     3780.26  1914.21\n",
      "total|hours       4086.72  2246.31\n"
     ]
    },
    {
     "data": {
      "application/vnd.plotly.v1+json": {
       "data": [
        {
         "name": "doubletime|hours",
         "opacity": 0.7,
         "text": "KC, True",
         "type": "bar",
         "visible": "visible",
         "x": [
          "Feb",
          "Mar"
         ],
         "y": [
          0,
          0
         ]
        },
        {
         "name": "overtime|hours",
         "opacity": 0.7,
         "text": "KC, True",
         "type": "bar",
         "visible": "visible",
         "x": [
          "Feb",
          "Mar"
         ],
         "y": [
          136.4600067138672,
          212.10000610351562
         ]
        },
        {
         "name": "regular|hours",
         "opacity": 0.7,
         "text": "KC, True",
         "type": "bar",
         "visible": "visible",
         "x": [
          "Feb",
          "Mar"
         ],
         "y": [
          3780.260009765625,
          1914.2099609375
         ]
        },
        {
         "name": "total|hours",
         "opacity": 0.7,
         "text": "KC, True",
         "type": "bar",
         "visible": "visible",
         "x": [
          "Feb",
          "Mar"
         ],
         "y": [
          4086.719970703125,
          2246.31005859375
         ]
        }
       ],
       "layout": {
        "bargap": 0.2,
        "barmode": "group",
        "legend": {
         "orientation": "h"
        },
        "title": "KC, True",
        "xaxis": {
         "title": "Month",
         "type": "month"
        },
        "yaxis": {
         "showticklabels": true,
         "title": "Total Wages ($)",
         "type": "linear"
        }
       }
      },
      "text/html": [
       "<div id=\"047e29f0-9b55-46ec-a469-84175b09d017\" style=\"height: 525px; width: 100%;\" class=\"plotly-graph-div\"></div><script type=\"text/javascript\">require([\"plotly\"], function(Plotly) { window.PLOTLYENV=window.PLOTLYENV || {};window.PLOTLYENV.BASE_URL=\"https://plot.ly\";Plotly.newPlot(\"047e29f0-9b55-46ec-a469-84175b09d017\", [{\"text\": \"KC, True\", \"visible\": \"visible\", \"type\": \"bar\", \"name\": \"doubletime|hours\", \"opacity\": 0.7, \"y\": [0.0, 0.0], \"x\": [\"Feb\", \"Mar\"]}, {\"text\": \"KC, True\", \"visible\": \"visible\", \"type\": \"bar\", \"name\": \"overtime|hours\", \"opacity\": 0.7, \"y\": [136.4600067138672, 212.10000610351562], \"x\": [\"Feb\", \"Mar\"]}, {\"text\": \"KC, True\", \"visible\": \"visible\", \"type\": \"bar\", \"name\": \"regular|hours\", \"opacity\": 0.7, \"y\": [3780.260009765625, 1914.2099609375], \"x\": [\"Feb\", \"Mar\"]}, {\"text\": \"KC, True\", \"visible\": \"visible\", \"type\": \"bar\", \"name\": \"total|hours\", \"opacity\": 0.7, \"y\": [4086.719970703125, 2246.31005859375], \"x\": [\"Feb\", \"Mar\"]}], {\"yaxis\": {\"showticklabels\": true, \"title\": \"Total Wages ($)\", \"type\": \"linear\"}, \"title\": \"KC, True\", \"bargap\": 0.2, \"barmode\": \"group\", \"xaxis\": {\"title\": \"Month\", \"type\": \"month\"}, \"legend\": {\"orientation\": \"h\"}}, {\"showLink\": true, \"linkText\": \"Export to plot.ly\"})});</script>"
      ],
      "text/vnd.plotly.v1+html": [
       "<div id=\"047e29f0-9b55-46ec-a469-84175b09d017\" style=\"height: 525px; width: 100%;\" class=\"plotly-graph-div\"></div><script type=\"text/javascript\">require([\"plotly\"], function(Plotly) { window.PLOTLYENV=window.PLOTLYENV || {};window.PLOTLYENV.BASE_URL=\"https://plot.ly\";Plotly.newPlot(\"047e29f0-9b55-46ec-a469-84175b09d017\", [{\"text\": \"KC, True\", \"visible\": \"visible\", \"type\": \"bar\", \"name\": \"doubletime|hours\", \"opacity\": 0.7, \"y\": [0.0, 0.0], \"x\": [\"Feb\", \"Mar\"]}, {\"text\": \"KC, True\", \"visible\": \"visible\", \"type\": \"bar\", \"name\": \"overtime|hours\", \"opacity\": 0.7, \"y\": [136.4600067138672, 212.10000610351562], \"x\": [\"Feb\", \"Mar\"]}, {\"text\": \"KC, True\", \"visible\": \"visible\", \"type\": \"bar\", \"name\": \"regular|hours\", \"opacity\": 0.7, \"y\": [3780.260009765625, 1914.2099609375], \"x\": [\"Feb\", \"Mar\"]}, {\"text\": \"KC, True\", \"visible\": \"visible\", \"type\": \"bar\", \"name\": \"total|hours\", \"opacity\": 0.7, \"y\": [4086.719970703125, 2246.31005859375], \"x\": [\"Feb\", \"Mar\"]}], {\"yaxis\": {\"showticklabels\": true, \"title\": \"Total Wages ($)\", \"type\": \"linear\"}, \"title\": \"KC, True\", \"bargap\": 0.2, \"barmode\": \"group\", \"xaxis\": {\"title\": \"Month\", \"type\": \"month\"}, \"legend\": {\"orientation\": \"h\"}}, {\"showLink\": true, \"linkText\": \"Export to plot.ly\"})});</script>"
      ]
     },
     "metadata": {},
     "output_type": "display_data"
    },
    {
     "name": "stdout",
     "output_type": "stream",
     "text": [
      "\n",
      "\n",
      "STL, False\n",
      "----------------------------------------------------------------------------------------------------\n",
      "month                 Feb      Mar\n",
      "doubletime|hours     0.00     0.00\n",
      "overtime|hours      89.06    66.54\n",
      "regular|hours     3091.73  1731.71\n",
      "total|hours       3407.14  1906.25\n"
     ]
    },
    {
     "data": {
      "application/vnd.plotly.v1+json": {
       "data": [
        {
         "name": "doubletime|hours",
         "opacity": 0.7,
         "text": "STL, False",
         "type": "bar",
         "visible": "visible",
         "x": [
          "Feb",
          "Mar"
         ],
         "y": [
          0,
          0
         ]
        },
        {
         "name": "overtime|hours",
         "opacity": 0.7,
         "text": "STL, False",
         "type": "bar",
         "visible": "visible",
         "x": [
          "Feb",
          "Mar"
         ],
         "y": [
          89.05999755859375,
          66.54000091552734
         ]
        },
        {
         "name": "regular|hours",
         "opacity": 0.7,
         "text": "STL, False",
         "type": "bar",
         "visible": "visible",
         "x": [
          "Feb",
          "Mar"
         ],
         "y": [
          3091.72998046875,
          1731.7099609375
         ]
        },
        {
         "name": "total|hours",
         "opacity": 0.7,
         "text": "STL, False",
         "type": "bar",
         "visible": "visible",
         "x": [
          "Feb",
          "Mar"
         ],
         "y": [
          3407.139892578125,
          1906.25
         ]
        }
       ],
       "layout": {
        "bargap": 0.2,
        "barmode": "group",
        "legend": {
         "orientation": "h"
        },
        "title": "STL, False",
        "xaxis": {
         "title": "Month",
         "type": "month"
        },
        "yaxis": {
         "showticklabels": true,
         "title": "Total Wages ($)",
         "type": "linear"
        }
       }
      },
      "text/html": [
       "<div id=\"5e35d453-f9f2-42f7-bfcb-ee97c477668f\" style=\"height: 525px; width: 100%;\" class=\"plotly-graph-div\"></div><script type=\"text/javascript\">require([\"plotly\"], function(Plotly) { window.PLOTLYENV=window.PLOTLYENV || {};window.PLOTLYENV.BASE_URL=\"https://plot.ly\";Plotly.newPlot(\"5e35d453-f9f2-42f7-bfcb-ee97c477668f\", [{\"text\": \"STL, False\", \"visible\": \"visible\", \"type\": \"bar\", \"name\": \"doubletime|hours\", \"opacity\": 0.7, \"y\": [0.0, 0.0], \"x\": [\"Feb\", \"Mar\"]}, {\"text\": \"STL, False\", \"visible\": \"visible\", \"type\": \"bar\", \"name\": \"overtime|hours\", \"opacity\": 0.7, \"y\": [89.05999755859375, 66.54000091552734], \"x\": [\"Feb\", \"Mar\"]}, {\"text\": \"STL, False\", \"visible\": \"visible\", \"type\": \"bar\", \"name\": \"regular|hours\", \"opacity\": 0.7, \"y\": [3091.72998046875, 1731.7099609375], \"x\": [\"Feb\", \"Mar\"]}, {\"text\": \"STL, False\", \"visible\": \"visible\", \"type\": \"bar\", \"name\": \"total|hours\", \"opacity\": 0.7, \"y\": [3407.139892578125, 1906.25], \"x\": [\"Feb\", \"Mar\"]}], {\"yaxis\": {\"showticklabels\": true, \"title\": \"Total Wages ($)\", \"type\": \"linear\"}, \"title\": \"STL, False\", \"bargap\": 0.2, \"barmode\": \"group\", \"xaxis\": {\"title\": \"Month\", \"type\": \"month\"}, \"legend\": {\"orientation\": \"h\"}}, {\"showLink\": true, \"linkText\": \"Export to plot.ly\"})});</script>"
      ],
      "text/vnd.plotly.v1+html": [
       "<div id=\"5e35d453-f9f2-42f7-bfcb-ee97c477668f\" style=\"height: 525px; width: 100%;\" class=\"plotly-graph-div\"></div><script type=\"text/javascript\">require([\"plotly\"], function(Plotly) { window.PLOTLYENV=window.PLOTLYENV || {};window.PLOTLYENV.BASE_URL=\"https://plot.ly\";Plotly.newPlot(\"5e35d453-f9f2-42f7-bfcb-ee97c477668f\", [{\"text\": \"STL, False\", \"visible\": \"visible\", \"type\": \"bar\", \"name\": \"doubletime|hours\", \"opacity\": 0.7, \"y\": [0.0, 0.0], \"x\": [\"Feb\", \"Mar\"]}, {\"text\": \"STL, False\", \"visible\": \"visible\", \"type\": \"bar\", \"name\": \"overtime|hours\", \"opacity\": 0.7, \"y\": [89.05999755859375, 66.54000091552734], \"x\": [\"Feb\", \"Mar\"]}, {\"text\": \"STL, False\", \"visible\": \"visible\", \"type\": \"bar\", \"name\": \"regular|hours\", \"opacity\": 0.7, \"y\": [3091.72998046875, 1731.7099609375], \"x\": [\"Feb\", \"Mar\"]}, {\"text\": \"STL, False\", \"visible\": \"visible\", \"type\": \"bar\", \"name\": \"total|hours\", \"opacity\": 0.7, \"y\": [3407.139892578125, 1906.25], \"x\": [\"Feb\", \"Mar\"]}], {\"yaxis\": {\"showticklabels\": true, \"title\": \"Total Wages ($)\", \"type\": \"linear\"}, \"title\": \"STL, False\", \"bargap\": 0.2, \"barmode\": \"group\", \"xaxis\": {\"title\": \"Month\", \"type\": \"month\"}, \"legend\": {\"orientation\": \"h\"}}, {\"showLink\": true, \"linkText\": \"Export to plot.ly\"})});</script>"
      ]
     },
     "metadata": {},
     "output_type": "display_data"
    },
    {
     "name": "stdout",
     "output_type": "stream",
     "text": [
      "\n",
      "\n",
      "STL, True\n",
      "----------------------------------------------------------------------------------------------------\n",
      "month                 Feb      Mar\n",
      "doubletime|hours    12.00     0.00\n",
      "overtime|hours      23.68    39.91\n",
      "regular|hours     5838.86  3311.86\n",
      "total|hours       5999.54  3462.27\n"
     ]
    },
    {
     "data": {
      "application/vnd.plotly.v1+json": {
       "data": [
        {
         "name": "doubletime|hours",
         "opacity": 0.7,
         "text": "STL, True",
         "type": "bar",
         "visible": "visible",
         "x": [
          "Feb",
          "Mar"
         ],
         "y": [
          12,
          0
         ]
        },
        {
         "name": "overtime|hours",
         "opacity": 0.7,
         "text": "STL, True",
         "type": "bar",
         "visible": "visible",
         "x": [
          "Feb",
          "Mar"
         ],
         "y": [
          23.68000030517578,
          39.90999984741211
         ]
        },
        {
         "name": "regular|hours",
         "opacity": 0.7,
         "text": "STL, True",
         "type": "bar",
         "visible": "visible",
         "x": [
          "Feb",
          "Mar"
         ],
         "y": [
          5838.85986328125,
          3311.860107421875
         ]
        },
        {
         "name": "total|hours",
         "opacity": 0.7,
         "text": "STL, True",
         "type": "bar",
         "visible": "visible",
         "x": [
          "Feb",
          "Mar"
         ],
         "y": [
          5999.5400390625,
          3462.27001953125
         ]
        }
       ],
       "layout": {
        "bargap": 0.2,
        "barmode": "group",
        "legend": {
         "orientation": "h"
        },
        "title": "STL, True",
        "xaxis": {
         "title": "Month",
         "type": "month"
        },
        "yaxis": {
         "showticklabels": true,
         "title": "Total Wages ($)",
         "type": "linear"
        }
       }
      },
      "text/html": [
       "<div id=\"52b9ca84-6582-4b0f-a70f-fd3bf00725ab\" style=\"height: 525px; width: 100%;\" class=\"plotly-graph-div\"></div><script type=\"text/javascript\">require([\"plotly\"], function(Plotly) { window.PLOTLYENV=window.PLOTLYENV || {};window.PLOTLYENV.BASE_URL=\"https://plot.ly\";Plotly.newPlot(\"52b9ca84-6582-4b0f-a70f-fd3bf00725ab\", [{\"text\": \"STL, True\", \"visible\": \"visible\", \"type\": \"bar\", \"name\": \"doubletime|hours\", \"opacity\": 0.7, \"y\": [12.0, 0.0], \"x\": [\"Feb\", \"Mar\"]}, {\"text\": \"STL, True\", \"visible\": \"visible\", \"type\": \"bar\", \"name\": \"overtime|hours\", \"opacity\": 0.7, \"y\": [23.68000030517578, 39.90999984741211], \"x\": [\"Feb\", \"Mar\"]}, {\"text\": \"STL, True\", \"visible\": \"visible\", \"type\": \"bar\", \"name\": \"regular|hours\", \"opacity\": 0.7, \"y\": [5838.85986328125, 3311.860107421875], \"x\": [\"Feb\", \"Mar\"]}, {\"text\": \"STL, True\", \"visible\": \"visible\", \"type\": \"bar\", \"name\": \"total|hours\", \"opacity\": 0.7, \"y\": [5999.5400390625, 3462.27001953125], \"x\": [\"Feb\", \"Mar\"]}], {\"yaxis\": {\"showticklabels\": true, \"title\": \"Total Wages ($)\", \"type\": \"linear\"}, \"title\": \"STL, True\", \"bargap\": 0.2, \"barmode\": \"group\", \"xaxis\": {\"title\": \"Month\", \"type\": \"month\"}, \"legend\": {\"orientation\": \"h\"}}, {\"showLink\": true, \"linkText\": \"Export to plot.ly\"})});</script>"
      ],
      "text/vnd.plotly.v1+html": [
       "<div id=\"52b9ca84-6582-4b0f-a70f-fd3bf00725ab\" style=\"height: 525px; width: 100%;\" class=\"plotly-graph-div\"></div><script type=\"text/javascript\">require([\"plotly\"], function(Plotly) { window.PLOTLYENV=window.PLOTLYENV || {};window.PLOTLYENV.BASE_URL=\"https://plot.ly\";Plotly.newPlot(\"52b9ca84-6582-4b0f-a70f-fd3bf00725ab\", [{\"text\": \"STL, True\", \"visible\": \"visible\", \"type\": \"bar\", \"name\": \"doubletime|hours\", \"opacity\": 0.7, \"y\": [12.0, 0.0], \"x\": [\"Feb\", \"Mar\"]}, {\"text\": \"STL, True\", \"visible\": \"visible\", \"type\": \"bar\", \"name\": \"overtime|hours\", \"opacity\": 0.7, \"y\": [23.68000030517578, 39.90999984741211], \"x\": [\"Feb\", \"Mar\"]}, {\"text\": \"STL, True\", \"visible\": \"visible\", \"type\": \"bar\", \"name\": \"regular|hours\", \"opacity\": 0.7, \"y\": [5838.85986328125, 3311.860107421875], \"x\": [\"Feb\", \"Mar\"]}, {\"text\": \"STL, True\", \"visible\": \"visible\", \"type\": \"bar\", \"name\": \"total|hours\", \"opacity\": 0.7, \"y\": [5999.5400390625, 3462.27001953125], \"x\": [\"Feb\", \"Mar\"]}], {\"yaxis\": {\"showticklabels\": true, \"title\": \"Total Wages ($)\", \"type\": \"linear\"}, \"title\": \"STL, True\", \"bargap\": 0.2, \"barmode\": \"group\", \"xaxis\": {\"title\": \"Month\", \"type\": \"month\"}, \"legend\": {\"orientation\": \"h\"}}, {\"showLink\": true, \"linkText\": \"Export to plot.ly\"})});</script>"
      ]
     },
     "metadata": {},
     "output_type": "display_data"
    },
    {
     "name": "stdout",
     "output_type": "stream",
     "text": [
      "\n",
      "\n"
     ]
    }
   ],
   "source": [
    "# specify parameters\n",
    "subgroup = 'night_crew'\n",
    "y_list = ['doubletime|hours', 'overtime|hours', 'regular|hours', 'total|hours']\n",
    "\n",
    "print('''\n",
    "Hours by Warehouse/Labor Level\n",
    "''')\n",
    "\n",
    "interactive_bar_plot(ops_df, y_list, subgroup)"
   ]
  },
  {
   "cell_type": "markdown",
   "metadata": {},
   "source": [
    "## Hours by Warehouse & Manager"
   ]
  },
  {
   "cell_type": "code",
   "execution_count": 24,
   "metadata": {
    "hideCode": true,
    "scrolled": false
   },
   "outputs": [
    {
     "name": "stdout",
     "output_type": "stream",
     "text": [
      "\n",
      "Hours by Warehouse/Labor Level\n",
      "\n",
      "KC, Shipping Casual\n",
      "----------------------------------------------------------------------------------------------------\n",
      "month                 Feb     Mar\n",
      "doubletime|hours     0.00    0.00\n",
      "overtime|hours      31.46   87.84\n",
      "regular|hours     1711.19  789.81\n",
      "total|hours       1742.65  877.65\n"
     ]
    },
    {
     "data": {
      "application/vnd.plotly.v1+json": {
       "data": [
        {
         "name": "doubletime|hours",
         "opacity": 0.7,
         "text": "KC, Shipping Casual",
         "type": "bar",
         "visible": "visible",
         "x": [
          "Feb",
          "Mar"
         ],
         "y": [
          0,
          0
         ]
        },
        {
         "name": "overtime|hours",
         "opacity": 0.7,
         "text": "KC, Shipping Casual",
         "type": "bar",
         "visible": "visible",
         "x": [
          "Feb",
          "Mar"
         ],
         "y": [
          31.46000099182129,
          87.83999633789062
         ]
        },
        {
         "name": "regular|hours",
         "opacity": 0.7,
         "text": "KC, Shipping Casual",
         "type": "bar",
         "visible": "visible",
         "x": [
          "Feb",
          "Mar"
         ],
         "y": [
          1711.18994140625,
          789.8099975585938
         ]
        },
        {
         "name": "total|hours",
         "opacity": 0.7,
         "text": "KC, Shipping Casual",
         "type": "bar",
         "visible": "visible",
         "x": [
          "Feb",
          "Mar"
         ],
         "y": [
          1742.6500244140625,
          877.6500244140625
         ]
        }
       ],
       "layout": {
        "bargap": 0.2,
        "barmode": "group",
        "legend": {
         "orientation": "h"
        },
        "title": "KC, Shipping Casual",
        "xaxis": {
         "title": "Month",
         "type": "month"
        },
        "yaxis": {
         "showticklabels": true,
         "title": "Total Wages ($)",
         "type": "linear"
        }
       }
      },
      "text/html": [
       "<div id=\"88f95fc8-9ea0-456d-b841-dda5f7316abb\" style=\"height: 525px; width: 100%;\" class=\"plotly-graph-div\"></div><script type=\"text/javascript\">require([\"plotly\"], function(Plotly) { window.PLOTLYENV=window.PLOTLYENV || {};window.PLOTLYENV.BASE_URL=\"https://plot.ly\";Plotly.newPlot(\"88f95fc8-9ea0-456d-b841-dda5f7316abb\", [{\"text\": \"KC, Shipping Casual\", \"visible\": \"visible\", \"type\": \"bar\", \"name\": \"doubletime|hours\", \"opacity\": 0.7, \"y\": [0.0, 0.0], \"x\": [\"Feb\", \"Mar\"]}, {\"text\": \"KC, Shipping Casual\", \"visible\": \"visible\", \"type\": \"bar\", \"name\": \"overtime|hours\", \"opacity\": 0.7, \"y\": [31.46000099182129, 87.83999633789062], \"x\": [\"Feb\", \"Mar\"]}, {\"text\": \"KC, Shipping Casual\", \"visible\": \"visible\", \"type\": \"bar\", \"name\": \"regular|hours\", \"opacity\": 0.7, \"y\": [1711.18994140625, 789.8099975585938], \"x\": [\"Feb\", \"Mar\"]}, {\"text\": \"KC, Shipping Casual\", \"visible\": \"visible\", \"type\": \"bar\", \"name\": \"total|hours\", \"opacity\": 0.7, \"y\": [1742.6500244140625, 877.6500244140625], \"x\": [\"Feb\", \"Mar\"]}], {\"yaxis\": {\"showticklabels\": true, \"title\": \"Total Wages ($)\", \"type\": \"linear\"}, \"title\": \"KC, Shipping Casual\", \"bargap\": 0.2, \"barmode\": \"group\", \"xaxis\": {\"title\": \"Month\", \"type\": \"month\"}, \"legend\": {\"orientation\": \"h\"}}, {\"showLink\": true, \"linkText\": \"Export to plot.ly\"})});</script>"
      ],
      "text/vnd.plotly.v1+html": [
       "<div id=\"88f95fc8-9ea0-456d-b841-dda5f7316abb\" style=\"height: 525px; width: 100%;\" class=\"plotly-graph-div\"></div><script type=\"text/javascript\">require([\"plotly\"], function(Plotly) { window.PLOTLYENV=window.PLOTLYENV || {};window.PLOTLYENV.BASE_URL=\"https://plot.ly\";Plotly.newPlot(\"88f95fc8-9ea0-456d-b841-dda5f7316abb\", [{\"text\": \"KC, Shipping Casual\", \"visible\": \"visible\", \"type\": \"bar\", \"name\": \"doubletime|hours\", \"opacity\": 0.7, \"y\": [0.0, 0.0], \"x\": [\"Feb\", \"Mar\"]}, {\"text\": \"KC, Shipping Casual\", \"visible\": \"visible\", \"type\": \"bar\", \"name\": \"overtime|hours\", \"opacity\": 0.7, \"y\": [31.46000099182129, 87.83999633789062], \"x\": [\"Feb\", \"Mar\"]}, {\"text\": \"KC, Shipping Casual\", \"visible\": \"visible\", \"type\": \"bar\", \"name\": \"regular|hours\", \"opacity\": 0.7, \"y\": [1711.18994140625, 789.8099975585938], \"x\": [\"Feb\", \"Mar\"]}, {\"text\": \"KC, Shipping Casual\", \"visible\": \"visible\", \"type\": \"bar\", \"name\": \"total|hours\", \"opacity\": 0.7, \"y\": [1742.6500244140625, 877.6500244140625], \"x\": [\"Feb\", \"Mar\"]}], {\"yaxis\": {\"showticklabels\": true, \"title\": \"Total Wages ($)\", \"type\": \"linear\"}, \"title\": \"KC, Shipping Casual\", \"bargap\": 0.2, \"barmode\": \"group\", \"xaxis\": {\"title\": \"Month\", \"type\": \"month\"}, \"legend\": {\"orientation\": \"h\"}}, {\"showLink\": true, \"linkText\": \"Export to plot.ly\"})});</script>"
      ]
     },
     "metadata": {},
     "output_type": "display_data"
    },
    {
     "name": "stdout",
     "output_type": "stream",
     "text": [
      "\n",
      "\n",
      "KC, Shipping Wages\n",
      "----------------------------------------------------------------------------------------------------\n",
      "month                 Feb      Mar\n",
      "doubletime|hours     0.00     0.00\n",
      "overtime|hours     105.00   124.26\n",
      "regular|hours     2069.07  1124.40\n",
      "total|hours       2344.07  1368.66\n"
     ]
    },
    {
     "data": {
      "application/vnd.plotly.v1+json": {
       "data": [
        {
         "name": "doubletime|hours",
         "opacity": 0.7,
         "text": "KC, Shipping Wages",
         "type": "bar",
         "visible": "visible",
         "x": [
          "Feb",
          "Mar"
         ],
         "y": [
          0,
          0
         ]
        },
        {
         "name": "overtime|hours",
         "opacity": 0.7,
         "text": "KC, Shipping Wages",
         "type": "bar",
         "visible": "visible",
         "x": [
          "Feb",
          "Mar"
         ],
         "y": [
          105,
          124.26000213623047
         ]
        },
        {
         "name": "regular|hours",
         "opacity": 0.7,
         "text": "KC, Shipping Wages",
         "type": "bar",
         "visible": "visible",
         "x": [
          "Feb",
          "Mar"
         ],
         "y": [
          2069.070068359375,
          1124.4000244140625
         ]
        },
        {
         "name": "total|hours",
         "opacity": 0.7,
         "text": "KC, Shipping Wages",
         "type": "bar",
         "visible": "visible",
         "x": [
          "Feb",
          "Mar"
         ],
         "y": [
          2344.070068359375,
          1368.6600341796875
         ]
        }
       ],
       "layout": {
        "bargap": 0.2,
        "barmode": "group",
        "legend": {
         "orientation": "h"
        },
        "title": "KC, Shipping Wages",
        "xaxis": {
         "title": "Month",
         "type": "month"
        },
        "yaxis": {
         "showticklabels": true,
         "title": "Total Wages ($)",
         "type": "linear"
        }
       }
      },
      "text/html": [
       "<div id=\"e57a39eb-77f6-4ef9-a1de-6b03c5139e6b\" style=\"height: 525px; width: 100%;\" class=\"plotly-graph-div\"></div><script type=\"text/javascript\">require([\"plotly\"], function(Plotly) { window.PLOTLYENV=window.PLOTLYENV || {};window.PLOTLYENV.BASE_URL=\"https://plot.ly\";Plotly.newPlot(\"e57a39eb-77f6-4ef9-a1de-6b03c5139e6b\", [{\"text\": \"KC, Shipping Wages\", \"visible\": \"visible\", \"type\": \"bar\", \"name\": \"doubletime|hours\", \"opacity\": 0.7, \"y\": [0.0, 0.0], \"x\": [\"Feb\", \"Mar\"]}, {\"text\": \"KC, Shipping Wages\", \"visible\": \"visible\", \"type\": \"bar\", \"name\": \"overtime|hours\", \"opacity\": 0.7, \"y\": [105.0, 124.26000213623047], \"x\": [\"Feb\", \"Mar\"]}, {\"text\": \"KC, Shipping Wages\", \"visible\": \"visible\", \"type\": \"bar\", \"name\": \"regular|hours\", \"opacity\": 0.7, \"y\": [2069.070068359375, 1124.4000244140625], \"x\": [\"Feb\", \"Mar\"]}, {\"text\": \"KC, Shipping Wages\", \"visible\": \"visible\", \"type\": \"bar\", \"name\": \"total|hours\", \"opacity\": 0.7, \"y\": [2344.070068359375, 1368.6600341796875], \"x\": [\"Feb\", \"Mar\"]}], {\"yaxis\": {\"showticklabels\": true, \"title\": \"Total Wages ($)\", \"type\": \"linear\"}, \"title\": \"KC, Shipping Wages\", \"bargap\": 0.2, \"barmode\": \"group\", \"xaxis\": {\"title\": \"Month\", \"type\": \"month\"}, \"legend\": {\"orientation\": \"h\"}}, {\"showLink\": true, \"linkText\": \"Export to plot.ly\"})});</script>"
      ],
      "text/vnd.plotly.v1+html": [
       "<div id=\"e57a39eb-77f6-4ef9-a1de-6b03c5139e6b\" style=\"height: 525px; width: 100%;\" class=\"plotly-graph-div\"></div><script type=\"text/javascript\">require([\"plotly\"], function(Plotly) { window.PLOTLYENV=window.PLOTLYENV || {};window.PLOTLYENV.BASE_URL=\"https://plot.ly\";Plotly.newPlot(\"e57a39eb-77f6-4ef9-a1de-6b03c5139e6b\", [{\"text\": \"KC, Shipping Wages\", \"visible\": \"visible\", \"type\": \"bar\", \"name\": \"doubletime|hours\", \"opacity\": 0.7, \"y\": [0.0, 0.0], \"x\": [\"Feb\", \"Mar\"]}, {\"text\": \"KC, Shipping Wages\", \"visible\": \"visible\", \"type\": \"bar\", \"name\": \"overtime|hours\", \"opacity\": 0.7, \"y\": [105.0, 124.26000213623047], \"x\": [\"Feb\", \"Mar\"]}, {\"text\": \"KC, Shipping Wages\", \"visible\": \"visible\", \"type\": \"bar\", \"name\": \"regular|hours\", \"opacity\": 0.7, \"y\": [2069.070068359375, 1124.4000244140625], \"x\": [\"Feb\", \"Mar\"]}, {\"text\": \"KC, Shipping Wages\", \"visible\": \"visible\", \"type\": \"bar\", \"name\": \"total|hours\", \"opacity\": 0.7, \"y\": [2344.070068359375, 1368.6600341796875], \"x\": [\"Feb\", \"Mar\"]}], {\"yaxis\": {\"showticklabels\": true, \"title\": \"Total Wages ($)\", \"type\": \"linear\"}, \"title\": \"KC, Shipping Wages\", \"bargap\": 0.2, \"barmode\": \"group\", \"xaxis\": {\"title\": \"Month\", \"type\": \"month\"}, \"legend\": {\"orientation\": \"h\"}}, {\"showLink\": true, \"linkText\": \"Export to plot.ly\"})});</script>"
      ]
     },
     "metadata": {},
     "output_type": "display_data"
    },
    {
     "name": "stdout",
     "output_type": "stream",
     "text": [
      "\n",
      "\n",
      "KC, Warehouse Casual\n",
      "----------------------------------------------------------------------------------------------------\n",
      "month                 Feb     Mar\n",
      "doubletime|hours     0.00    0.00\n",
      "overtime|hours     197.18   48.52\n",
      "regular|hours     1200.46  674.67\n",
      "total|hours       1397.64  723.19\n"
     ]
    },
    {
     "data": {
      "application/vnd.plotly.v1+json": {
       "data": [
        {
         "name": "doubletime|hours",
         "opacity": 0.7,
         "text": "KC, Warehouse Casual",
         "type": "bar",
         "visible": "visible",
         "x": [
          "Feb",
          "Mar"
         ],
         "y": [
          0,
          0
         ]
        },
        {
         "name": "overtime|hours",
         "opacity": 0.7,
         "text": "KC, Warehouse Casual",
         "type": "bar",
         "visible": "visible",
         "x": [
          "Feb",
          "Mar"
         ],
         "y": [
          197.1800079345703,
          48.52000045776367
         ]
        },
        {
         "name": "regular|hours",
         "opacity": 0.7,
         "text": "KC, Warehouse Casual",
         "type": "bar",
         "visible": "visible",
         "x": [
          "Feb",
          "Mar"
         ],
         "y": [
          1200.4599609375,
          674.6699829101562
         ]
        },
        {
         "name": "total|hours",
         "opacity": 0.7,
         "text": "KC, Warehouse Casual",
         "type": "bar",
         "visible": "visible",
         "x": [
          "Feb",
          "Mar"
         ],
         "y": [
          1397.6400146484375,
          723.1900024414062
         ]
        }
       ],
       "layout": {
        "bargap": 0.2,
        "barmode": "group",
        "legend": {
         "orientation": "h"
        },
        "title": "KC, Warehouse Casual",
        "xaxis": {
         "title": "Month",
         "type": "month"
        },
        "yaxis": {
         "showticklabels": true,
         "title": "Total Wages ($)",
         "type": "linear"
        }
       }
      },
      "text/html": [
       "<div id=\"cfc678ac-0d1f-403b-bb3f-22af99c19f06\" style=\"height: 525px; width: 100%;\" class=\"plotly-graph-div\"></div><script type=\"text/javascript\">require([\"plotly\"], function(Plotly) { window.PLOTLYENV=window.PLOTLYENV || {};window.PLOTLYENV.BASE_URL=\"https://plot.ly\";Plotly.newPlot(\"cfc678ac-0d1f-403b-bb3f-22af99c19f06\", [{\"text\": \"KC, Warehouse Casual\", \"visible\": \"visible\", \"type\": \"bar\", \"name\": \"doubletime|hours\", \"opacity\": 0.7, \"y\": [0.0, 0.0], \"x\": [\"Feb\", \"Mar\"]}, {\"text\": \"KC, Warehouse Casual\", \"visible\": \"visible\", \"type\": \"bar\", \"name\": \"overtime|hours\", \"opacity\": 0.7, \"y\": [197.1800079345703, 48.52000045776367], \"x\": [\"Feb\", \"Mar\"]}, {\"text\": \"KC, Warehouse Casual\", \"visible\": \"visible\", \"type\": \"bar\", \"name\": \"regular|hours\", \"opacity\": 0.7, \"y\": [1200.4599609375, 674.6699829101562], \"x\": [\"Feb\", \"Mar\"]}, {\"text\": \"KC, Warehouse Casual\", \"visible\": \"visible\", \"type\": \"bar\", \"name\": \"total|hours\", \"opacity\": 0.7, \"y\": [1397.6400146484375, 723.1900024414062], \"x\": [\"Feb\", \"Mar\"]}], {\"yaxis\": {\"showticklabels\": true, \"title\": \"Total Wages ($)\", \"type\": \"linear\"}, \"title\": \"KC, Warehouse Casual\", \"bargap\": 0.2, \"barmode\": \"group\", \"xaxis\": {\"title\": \"Month\", \"type\": \"month\"}, \"legend\": {\"orientation\": \"h\"}}, {\"showLink\": true, \"linkText\": \"Export to plot.ly\"})});</script>"
      ],
      "text/vnd.plotly.v1+html": [
       "<div id=\"cfc678ac-0d1f-403b-bb3f-22af99c19f06\" style=\"height: 525px; width: 100%;\" class=\"plotly-graph-div\"></div><script type=\"text/javascript\">require([\"plotly\"], function(Plotly) { window.PLOTLYENV=window.PLOTLYENV || {};window.PLOTLYENV.BASE_URL=\"https://plot.ly\";Plotly.newPlot(\"cfc678ac-0d1f-403b-bb3f-22af99c19f06\", [{\"text\": \"KC, Warehouse Casual\", \"visible\": \"visible\", \"type\": \"bar\", \"name\": \"doubletime|hours\", \"opacity\": 0.7, \"y\": [0.0, 0.0], \"x\": [\"Feb\", \"Mar\"]}, {\"text\": \"KC, Warehouse Casual\", \"visible\": \"visible\", \"type\": \"bar\", \"name\": \"overtime|hours\", \"opacity\": 0.7, \"y\": [197.1800079345703, 48.52000045776367], \"x\": [\"Feb\", \"Mar\"]}, {\"text\": \"KC, Warehouse Casual\", \"visible\": \"visible\", \"type\": \"bar\", \"name\": \"regular|hours\", \"opacity\": 0.7, \"y\": [1200.4599609375, 674.6699829101562], \"x\": [\"Feb\", \"Mar\"]}, {\"text\": \"KC, Warehouse Casual\", \"visible\": \"visible\", \"type\": \"bar\", \"name\": \"total|hours\", \"opacity\": 0.7, \"y\": [1397.6400146484375, 723.1900024414062], \"x\": [\"Feb\", \"Mar\"]}], {\"yaxis\": {\"showticklabels\": true, \"title\": \"Total Wages ($)\", \"type\": \"linear\"}, \"title\": \"KC, Warehouse Casual\", \"bargap\": 0.2, \"barmode\": \"group\", \"xaxis\": {\"title\": \"Month\", \"type\": \"month\"}, \"legend\": {\"orientation\": \"h\"}}, {\"showLink\": true, \"linkText\": \"Export to plot.ly\"})});</script>"
      ]
     },
     "metadata": {},
     "output_type": "display_data"
    },
    {
     "name": "stdout",
     "output_type": "stream",
     "text": [
      "\n",
      "\n",
      "KC, Warehouse Repacking\n",
      "----------------------------------------------------------------------------------------------------\n",
      "month               Feb\n",
      "doubletime|hours   0.00\n",
      "overtime|hours    22.79\n",
      "regular|hours     14.50\n",
      "total|hours       37.29\n"
     ]
    },
    {
     "data": {
      "application/vnd.plotly.v1+json": {
       "data": [
        {
         "name": "doubletime|hours",
         "opacity": 0.7,
         "text": "KC, Warehouse Repacking",
         "type": "bar",
         "visible": "visible",
         "x": [
          "Feb"
         ],
         "y": [
          0
         ]
        },
        {
         "name": "overtime|hours",
         "opacity": 0.7,
         "text": "KC, Warehouse Repacking",
         "type": "bar",
         "visible": "visible",
         "x": [
          "Feb"
         ],
         "y": [
          22.790000915527344
         ]
        },
        {
         "name": "regular|hours",
         "opacity": 0.7,
         "text": "KC, Warehouse Repacking",
         "type": "bar",
         "visible": "visible",
         "x": [
          "Feb"
         ],
         "y": [
          14.5
         ]
        },
        {
         "name": "total|hours",
         "opacity": 0.7,
         "text": "KC, Warehouse Repacking",
         "type": "bar",
         "visible": "visible",
         "x": [
          "Feb"
         ],
         "y": [
          37.290000915527344
         ]
        }
       ],
       "layout": {
        "bargap": 0.2,
        "barmode": "group",
        "legend": {
         "orientation": "h"
        },
        "title": "KC, Warehouse Repacking",
        "xaxis": {
         "title": "Month",
         "type": "month"
        },
        "yaxis": {
         "showticklabels": true,
         "title": "Total Wages ($)",
         "type": "linear"
        }
       }
      },
      "text/html": [
       "<div id=\"4c8bd97f-8eb8-4adf-95c3-9ed1222ed36b\" style=\"height: 525px; width: 100%;\" class=\"plotly-graph-div\"></div><script type=\"text/javascript\">require([\"plotly\"], function(Plotly) { window.PLOTLYENV=window.PLOTLYENV || {};window.PLOTLYENV.BASE_URL=\"https://plot.ly\";Plotly.newPlot(\"4c8bd97f-8eb8-4adf-95c3-9ed1222ed36b\", [{\"text\": \"KC, Warehouse Repacking\", \"visible\": \"visible\", \"type\": \"bar\", \"name\": \"doubletime|hours\", \"opacity\": 0.7, \"y\": [0.0], \"x\": [\"Feb\"]}, {\"text\": \"KC, Warehouse Repacking\", \"visible\": \"visible\", \"type\": \"bar\", \"name\": \"overtime|hours\", \"opacity\": 0.7, \"y\": [22.790000915527344], \"x\": [\"Feb\"]}, {\"text\": \"KC, Warehouse Repacking\", \"visible\": \"visible\", \"type\": \"bar\", \"name\": \"regular|hours\", \"opacity\": 0.7, \"y\": [14.5], \"x\": [\"Feb\"]}, {\"text\": \"KC, Warehouse Repacking\", \"visible\": \"visible\", \"type\": \"bar\", \"name\": \"total|hours\", \"opacity\": 0.7, \"y\": [37.290000915527344], \"x\": [\"Feb\"]}], {\"yaxis\": {\"showticklabels\": true, \"title\": \"Total Wages ($)\", \"type\": \"linear\"}, \"title\": \"KC, Warehouse Repacking\", \"bargap\": 0.2, \"barmode\": \"group\", \"xaxis\": {\"title\": \"Month\", \"type\": \"month\"}, \"legend\": {\"orientation\": \"h\"}}, {\"showLink\": true, \"linkText\": \"Export to plot.ly\"})});</script>"
      ],
      "text/vnd.plotly.v1+html": [
       "<div id=\"4c8bd97f-8eb8-4adf-95c3-9ed1222ed36b\" style=\"height: 525px; width: 100%;\" class=\"plotly-graph-div\"></div><script type=\"text/javascript\">require([\"plotly\"], function(Plotly) { window.PLOTLYENV=window.PLOTLYENV || {};window.PLOTLYENV.BASE_URL=\"https://plot.ly\";Plotly.newPlot(\"4c8bd97f-8eb8-4adf-95c3-9ed1222ed36b\", [{\"text\": \"KC, Warehouse Repacking\", \"visible\": \"visible\", \"type\": \"bar\", \"name\": \"doubletime|hours\", \"opacity\": 0.7, \"y\": [0.0], \"x\": [\"Feb\"]}, {\"text\": \"KC, Warehouse Repacking\", \"visible\": \"visible\", \"type\": \"bar\", \"name\": \"overtime|hours\", \"opacity\": 0.7, \"y\": [22.790000915527344], \"x\": [\"Feb\"]}, {\"text\": \"KC, Warehouse Repacking\", \"visible\": \"visible\", \"type\": \"bar\", \"name\": \"regular|hours\", \"opacity\": 0.7, \"y\": [14.5], \"x\": [\"Feb\"]}, {\"text\": \"KC, Warehouse Repacking\", \"visible\": \"visible\", \"type\": \"bar\", \"name\": \"total|hours\", \"opacity\": 0.7, \"y\": [37.290000915527344], \"x\": [\"Feb\"]}], {\"yaxis\": {\"showticklabels\": true, \"title\": \"Total Wages ($)\", \"type\": \"linear\"}, \"title\": \"KC, Warehouse Repacking\", \"bargap\": 0.2, \"barmode\": \"group\", \"xaxis\": {\"title\": \"Month\", \"type\": \"month\"}, \"legend\": {\"orientation\": \"h\"}}, {\"showLink\": true, \"linkText\": \"Export to plot.ly\"})});</script>"
      ]
     },
     "metadata": {},
     "output_type": "display_data"
    },
    {
     "name": "stdout",
     "output_type": "stream",
     "text": [
      "\n",
      "\n",
      "KC, Warehouse Wages\n",
      "----------------------------------------------------------------------------------------------------\n",
      "month                 Feb     Mar\n",
      "doubletime|hours     5.73    0.00\n",
      "overtime|hours     179.93   47.29\n",
      "regular|hours     1235.62  678.47\n",
      "total|hours       1421.28  725.76\n"
     ]
    },
    {
     "data": {
      "application/vnd.plotly.v1+json": {
       "data": [
        {
         "name": "doubletime|hours",
         "opacity": 0.7,
         "text": "KC, Warehouse Wages",
         "type": "bar",
         "visible": "visible",
         "x": [
          "Feb",
          "Mar"
         ],
         "y": [
          5.730000019073486,
          0
         ]
        },
        {
         "name": "overtime|hours",
         "opacity": 0.7,
         "text": "KC, Warehouse Wages",
         "type": "bar",
         "visible": "visible",
         "x": [
          "Feb",
          "Mar"
         ],
         "y": [
          179.92999267578125,
          47.290000915527344
         ]
        },
        {
         "name": "regular|hours",
         "opacity": 0.7,
         "text": "KC, Warehouse Wages",
         "type": "bar",
         "visible": "visible",
         "x": [
          "Feb",
          "Mar"
         ],
         "y": [
          1235.6199951171875,
          678.469970703125
         ]
        },
        {
         "name": "total|hours",
         "opacity": 0.7,
         "text": "KC, Warehouse Wages",
         "type": "bar",
         "visible": "visible",
         "x": [
          "Feb",
          "Mar"
         ],
         "y": [
          1421.280029296875,
          725.760009765625
         ]
        }
       ],
       "layout": {
        "bargap": 0.2,
        "barmode": "group",
        "legend": {
         "orientation": "h"
        },
        "title": "KC, Warehouse Wages",
        "xaxis": {
         "title": "Month",
         "type": "month"
        },
        "yaxis": {
         "showticklabels": true,
         "title": "Total Wages ($)",
         "type": "linear"
        }
       }
      },
      "text/html": [
       "<div id=\"083de6e3-739e-4f42-b402-840b865109f8\" style=\"height: 525px; width: 100%;\" class=\"plotly-graph-div\"></div><script type=\"text/javascript\">require([\"plotly\"], function(Plotly) { window.PLOTLYENV=window.PLOTLYENV || {};window.PLOTLYENV.BASE_URL=\"https://plot.ly\";Plotly.newPlot(\"083de6e3-739e-4f42-b402-840b865109f8\", [{\"text\": \"KC, Warehouse Wages\", \"visible\": \"visible\", \"type\": \"bar\", \"name\": \"doubletime|hours\", \"opacity\": 0.7, \"y\": [5.730000019073486, 0.0], \"x\": [\"Feb\", \"Mar\"]}, {\"text\": \"KC, Warehouse Wages\", \"visible\": \"visible\", \"type\": \"bar\", \"name\": \"overtime|hours\", \"opacity\": 0.7, \"y\": [179.92999267578125, 47.290000915527344], \"x\": [\"Feb\", \"Mar\"]}, {\"text\": \"KC, Warehouse Wages\", \"visible\": \"visible\", \"type\": \"bar\", \"name\": \"regular|hours\", \"opacity\": 0.7, \"y\": [1235.6199951171875, 678.469970703125], \"x\": [\"Feb\", \"Mar\"]}, {\"text\": \"KC, Warehouse Wages\", \"visible\": \"visible\", \"type\": \"bar\", \"name\": \"total|hours\", \"opacity\": 0.7, \"y\": [1421.280029296875, 725.760009765625], \"x\": [\"Feb\", \"Mar\"]}], {\"yaxis\": {\"showticklabels\": true, \"title\": \"Total Wages ($)\", \"type\": \"linear\"}, \"title\": \"KC, Warehouse Wages\", \"bargap\": 0.2, \"barmode\": \"group\", \"xaxis\": {\"title\": \"Month\", \"type\": \"month\"}, \"legend\": {\"orientation\": \"h\"}}, {\"showLink\": true, \"linkText\": \"Export to plot.ly\"})});</script>"
      ],
      "text/vnd.plotly.v1+html": [
       "<div id=\"083de6e3-739e-4f42-b402-840b865109f8\" style=\"height: 525px; width: 100%;\" class=\"plotly-graph-div\"></div><script type=\"text/javascript\">require([\"plotly\"], function(Plotly) { window.PLOTLYENV=window.PLOTLYENV || {};window.PLOTLYENV.BASE_URL=\"https://plot.ly\";Plotly.newPlot(\"083de6e3-739e-4f42-b402-840b865109f8\", [{\"text\": \"KC, Warehouse Wages\", \"visible\": \"visible\", \"type\": \"bar\", \"name\": \"doubletime|hours\", \"opacity\": 0.7, \"y\": [5.730000019073486, 0.0], \"x\": [\"Feb\", \"Mar\"]}, {\"text\": \"KC, Warehouse Wages\", \"visible\": \"visible\", \"type\": \"bar\", \"name\": \"overtime|hours\", \"opacity\": 0.7, \"y\": [179.92999267578125, 47.290000915527344], \"x\": [\"Feb\", \"Mar\"]}, {\"text\": \"KC, Warehouse Wages\", \"visible\": \"visible\", \"type\": \"bar\", \"name\": \"regular|hours\", \"opacity\": 0.7, \"y\": [1235.6199951171875, 678.469970703125], \"x\": [\"Feb\", \"Mar\"]}, {\"text\": \"KC, Warehouse Wages\", \"visible\": \"visible\", \"type\": \"bar\", \"name\": \"total|hours\", \"opacity\": 0.7, \"y\": [1421.280029296875, 725.760009765625], \"x\": [\"Feb\", \"Mar\"]}], {\"yaxis\": {\"showticklabels\": true, \"title\": \"Total Wages ($)\", \"type\": \"linear\"}, \"title\": \"KC, Warehouse Wages\", \"bargap\": 0.2, \"barmode\": \"group\", \"xaxis\": {\"title\": \"Month\", \"type\": \"month\"}, \"legend\": {\"orientation\": \"h\"}}, {\"showLink\": true, \"linkText\": \"Export to plot.ly\"})});</script>"
      ]
     },
     "metadata": {},
     "output_type": "display_data"
    },
    {
     "name": "stdout",
     "output_type": "stream",
     "text": [
      "\n",
      "\n",
      "STL, Shipping Casual\n",
      "----------------------------------------------------------------------------------------------------\n",
      "month                 Feb      Mar\n",
      "doubletime|hours     0.00     0.00\n",
      "overtime|hours       8.08    10.12\n",
      "regular|hours     3401.03  1981.56\n",
      "total|hours       3409.11  1991.68\n"
     ]
    },
    {
     "data": {
      "application/vnd.plotly.v1+json": {
       "data": [
        {
         "name": "doubletime|hours",
         "opacity": 0.7,
         "text": "STL, Shipping Casual",
         "type": "bar",
         "visible": "visible",
         "x": [
          "Feb",
          "Mar"
         ],
         "y": [
          0,
          0
         ]
        },
        {
         "name": "overtime|hours",
         "opacity": 0.7,
         "text": "STL, Shipping Casual",
         "type": "bar",
         "visible": "visible",
         "x": [
          "Feb",
          "Mar"
         ],
         "y": [
          8.079999923706055,
          10.119999885559082
         ]
        },
        {
         "name": "regular|hours",
         "opacity": 0.7,
         "text": "STL, Shipping Casual",
         "type": "bar",
         "visible": "visible",
         "x": [
          "Feb",
          "Mar"
         ],
         "y": [
          3401.030029296875,
          1981.5599365234375
         ]
        },
        {
         "name": "total|hours",
         "opacity": 0.7,
         "text": "STL, Shipping Casual",
         "type": "bar",
         "visible": "visible",
         "x": [
          "Feb",
          "Mar"
         ],
         "y": [
          3409.110107421875,
          1991.6800537109375
         ]
        }
       ],
       "layout": {
        "bargap": 0.2,
        "barmode": "group",
        "legend": {
         "orientation": "h"
        },
        "title": "STL, Shipping Casual",
        "xaxis": {
         "title": "Month",
         "type": "month"
        },
        "yaxis": {
         "showticklabels": true,
         "title": "Total Wages ($)",
         "type": "linear"
        }
       }
      },
      "text/html": [
       "<div id=\"e39ce508-5cd2-4ce9-84c3-addd36cabf9c\" style=\"height: 525px; width: 100%;\" class=\"plotly-graph-div\"></div><script type=\"text/javascript\">require([\"plotly\"], function(Plotly) { window.PLOTLYENV=window.PLOTLYENV || {};window.PLOTLYENV.BASE_URL=\"https://plot.ly\";Plotly.newPlot(\"e39ce508-5cd2-4ce9-84c3-addd36cabf9c\", [{\"text\": \"STL, Shipping Casual\", \"visible\": \"visible\", \"type\": \"bar\", \"name\": \"doubletime|hours\", \"opacity\": 0.7, \"y\": [0.0, 0.0], \"x\": [\"Feb\", \"Mar\"]}, {\"text\": \"STL, Shipping Casual\", \"visible\": \"visible\", \"type\": \"bar\", \"name\": \"overtime|hours\", \"opacity\": 0.7, \"y\": [8.079999923706055, 10.119999885559082], \"x\": [\"Feb\", \"Mar\"]}, {\"text\": \"STL, Shipping Casual\", \"visible\": \"visible\", \"type\": \"bar\", \"name\": \"regular|hours\", \"opacity\": 0.7, \"y\": [3401.030029296875, 1981.5599365234375], \"x\": [\"Feb\", \"Mar\"]}, {\"text\": \"STL, Shipping Casual\", \"visible\": \"visible\", \"type\": \"bar\", \"name\": \"total|hours\", \"opacity\": 0.7, \"y\": [3409.110107421875, 1991.6800537109375], \"x\": [\"Feb\", \"Mar\"]}], {\"yaxis\": {\"showticklabels\": true, \"title\": \"Total Wages ($)\", \"type\": \"linear\"}, \"title\": \"STL, Shipping Casual\", \"bargap\": 0.2, \"barmode\": \"group\", \"xaxis\": {\"title\": \"Month\", \"type\": \"month\"}, \"legend\": {\"orientation\": \"h\"}}, {\"showLink\": true, \"linkText\": \"Export to plot.ly\"})});</script>"
      ],
      "text/vnd.plotly.v1+html": [
       "<div id=\"e39ce508-5cd2-4ce9-84c3-addd36cabf9c\" style=\"height: 525px; width: 100%;\" class=\"plotly-graph-div\"></div><script type=\"text/javascript\">require([\"plotly\"], function(Plotly) { window.PLOTLYENV=window.PLOTLYENV || {};window.PLOTLYENV.BASE_URL=\"https://plot.ly\";Plotly.newPlot(\"e39ce508-5cd2-4ce9-84c3-addd36cabf9c\", [{\"text\": \"STL, Shipping Casual\", \"visible\": \"visible\", \"type\": \"bar\", \"name\": \"doubletime|hours\", \"opacity\": 0.7, \"y\": [0.0, 0.0], \"x\": [\"Feb\", \"Mar\"]}, {\"text\": \"STL, Shipping Casual\", \"visible\": \"visible\", \"type\": \"bar\", \"name\": \"overtime|hours\", \"opacity\": 0.7, \"y\": [8.079999923706055, 10.119999885559082], \"x\": [\"Feb\", \"Mar\"]}, {\"text\": \"STL, Shipping Casual\", \"visible\": \"visible\", \"type\": \"bar\", \"name\": \"regular|hours\", \"opacity\": 0.7, \"y\": [3401.030029296875, 1981.5599365234375], \"x\": [\"Feb\", \"Mar\"]}, {\"text\": \"STL, Shipping Casual\", \"visible\": \"visible\", \"type\": \"bar\", \"name\": \"total|hours\", \"opacity\": 0.7, \"y\": [3409.110107421875, 1991.6800537109375], \"x\": [\"Feb\", \"Mar\"]}], {\"yaxis\": {\"showticklabels\": true, \"title\": \"Total Wages ($)\", \"type\": \"linear\"}, \"title\": \"STL, Shipping Casual\", \"bargap\": 0.2, \"barmode\": \"group\", \"xaxis\": {\"title\": \"Month\", \"type\": \"month\"}, \"legend\": {\"orientation\": \"h\"}}, {\"showLink\": true, \"linkText\": \"Export to plot.ly\"})});</script>"
      ]
     },
     "metadata": {},
     "output_type": "display_data"
    },
    {
     "name": "stdout",
     "output_type": "stream",
     "text": [
      "\n",
      "\n",
      "STL, Shipping Repacking\n",
      "----------------------------------------------------------------------------------------------------\n",
      "month               Feb   Mar\n",
      "doubletime|hours   0.00   0.0\n",
      "overtime|hours     0.00   0.0\n",
      "regular|hours     33.89  45.6\n",
      "total|hours       33.89  45.6\n"
     ]
    },
    {
     "data": {
      "application/vnd.plotly.v1+json": {
       "data": [
        {
         "name": "doubletime|hours",
         "opacity": 0.7,
         "text": "STL, Shipping Repacking",
         "type": "bar",
         "visible": "visible",
         "x": [
          "Feb",
          "Mar"
         ],
         "y": [
          0,
          0
         ]
        },
        {
         "name": "overtime|hours",
         "opacity": 0.7,
         "text": "STL, Shipping Repacking",
         "type": "bar",
         "visible": "visible",
         "x": [
          "Feb",
          "Mar"
         ],
         "y": [
          0,
          0
         ]
        },
        {
         "name": "regular|hours",
         "opacity": 0.7,
         "text": "STL, Shipping Repacking",
         "type": "bar",
         "visible": "visible",
         "x": [
          "Feb",
          "Mar"
         ],
         "y": [
          33.88999938964844,
          45.599998474121094
         ]
        },
        {
         "name": "total|hours",
         "opacity": 0.7,
         "text": "STL, Shipping Repacking",
         "type": "bar",
         "visible": "visible",
         "x": [
          "Feb",
          "Mar"
         ],
         "y": [
          33.88999938964844,
          45.599998474121094
         ]
        }
       ],
       "layout": {
        "bargap": 0.2,
        "barmode": "group",
        "legend": {
         "orientation": "h"
        },
        "title": "STL, Shipping Repacking",
        "xaxis": {
         "title": "Month",
         "type": "month"
        },
        "yaxis": {
         "showticklabels": true,
         "title": "Total Wages ($)",
         "type": "linear"
        }
       }
      },
      "text/html": [
       "<div id=\"cce22a01-f6f7-4186-a5d6-61f9e13675e7\" style=\"height: 525px; width: 100%;\" class=\"plotly-graph-div\"></div><script type=\"text/javascript\">require([\"plotly\"], function(Plotly) { window.PLOTLYENV=window.PLOTLYENV || {};window.PLOTLYENV.BASE_URL=\"https://plot.ly\";Plotly.newPlot(\"cce22a01-f6f7-4186-a5d6-61f9e13675e7\", [{\"text\": \"STL, Shipping Repacking\", \"visible\": \"visible\", \"type\": \"bar\", \"name\": \"doubletime|hours\", \"opacity\": 0.7, \"y\": [0.0, 0.0], \"x\": [\"Feb\", \"Mar\"]}, {\"text\": \"STL, Shipping Repacking\", \"visible\": \"visible\", \"type\": \"bar\", \"name\": \"overtime|hours\", \"opacity\": 0.7, \"y\": [0.0, 0.0], \"x\": [\"Feb\", \"Mar\"]}, {\"text\": \"STL, Shipping Repacking\", \"visible\": \"visible\", \"type\": \"bar\", \"name\": \"regular|hours\", \"opacity\": 0.7, \"y\": [33.88999938964844, 45.599998474121094], \"x\": [\"Feb\", \"Mar\"]}, {\"text\": \"STL, Shipping Repacking\", \"visible\": \"visible\", \"type\": \"bar\", \"name\": \"total|hours\", \"opacity\": 0.7, \"y\": [33.88999938964844, 45.599998474121094], \"x\": [\"Feb\", \"Mar\"]}], {\"yaxis\": {\"showticklabels\": true, \"title\": \"Total Wages ($)\", \"type\": \"linear\"}, \"title\": \"STL, Shipping Repacking\", \"bargap\": 0.2, \"barmode\": \"group\", \"xaxis\": {\"title\": \"Month\", \"type\": \"month\"}, \"legend\": {\"orientation\": \"h\"}}, {\"showLink\": true, \"linkText\": \"Export to plot.ly\"})});</script>"
      ],
      "text/vnd.plotly.v1+html": [
       "<div id=\"cce22a01-f6f7-4186-a5d6-61f9e13675e7\" style=\"height: 525px; width: 100%;\" class=\"plotly-graph-div\"></div><script type=\"text/javascript\">require([\"plotly\"], function(Plotly) { window.PLOTLYENV=window.PLOTLYENV || {};window.PLOTLYENV.BASE_URL=\"https://plot.ly\";Plotly.newPlot(\"cce22a01-f6f7-4186-a5d6-61f9e13675e7\", [{\"text\": \"STL, Shipping Repacking\", \"visible\": \"visible\", \"type\": \"bar\", \"name\": \"doubletime|hours\", \"opacity\": 0.7, \"y\": [0.0, 0.0], \"x\": [\"Feb\", \"Mar\"]}, {\"text\": \"STL, Shipping Repacking\", \"visible\": \"visible\", \"type\": \"bar\", \"name\": \"overtime|hours\", \"opacity\": 0.7, \"y\": [0.0, 0.0], \"x\": [\"Feb\", \"Mar\"]}, {\"text\": \"STL, Shipping Repacking\", \"visible\": \"visible\", \"type\": \"bar\", \"name\": \"regular|hours\", \"opacity\": 0.7, \"y\": [33.88999938964844, 45.599998474121094], \"x\": [\"Feb\", \"Mar\"]}, {\"text\": \"STL, Shipping Repacking\", \"visible\": \"visible\", \"type\": \"bar\", \"name\": \"total|hours\", \"opacity\": 0.7, \"y\": [33.88999938964844, 45.599998474121094], \"x\": [\"Feb\", \"Mar\"]}], {\"yaxis\": {\"showticklabels\": true, \"title\": \"Total Wages ($)\", \"type\": \"linear\"}, \"title\": \"STL, Shipping Repacking\", \"bargap\": 0.2, \"barmode\": \"group\", \"xaxis\": {\"title\": \"Month\", \"type\": \"month\"}, \"legend\": {\"orientation\": \"h\"}}, {\"showLink\": true, \"linkText\": \"Export to plot.ly\"})});</script>"
      ]
     },
     "metadata": {},
     "output_type": "display_data"
    },
    {
     "name": "stdout",
     "output_type": "stream",
     "text": [
      "\n",
      "\n",
      "STL, Shipping Wages\n",
      "----------------------------------------------------------------------------------------------------\n",
      "month                 Feb      Mar\n",
      "doubletime|hours    12.00     0.00\n",
      "overtime|hours      15.60    29.79\n",
      "regular|hours     2403.94  1284.70\n",
      "total|hours       2556.54  1424.99\n"
     ]
    },
    {
     "data": {
      "application/vnd.plotly.v1+json": {
       "data": [
        {
         "name": "doubletime|hours",
         "opacity": 0.7,
         "text": "STL, Shipping Wages",
         "type": "bar",
         "visible": "visible",
         "x": [
          "Feb",
          "Mar"
         ],
         "y": [
          12,
          0
         ]
        },
        {
         "name": "overtime|hours",
         "opacity": 0.7,
         "text": "STL, Shipping Wages",
         "type": "bar",
         "visible": "visible",
         "x": [
          "Feb",
          "Mar"
         ],
         "y": [
          15.600000381469727,
          29.790000915527344
         ]
        },
        {
         "name": "regular|hours",
         "opacity": 0.7,
         "text": "STL, Shipping Wages",
         "type": "bar",
         "visible": "visible",
         "x": [
          "Feb",
          "Mar"
         ],
         "y": [
          2403.93994140625,
          1284.699951171875
         ]
        },
        {
         "name": "total|hours",
         "opacity": 0.7,
         "text": "STL, Shipping Wages",
         "type": "bar",
         "visible": "visible",
         "x": [
          "Feb",
          "Mar"
         ],
         "y": [
          2556.5400390625,
          1424.989990234375
         ]
        }
       ],
       "layout": {
        "bargap": 0.2,
        "barmode": "group",
        "legend": {
         "orientation": "h"
        },
        "title": "STL, Shipping Wages",
        "xaxis": {
         "title": "Month",
         "type": "month"
        },
        "yaxis": {
         "showticklabels": true,
         "title": "Total Wages ($)",
         "type": "linear"
        }
       }
      },
      "text/html": [
       "<div id=\"5c1be3f2-f7d0-4d3d-9c0f-bd1499ff9444\" style=\"height: 525px; width: 100%;\" class=\"plotly-graph-div\"></div><script type=\"text/javascript\">require([\"plotly\"], function(Plotly) { window.PLOTLYENV=window.PLOTLYENV || {};window.PLOTLYENV.BASE_URL=\"https://plot.ly\";Plotly.newPlot(\"5c1be3f2-f7d0-4d3d-9c0f-bd1499ff9444\", [{\"text\": \"STL, Shipping Wages\", \"visible\": \"visible\", \"type\": \"bar\", \"name\": \"doubletime|hours\", \"opacity\": 0.7, \"y\": [12.0, 0.0], \"x\": [\"Feb\", \"Mar\"]}, {\"text\": \"STL, Shipping Wages\", \"visible\": \"visible\", \"type\": \"bar\", \"name\": \"overtime|hours\", \"opacity\": 0.7, \"y\": [15.600000381469727, 29.790000915527344], \"x\": [\"Feb\", \"Mar\"]}, {\"text\": \"STL, Shipping Wages\", \"visible\": \"visible\", \"type\": \"bar\", \"name\": \"regular|hours\", \"opacity\": 0.7, \"y\": [2403.93994140625, 1284.699951171875], \"x\": [\"Feb\", \"Mar\"]}, {\"text\": \"STL, Shipping Wages\", \"visible\": \"visible\", \"type\": \"bar\", \"name\": \"total|hours\", \"opacity\": 0.7, \"y\": [2556.5400390625, 1424.989990234375], \"x\": [\"Feb\", \"Mar\"]}], {\"yaxis\": {\"showticklabels\": true, \"title\": \"Total Wages ($)\", \"type\": \"linear\"}, \"title\": \"STL, Shipping Wages\", \"bargap\": 0.2, \"barmode\": \"group\", \"xaxis\": {\"title\": \"Month\", \"type\": \"month\"}, \"legend\": {\"orientation\": \"h\"}}, {\"showLink\": true, \"linkText\": \"Export to plot.ly\"})});</script>"
      ],
      "text/vnd.plotly.v1+html": [
       "<div id=\"5c1be3f2-f7d0-4d3d-9c0f-bd1499ff9444\" style=\"height: 525px; width: 100%;\" class=\"plotly-graph-div\"></div><script type=\"text/javascript\">require([\"plotly\"], function(Plotly) { window.PLOTLYENV=window.PLOTLYENV || {};window.PLOTLYENV.BASE_URL=\"https://plot.ly\";Plotly.newPlot(\"5c1be3f2-f7d0-4d3d-9c0f-bd1499ff9444\", [{\"text\": \"STL, Shipping Wages\", \"visible\": \"visible\", \"type\": \"bar\", \"name\": \"doubletime|hours\", \"opacity\": 0.7, \"y\": [12.0, 0.0], \"x\": [\"Feb\", \"Mar\"]}, {\"text\": \"STL, Shipping Wages\", \"visible\": \"visible\", \"type\": \"bar\", \"name\": \"overtime|hours\", \"opacity\": 0.7, \"y\": [15.600000381469727, 29.790000915527344], \"x\": [\"Feb\", \"Mar\"]}, {\"text\": \"STL, Shipping Wages\", \"visible\": \"visible\", \"type\": \"bar\", \"name\": \"regular|hours\", \"opacity\": 0.7, \"y\": [2403.93994140625, 1284.699951171875], \"x\": [\"Feb\", \"Mar\"]}, {\"text\": \"STL, Shipping Wages\", \"visible\": \"visible\", \"type\": \"bar\", \"name\": \"total|hours\", \"opacity\": 0.7, \"y\": [2556.5400390625, 1424.989990234375], \"x\": [\"Feb\", \"Mar\"]}], {\"yaxis\": {\"showticklabels\": true, \"title\": \"Total Wages ($)\", \"type\": \"linear\"}, \"title\": \"STL, Shipping Wages\", \"bargap\": 0.2, \"barmode\": \"group\", \"xaxis\": {\"title\": \"Month\", \"type\": \"month\"}, \"legend\": {\"orientation\": \"h\"}}, {\"showLink\": true, \"linkText\": \"Export to plot.ly\"})});</script>"
      ]
     },
     "metadata": {},
     "output_type": "display_data"
    },
    {
     "name": "stdout",
     "output_type": "stream",
     "text": [
      "\n",
      "\n",
      "STL, Warehouse Wages\n",
      "----------------------------------------------------------------------------------------------------\n",
      "month                 Feb      Mar\n",
      "doubletime|hours     0.00     0.00\n",
      "overtime|hours      89.06    66.54\n",
      "regular|hours     3091.73  1731.71\n",
      "total|hours       3407.14  1906.25\n"
     ]
    },
    {
     "data": {
      "application/vnd.plotly.v1+json": {
       "data": [
        {
         "name": "doubletime|hours",
         "opacity": 0.7,
         "text": "STL, Warehouse Wages",
         "type": "bar",
         "visible": "visible",
         "x": [
          "Feb",
          "Mar"
         ],
         "y": [
          0,
          0
         ]
        },
        {
         "name": "overtime|hours",
         "opacity": 0.7,
         "text": "STL, Warehouse Wages",
         "type": "bar",
         "visible": "visible",
         "x": [
          "Feb",
          "Mar"
         ],
         "y": [
          89.05999755859375,
          66.54000091552734
         ]
        },
        {
         "name": "regular|hours",
         "opacity": 0.7,
         "text": "STL, Warehouse Wages",
         "type": "bar",
         "visible": "visible",
         "x": [
          "Feb",
          "Mar"
         ],
         "y": [
          3091.72998046875,
          1731.7099609375
         ]
        },
        {
         "name": "total|hours",
         "opacity": 0.7,
         "text": "STL, Warehouse Wages",
         "type": "bar",
         "visible": "visible",
         "x": [
          "Feb",
          "Mar"
         ],
         "y": [
          3407.139892578125,
          1906.25
         ]
        }
       ],
       "layout": {
        "bargap": 0.2,
        "barmode": "group",
        "legend": {
         "orientation": "h"
        },
        "title": "STL, Warehouse Wages",
        "xaxis": {
         "title": "Month",
         "type": "month"
        },
        "yaxis": {
         "showticklabels": true,
         "title": "Total Wages ($)",
         "type": "linear"
        }
       }
      },
      "text/html": [
       "<div id=\"a14580c7-9b67-45b3-a8dc-fc4333020bfc\" style=\"height: 525px; width: 100%;\" class=\"plotly-graph-div\"></div><script type=\"text/javascript\">require([\"plotly\"], function(Plotly) { window.PLOTLYENV=window.PLOTLYENV || {};window.PLOTLYENV.BASE_URL=\"https://plot.ly\";Plotly.newPlot(\"a14580c7-9b67-45b3-a8dc-fc4333020bfc\", [{\"text\": \"STL, Warehouse Wages\", \"visible\": \"visible\", \"type\": \"bar\", \"name\": \"doubletime|hours\", \"opacity\": 0.7, \"y\": [0.0, 0.0], \"x\": [\"Feb\", \"Mar\"]}, {\"text\": \"STL, Warehouse Wages\", \"visible\": \"visible\", \"type\": \"bar\", \"name\": \"overtime|hours\", \"opacity\": 0.7, \"y\": [89.05999755859375, 66.54000091552734], \"x\": [\"Feb\", \"Mar\"]}, {\"text\": \"STL, Warehouse Wages\", \"visible\": \"visible\", \"type\": \"bar\", \"name\": \"regular|hours\", \"opacity\": 0.7, \"y\": [3091.72998046875, 1731.7099609375], \"x\": [\"Feb\", \"Mar\"]}, {\"text\": \"STL, Warehouse Wages\", \"visible\": \"visible\", \"type\": \"bar\", \"name\": \"total|hours\", \"opacity\": 0.7, \"y\": [3407.139892578125, 1906.25], \"x\": [\"Feb\", \"Mar\"]}], {\"yaxis\": {\"showticklabels\": true, \"title\": \"Total Wages ($)\", \"type\": \"linear\"}, \"title\": \"STL, Warehouse Wages\", \"bargap\": 0.2, \"barmode\": \"group\", \"xaxis\": {\"title\": \"Month\", \"type\": \"month\"}, \"legend\": {\"orientation\": \"h\"}}, {\"showLink\": true, \"linkText\": \"Export to plot.ly\"})});</script>"
      ],
      "text/vnd.plotly.v1+html": [
       "<div id=\"a14580c7-9b67-45b3-a8dc-fc4333020bfc\" style=\"height: 525px; width: 100%;\" class=\"plotly-graph-div\"></div><script type=\"text/javascript\">require([\"plotly\"], function(Plotly) { window.PLOTLYENV=window.PLOTLYENV || {};window.PLOTLYENV.BASE_URL=\"https://plot.ly\";Plotly.newPlot(\"a14580c7-9b67-45b3-a8dc-fc4333020bfc\", [{\"text\": \"STL, Warehouse Wages\", \"visible\": \"visible\", \"type\": \"bar\", \"name\": \"doubletime|hours\", \"opacity\": 0.7, \"y\": [0.0, 0.0], \"x\": [\"Feb\", \"Mar\"]}, {\"text\": \"STL, Warehouse Wages\", \"visible\": \"visible\", \"type\": \"bar\", \"name\": \"overtime|hours\", \"opacity\": 0.7, \"y\": [89.05999755859375, 66.54000091552734], \"x\": [\"Feb\", \"Mar\"]}, {\"text\": \"STL, Warehouse Wages\", \"visible\": \"visible\", \"type\": \"bar\", \"name\": \"regular|hours\", \"opacity\": 0.7, \"y\": [3091.72998046875, 1731.7099609375], \"x\": [\"Feb\", \"Mar\"]}, {\"text\": \"STL, Warehouse Wages\", \"visible\": \"visible\", \"type\": \"bar\", \"name\": \"total|hours\", \"opacity\": 0.7, \"y\": [3407.139892578125, 1906.25], \"x\": [\"Feb\", \"Mar\"]}], {\"yaxis\": {\"showticklabels\": true, \"title\": \"Total Wages ($)\", \"type\": \"linear\"}, \"title\": \"STL, Warehouse Wages\", \"bargap\": 0.2, \"barmode\": \"group\", \"xaxis\": {\"title\": \"Month\", \"type\": \"month\"}, \"legend\": {\"orientation\": \"h\"}}, {\"showLink\": true, \"linkText\": \"Export to plot.ly\"})});</script>"
      ]
     },
     "metadata": {},
     "output_type": "display_data"
    },
    {
     "name": "stdout",
     "output_type": "stream",
     "text": [
      "\n",
      "\n"
     ]
    }
   ],
   "source": [
    "# specify parameters\n",
    "subgroup = 'labor_level'\n",
    "y_list = ['doubletime|hours', 'overtime|hours', 'regular|hours', 'total|hours']\n",
    "\n",
    "print('''\n",
    "Hours by Warehouse/Labor Level\n",
    "''')\n",
    "\n",
    "interactive_bar_plot(ops_df, y_list, subgroup)"
   ]
  },
  {
   "cell_type": "code",
   "execution_count": null,
   "metadata": {},
   "outputs": [],
   "source": []
  },
  {
   "cell_type": "code",
   "execution_count": null,
   "metadata": {},
   "outputs": [],
   "source": []
  },
  {
   "cell_type": "code",
   "execution_count": null,
   "metadata": {},
   "outputs": [],
   "source": []
  },
  {
   "cell_type": "code",
   "execution_count": null,
   "metadata": {},
   "outputs": [],
   "source": []
  },
  {
   "cell_type": "code",
   "execution_count": null,
   "metadata": {},
   "outputs": [],
   "source": []
  },
  {
   "cell_type": "code",
   "execution_count": null,
   "metadata": {},
   "outputs": [],
   "source": []
  },
  {
   "cell_type": "code",
   "execution_count": null,
   "metadata": {},
   "outputs": [],
   "source": []
  },
  {
   "cell_type": "code",
   "execution_count": null,
   "metadata": {},
   "outputs": [],
   "source": []
  },
  {
   "cell_type": "markdown",
   "metadata": {
    "hideCode": true,
    "hideOutput": true,
    "hidePrompt": true
   },
   "source": [
    "# Abandoned Code Below."
   ]
  },
  {
   "cell_type": "code",
   "execution_count": 8,
   "metadata": {
    "hideCode": true,
    "hideOutput": true,
    "hidePrompt": true
   },
   "outputs": [],
   "source": [
    "# import matplotlib.pyplot as plt\n",
    "# import seaborn as sns\n",
    "# from math import ceil as roundup\n",
    "# %matplotlib inline\n",
    "\n",
    "# def plot_timeseries_by_category(ops_df, x, y='total|wages', category='labor_level', \n",
    "#                      sub_category='warehouse', suptitle=None, verbose=0):\n",
    "#     '''\n",
    "    \n",
    "#     '''\n",
    "#     all_categories = ops_df[category].unique()\n",
    "#     n_levels = len(all_categories)\n",
    "    \n",
    "#     if verbose:\n",
    "#         print('''\n",
    "#         There are {} levels in this category:\n",
    "#         {}\n",
    "#         '''.format(n_levels, all_levels))\n",
    "\n",
    "#     n_rows = roundup(n_levels/2)\n",
    "#     fig, axes = plt.subplots(nrows=n_rows, ncols=2, figsize=(15, 6*n_rows), sharex=False)\n",
    "\n",
    "#     for i, cat in enumerate(all_categories):\n",
    "#         _df = ops_df.loc[ops_df[category] == cat]\n",
    "#         _df =  _df.groupby([sub_category, x])[y].sum().reset_index(drop=False)\n",
    "\n",
    "#         all_subcategories = _df[sub_category].unique()\n",
    "        \n",
    "#         for subcat in all_subcategories:\n",
    "#             _df = _df.loc[_df[sub_category] == subcat]\n",
    "#             N = np.arange(len(_df[x].unique()))\n",
    "            \n",
    "#             if _df.shape[0] == 0:\n",
    "#                 pass\n",
    "#             elif i < n_rows:\n",
    "#                 _df.plot(x, y, kind='barh', ax=axes[i, 0])\n",
    "#                 #axes[i, 0].set_xticks(N, _df[x])\n",
    "#                 axes[i, 0].grid(alpha=.7)\n",
    "#                 axes[i, 0].set_xlabel('Total Wages')\n",
    "#                 axes[i, 0].set_ylabel('')\n",
    "#                 axes[i, 0].set_title(subcat)\n",
    "#                 axes[i, 0].legend(loc='best')\n",
    "#             else:\n",
    "#                 _df.plot(x, y, kind='barh', ax=axes[i-n_rows, 1])\n",
    "#                 axes[i-n_rows, 1].grid(alpha=.7)\n",
    "#                 axes[i-n_rows, 1].set_xlabel('Total Wages')\n",
    "#                 axes[i-n_rows, 1].set_ylabel('')\n",
    "#                 axes[i-n_rows, 1].set_title(subcat)\n",
    "#                 axes[i-n_rows, 1].legend(loc='best')\n",
    "#         sns.despine()\n",
    "        \n",
    "#     if suptitle != None: plt.suptitle(suptitle)\n",
    "    \n",
    "#     return None\n",
    "        \n",
    "# plot_by_category(ops_df, \n",
    "#                  x='month',\n",
    "#                  y='total|wages', \n",
    "#                  category='labor_level', \n",
    "#                  sub_category='warehouse', \n",
    "#                  suptitle='Hours v. Wages by Manager')\n"
   ]
  }
 ],
 "metadata": {
  "celltoolbar": "Hide code",
  "kernelspec": {
   "display_name": "Python [Anaconda3]",
   "language": "python",
   "name": "Python [Anaconda3]"
  },
  "language_info": {
   "codemirror_mode": {
    "name": "ipython",
    "version": 3
   },
   "file_extension": ".py",
   "mimetype": "text/x-python",
   "name": "python",
   "nbconvert_exporter": "python",
   "pygments_lexer": "ipython3",
   "version": "3.5.2"
  }
 },
 "nbformat": 4,
 "nbformat_minor": 2
}
