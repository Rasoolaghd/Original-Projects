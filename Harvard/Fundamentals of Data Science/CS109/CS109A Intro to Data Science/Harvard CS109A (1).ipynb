{
 "cells": [
  {
   "cell_type": "code",
   "execution_count": 1,
   "metadata": {
    "collapsed": false
   },
   "outputs": [
    {
     "name": "stdout",
     "output_type": "stream",
     "text": [
      "   color  spine  width  satell  weight\n",
      "0      2      3   28.3       8    3.05\n",
      "1      3      3   22.5       0    1.55\n",
      "2      1      1   26.0       9    2.30\n",
      "3      3      3   24.8       0    2.10\n",
      "4      3      3   26.0       4    2.60\n"
     ]
    }
   ],
   "source": [
    "## Harvard CS109A Placement Coding Exam\n",
    "## Paul Washburn 7-31-17\n",
    "\n",
    "import pandas as pd\n",
    "import numpy as np\n",
    "\n",
    "path = 'C:/Users/pmwash/Desktop/Harvard/Intro to Data Science A/HorseshoeCrab.csv'\n",
    "df = pd.read_csv(path, header=0)\n",
    "print(df.head())"
   ]
  },
  {
   "cell_type": "code",
   "execution_count": 2,
   "metadata": {
    "collapsed": false,
    "scrolled": false
   },
   "outputs": [
    {
     "name": "stdout",
     "output_type": "stream",
     "text": [
      "\n",
      "Question 1\n",
      "\n",
      "Load the data into a two-dimensional array structure (lists may work too). Then implement the following functionality in code, and provide answers to the questions.\n",
      "\n",
      "a. Implement a function that computes the mean over a column. Now, using your function, compute the average width of a Horseshoe Crab.\n",
      "\n",
      "b. Implement a median function. Find the median number of satellites in the dataset.\n",
      "\n",
      "c. Implement a function that computes the standard deviation. Use it to compute the standard deviation of weights of the crabs.\n",
      "\n",
      "\n",
      "Answers Question 1\n",
      "\n",
      "Part A.\n",
      "The average width of the Horseshoe Crabs in the dataset is 26.30\n",
      "\n",
      "Part B.\n",
      "The median width of the number of male Satellites in the dataset is 2.00\n",
      "\n",
      "Part C.\n",
      "The standard deviation of the Horseshoe Crab width in the dataset is 2.11\n",
      "\n",
      "\n",
      "Question 2\n",
      "\n",
      "In this question we will compute aggregate (grouped) statistics. You may call or re-use any code written in Question 1, if desired.\n",
      "\n",
      "a. Compute the mean width of crabs whose color is considered light (color codes 1 and 2).\n",
      " \n",
      "b. Write a function that accepts a two-dimensional array as an input; computes the mean, median, and standard deviation for every column in the array, and outputs the result in a two-dimensional array. The descriptive statistics should be on the rows, and the features as columns. Apply it to the Horseshoe crab dataset.\n",
      "\n",
      "\n",
      "Answers Question 2\n",
      "\n",
      "Part A.\n",
      "Mean width of crabs considered light (codes 1 and 2) is 26.73\n",
      "\n",
      "Part B.\n",
      "See below:\n",
      "\n",
      "           color     spine    width   satell    weight\n",
      "Mean     2.43931   2.48555  26.2988  2.91908   2.42679\n",
      "Median         2         3     26.1        2     2.325\n",
      "StdDev  0.801933  0.825516  2.10906  3.14834  0.600697\n"
     ]
    }
   ],
   "source": [
    "print('''\n",
    "Question 1\n",
    "\n",
    "Load the data into a two-dimensional array structure (lists may work too). Then implement the following functionality in code, and provide answers to the questions.\n",
    "\n",
    "a. Implement a function that computes the mean over a column. Now, using your function, compute the average width of a Horseshoe Crab.\n",
    "\n",
    "b. Implement a median function. Find the median number of satellites in the dataset.\n",
    "\n",
    "c. Implement a function that computes the standard deviation. Use it to compute the standard deviation of weights of the crabs.\n",
    "''')\n",
    "\n",
    "def getmean(series):\n",
    "    '''Gets mean from vector'''\n",
    "    N = len(series)\n",
    "    SUM = np.sum(series)\n",
    "    AVG = SUM / N\n",
    "    return AVG\n",
    "\n",
    "avg_width_crab = getmean(df.width.astype(np.float64))\n",
    "\n",
    "def getmedian(vector):\n",
    "    '''Gets median from vector'''\n",
    "    VEC = sorted(vector)\n",
    "    N = len(VEC)\n",
    "    MID = N // 2\n",
    "    if N % 2 != 0:\n",
    "        MEDIAN = (VEC[MID] + VEC[MID-1]) / 2\n",
    "    else:\n",
    "        MEDIAN = VEC[MID]\n",
    "    return MEDIAN\n",
    "\n",
    "med_satellites = getmedian(df.satell)\n",
    "\n",
    "def getstddev(vector):\n",
    "    '''Gets std dev'''\n",
    "    MEAN, Nless1 = getmean(vector), len(vector)-1\n",
    "    ls = []\n",
    "    for v in vector:\n",
    "        SQDEV = (v - MEAN)**2\n",
    "        ls.append(SQDEV)\n",
    "    SUMSQDEV = np.sum(ls)\n",
    "    STDDEV = np.sqrt(SUMSQDEV / Nless1)\n",
    "    return STDDEV\n",
    "\n",
    "stdev_width = getstddev(df.width)\n",
    "\n",
    "print('''\n",
    "Answers Question 1\n",
    "\n",
    "Part A.\n",
    "The average width of the Horseshoe Crabs in the dataset is %.2f\n",
    "\n",
    "Part B.\n",
    "The median width of the number of male Satellites in the dataset is %.2f\n",
    "\n",
    "Part C.\n",
    "The standard deviation of the Horseshoe Crab width in the dataset is %.2f\n",
    "''' %(avg_width_crab, med_satellites, stdev_width))\n",
    "\n",
    "\n",
    "print('''\n",
    "Question 2\n",
    "\n",
    "In this question we will compute aggregate (grouped) statistics. You may call or re-use any code written in Question 1, if desired.\n",
    "\n",
    "a. Compute the mean width of crabs whose color is considered light (color codes 1 and 2).\n",
    " \n",
    "b. Write a function that accepts a two-dimensional array as an input; computes the mean, median, and standard deviation for every column in the array, and outputs the result in a two-dimensional array. The descriptive statistics should be on the rows, and the features as columns. Apply it to the Horseshoe crab dataset.\n",
    "''')\n",
    "\n",
    "mean_lightcrabs = getmean(df.loc[df.color.isin([1,2]), 'width'])\n",
    "#df.groupby('color').mean()\n",
    "print('''\n",
    "Answers Question 2\n",
    "\n",
    "Part A.\n",
    "Mean width of crabs considered light (codes 1 and 2) is %.2f\n",
    "\n",
    "Part B.\n",
    "See below:\n",
    "''' %(mean_lightcrabs))\n",
    "\n",
    "def get_meanmedianstd_from2darray(df):\n",
    "    '''\n",
    "    Takes 2d array input and computes \n",
    "    mean median std dev for each column\n",
    "    outputs 2d array\n",
    "    '''\n",
    "    cols = df.columns\n",
    "    means, meds, stds = [], [], []\n",
    "    new_df = pd.DataFrame(index=cols, columns=['Mean','Median','StdDev'])\n",
    "    for col in cols:\n",
    "        new_df.loc[col, 'Mean'] = getmean(df[str(col)])\n",
    "        new_df.loc[col, 'Median'] = getmedian(df[col])\n",
    "        new_df.loc[col, 'StdDev'] = getstddev(df[col])\n",
    "    new_df = new_df.transpose()\n",
    "    \n",
    "    return new_df\n",
    "\n",
    "stat_df = get_meanmedianstd_from2darray(df)\n",
    "print(stat_df)"
   ]
  },
  {
   "cell_type": "code",
   "execution_count": null,
   "metadata": {
    "collapsed": true
   },
   "outputs": [],
   "source": []
  },
  {
   "cell_type": "code",
   "execution_count": null,
   "metadata": {
    "collapsed": true
   },
   "outputs": [],
   "source": []
  },
  {
   "cell_type": "code",
   "execution_count": null,
   "metadata": {
    "collapsed": true
   },
   "outputs": [],
   "source": []
  },
  {
   "cell_type": "code",
   "execution_count": null,
   "metadata": {
    "collapsed": true
   },
   "outputs": [],
   "source": []
  },
  {
   "cell_type": "code",
   "execution_count": null,
   "metadata": {
    "collapsed": true
   },
   "outputs": [],
   "source": []
  }
 ],
 "metadata": {
  "anaconda-cloud": {},
  "kernelspec": {
   "display_name": "Python [Root]",
   "language": "python",
   "name": "Python [Root]"
  },
  "language_info": {
   "codemirror_mode": {
    "name": "ipython",
    "version": 3
   },
   "file_extension": ".py",
   "mimetype": "text/x-python",
   "name": "python",
   "nbconvert_exporter": "python",
   "pygments_lexer": "ipython3",
   "version": "3.5.2"
  }
 },
 "nbformat": 4,
 "nbformat_minor": 0
}
