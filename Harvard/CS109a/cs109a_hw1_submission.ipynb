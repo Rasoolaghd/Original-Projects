{
 "cells": [
  {
   "cell_type": "markdown",
   "metadata": {},
   "source": [
    "# CS 109A/STAT 121A/AC 209A/CSCI E-109A: Homework 1\n",
    "\n",
    "\n",
    "\n",
    "**Harvard University**<br/>\n",
    "**Fall 2017**<br/>\n",
    "**Instructors**: Pavlos Protopapas, Kevin Rader, Rahul Dave, Margo Levine\n",
    "\n",
    "---\n",
    "\n",
    "### INSTRUCTIONS\n",
    "\n",
    "**WARNING**: There is web page scraping in this homework. It takes about 40 minutes. **Do not wait till the last minute** to do this homework.\n",
    "\n",
    "- To submit your assignment follow the instructions given in canvas.\n",
    "- Restart the kernel and run the whole notebook again before you submit. There is an important CAVEAT to this. DO NOT run the web-page fetching cells again. (We have provided hints like `# DO NOT RERUN THIS CELL WHEN SUBMITTING` on some of the cells where we provide the code). Instead load your data structures from the JSON files we will ask you to save below. Otherwise you will be waiting for a long time. (Another reason to not wait until the last moment to submit.)\n",
    "\n",
    "- Do not include your name in the notebook.\n",
    "\n",
    "---"
   ]
  },
  {
   "cell_type": "markdown",
   "metadata": {},
   "source": [
    "# Homework 1: Rihanna or Mariah?"
   ]
  },
  {
   "cell_type": "markdown",
   "metadata": {},
   "source": [
    "Billboard Magazine puts out a top 100 list of \"singles\" every week. Information from this list, as well as that from music sales, radio, and other sources is used to determine a top-100 \"singles\" of the year list. A **single** is typically one song, but sometimes can be two songs which are on one \"single\" record.\n",
    "\n",
    "In this homework you will: \n",
    "\n",
    "1. Scrape Wikipedia to obtain infprmation about the best singers and groups from each year (distinguishing between the two groups) as determined by the Billboard top 100 charts. You will have to clean this data. Along the way you will learn how to save data in json files to avoid repeated scraping. \n",
    "2. Scrape Wikipedia to obtain information on these singers. You will have to scrape the web pages, this time using a cache to guard against network timeouts (or your laptop going to sleep). You will again clean the data, and save it to a json file.\n",
    "3. Use pandas to represent these two datasets and merge them.\n",
    "4. Use the individual and merged datasets to visualize the performance of the artists and their songs. We have kept the amount of analysis limited here for reasons of time; but you might enjoy exploring music genres and other aspects of the music business you can find on these wikipedia pages at your own leisure."
   ]
  },
  {
   "cell_type": "markdown",
   "metadata": {},
   "source": [
    "You should have worked through Lab0 and Lab 1, and Lecture 2.  Lab 2 will help as well."
   ]
  },
  {
   "cell_type": "markdown",
   "metadata": {},
   "source": [
    "As usual, first we import the necessary libraries.  In particular, we use [Seaborn](http://stanford.edu/~mwaskom/software/seaborn/) to give us a nicer default color palette, with our plots being of large (`poster`) size and with a white-grid background. "
   ]
  },
  {
   "cell_type": "code",
   "execution_count": 1,
   "metadata": {
    "collapsed": true,
    "scrolled": false
   },
   "outputs": [],
   "source": [
    "%matplotlib inline\n",
    "import numpy as np\n",
    "import scipy as sp\n",
    "import matplotlib as mpl\n",
    "import matplotlib.cm as cm\n",
    "import matplotlib.pyplot as plt\n",
    "import pandas as pd\n",
    "import time\n",
    "pd.set_option('display.width', 500)\n",
    "pd.set_option('display.max_columns', 100)\n",
    "pd.set_option('display.notebook_repr_html', True)\n",
    "import seaborn as sns\n",
    "sns.set_style(\"whitegrid\")\n",
    "sns.set_context(\"poster\")"
   ]
  },
  {
   "cell_type": "markdown",
   "metadata": {},
   "source": [
    "## Q1. Scraping Wikipedia for Billboard Top 100."
   ]
  },
  {
   "cell_type": "markdown",
   "metadata": {},
   "source": [
    "In this question you will scrape Wikipedia for the Billboard's top 100 singles."
   ]
  },
  {
   "cell_type": "markdown",
   "metadata": {},
   "source": [
    "### Scraping Wikipedia for Billboard singles"
   ]
  },
  {
   "cell_type": "markdown",
   "metadata": {},
   "source": [
    "We'll be using  [BeautifulSoup](http://www.crummy.com/software/BeautifulSoup/), and suggest that you use Python's built in `requests` library to fetch the web page."
   ]
  },
  {
   "cell_type": "markdown",
   "metadata": {},
   "source": [
    "#### 1.1 Parsing the Billboard Wikipedia page for 1970"
   ]
  },
  {
   "cell_type": "markdown",
   "metadata": {},
   "source": [
    "Obtain the web page at http://en.wikipedia.org/wiki/Billboard_Year-End_Hot_100_singles_of_1970 using a HTTP GET request. From this web page we'll extract the top 100 singles and their rankings. Create a list of dictionaries, 100 of them to be precise, with entries like \n",
    "\n",
    "`{'url': '/wiki/Sugarloaf_(band)', 'ranking': 30, 'band_singer': 'Sugarloaf', 'title': 'Green-Eyed Lady'}`. \n",
    "\n",
    "If you look at that web page, you'll see a link for every song, from which you can get the `url` of the singer or band. We will use these links later to scrape information about the singer or band. From the listing we can also get the band or singer name `band_singer`, and `title` of the song.\n",
    "\n",
    "*HINT: look for a table with class `wikitable`.*"
   ]
  },
  {
   "cell_type": "code",
   "execution_count": 2,
   "metadata": {},
   "outputs": [],
   "source": [
    "import requests\n",
    "from bs4 import BeautifulSoup\n",
    "import pandas as pd\n",
    "\n",
    "url = 'https://en.wikipedia.org/wiki/Billboard_Year-End_Hot_100_singles_of_1970'\n",
    "def get_webpage_text(url):\n",
    "    '''Takes url as input (str) & outputs bs4.BeautifulSoup type text'''\n",
    "    url_r = requests.get(url)\n",
    "    text = BeautifulSoup(url_r.text, 'html.parser')\n",
    "    return text\n",
    "\n",
    "url_text = get_webpage_text(url)"
   ]
  },
  {
   "cell_type": "code",
   "execution_count": 3,
   "metadata": {
    "scrolled": false
   },
   "outputs": [
    {
     "name": "stdout",
     "output_type": "stream",
     "text": [
      "There are 1 wikitable(s) on this page.\n"
     ]
    },
    {
     "data": {
      "text/plain": [
       "[{'band_singer': 'The Guess Who',\n",
       "  'ranking': '3',\n",
       "  'title': '\"American Woman\"',\n",
       "  'url': '/wiki/American_Woman'},\n",
       " {'band_singer': 'B.J. Thomas',\n",
       "  'ranking': '4',\n",
       "  'title': '\"Raindrops Keep Fallin\\' on My Head\"',\n",
       "  'url': '/wiki/Raindrops_Keep_Fallin%27_on_My_Head'}]"
      ]
     },
     "execution_count": 3,
     "metadata": {},
     "output_type": "execute_result"
    }
   ],
   "source": [
    "wikitables = url_text.find_all('table', 'wikitable')\n",
    "print('There are %i wikitable(s) on this page.' %len(wikitables))\n",
    "wikitable = wikitables[0]\n",
    " \n",
    "def organize_1970_wikitable(wikitable, *url_column_names):\n",
    "    '''Takes wikitable in HTML form & outputs pd.DataFrame'''\n",
    "    rows = [row for row in wikitable.find_all('tr')]\n",
    "    header_row = rows[0]\n",
    "    columns = [col.get_text() for col in header_row.find_all('th') if col.get_text()]\n",
    "    columns[0] = 'No.'\n",
    "    url_columns = len(url_column_names)\n",
    "    n_columns = len(columns)\n",
    "\n",
    "    values, urls = [], []\n",
    "    for row in rows[1:]:\n",
    "        master_index = row.find_all('td')\n",
    "        for i, value in enumerate(master_index):\n",
    "            values.append(value.get_text())\n",
    "        for i in range(1):\n",
    "            try:\n",
    "                first_url = str(row.find('a')).split('\"')\n",
    "                first_url = [a for a in first_url if a.startswith('/wiki')]\n",
    "                urls.append(first_url[0])\n",
    "            except IndexError:\n",
    "                urls.append('')\n",
    "               \n",
    "    values_stacked = [values[i::n_columns] for i in range(n_columns)]\n",
    "    urls_stacked = [urls[i::url_columns] for i in range(url_columns)]\n",
    "    data_dict = {col:val for (col,val) in zip(columns, values_stacked)}\n",
    "    data_dict.update({col:val for (col,val) in zip(url_column_names, urls_stacked)})\n",
    "    df = pd.DataFrame(data_dict).rename(columns={'Artist(s)':'band_singer','No.':'ranking','Title':'title'})\n",
    "    data_dict = df.to_dict('records')\n",
    "    return data_dict\n",
    " \n",
    "songs = organize_1970_wikitable(wikitable, 'url')\n",
    "songs[2:4]\n",
    "#pd.DataFrame(data_dict)"
   ]
  },
  {
   "cell_type": "markdown",
   "metadata": {
    "scrolled": true
   },
   "source": [
    "You should get something similar to this (where songs is the aforementioned list):\n",
    "\n",
    "```\n",
    "songs[2:4]\n",
    "```\n",
    "\n",
    "```\n",
    "[{'band_singer': 'The Guess Who',\n",
    "  'ranking': 3,\n",
    "  'title': '\"American Woman\"',\n",
    "  'url': '/wiki/The_Guess_Who'},\n",
    " {'band_singer': 'B.J. Thomas',\n",
    "  'ranking': 4,\n",
    "  'title': '\"Raindrops Keep Fallin\\' on My Head\"',\n",
    "  'url': '/wiki/B.J._Thomas'}]\n",
    "```"
   ]
  },
  {
   "cell_type": "markdown",
   "metadata": {},
   "source": [
    "#### 1.2 Generalize the previous: scrape Wikipedia from 1992 to 2014"
   ]
  },
  {
   "cell_type": "markdown",
   "metadata": {},
   "source": [
    "By visiting the urls similar to the ones for 1970, we can obtain the billboard top 100 for the years 1992 to 2014. (We choose these later years rather than 1970 as you might find music from this era more interesting.) Download these using Python's `requests` module and store the text from those requests in a dictionary called `yearstext`. This dictionary ought to have as its keys the years (as integers from 1992 to 2014), and as values corresponding to these keys the text of the page being fetched.\n",
    "\n",
    "You ought to sleep a second (look up `time.sleep` in Python) at the very least in-between fetching each web page: you do not want Wikipedia to think you are a marauding bot attempting to mount a denial-of-service attack."
   ]
  },
  {
   "cell_type": "markdown",
   "metadata": {},
   "source": [
    "*HINT: you might find `range` and string-interpolation useful to construct the URLs *.\n"
   ]
  },
  {
   "cell_type": "code",
   "execution_count": 4,
   "metadata": {
    "scrolled": true
   },
   "outputs": [],
   "source": [
    "import time\n",
    "\n",
    "base_url = 'https://en.wikipedia.org/wiki/Billboard_Year-End_Hot_100_singles_of_'\n",
    "years = [int(yr) for yr in np.arange(1992, 2015)]\n",
    "url_years = [base_url + str(yr) for yr in years]\n",
    "\n",
    "yearstext = {} \n",
    "for i, url in enumerate(url_years):\n",
    "    yearstext[str(years[i])] = get_webpage_text(url)\n",
    "    time.sleep(1)"
   ]
  },
  {
   "cell_type": "markdown",
   "metadata": {},
   "source": [
    "#### 1.3 Parse and Clean data "
   ]
  },
  {
   "cell_type": "markdown",
   "metadata": {},
   "source": [
    "Remember the code you wrote to get data from 1970 which produces a list of dictionaries, one corresponding to each single.  Now write a function `parse_year(the_year, yeartext_dict)` which takes the year, prints it out, gets the text for the year from the just created `yearstext` dictionary, and return a list of dictionaries for that year, with one dictionary for each single. Store this list in the variable `yearinfo`.\n",
    "\n",
    "The dictionaries **must** be of this form:\n",
    "\n",
    "```\n",
    "{'band_singer': ['Brandy', 'Monica'],\n",
    "  'ranking': 2,\n",
    "  'song': ['The Boy Is Mine'],\n",
    "  'songurl': ['/wiki/The_Boy_Is_Mine_(song)'],\n",
    "  'titletext': '\" The Boy Is Mine \"',\n",
    "  'url': ['/wiki/Brandy_Norwood', '/wiki/Monica_(entertainer)']}\n",
    "```"
   ]
  },
  {
   "cell_type": "markdown",
   "metadata": {},
   "source": [
    "The spec of this function is provided below:"
   ]
  },
  {
   "cell_type": "code",
   "execution_count": 5,
   "metadata": {
    "scrolled": true
   },
   "outputs": [],
   "source": [
    "import string\n",
    "flatten_list = lambda l: [item for sublist in l for item in sublist]\n",
    "\n",
    "def replace_noise(ls):\n",
    "    ls = [b.replace('[', '') for b in ls]\n",
    "    ls = [b.replace(']', '') for b in ls]\n",
    "    ls = [b.replace(\"'\", '') for b in ls]\n",
    "    ls = [b.replace(\"\\\\\", '') for b in ls]\n",
    "    return ls\n",
    "\n",
    "def organize_modern_wikitable(wikitable, *url_column_names):\n",
    "    \"\"\"\n",
    "    Inputs\n",
    "    ------\n",
    "    wikitable: bs4 BeautifulSoup object containing a WikiTable from Wikipedia\n",
    "    *url_column_names: *args expecting two names for the band & song URL\n",
    "\n",
    "    Returns\n",
    "    -------\n",
    "    list of dictionaries containing data scraped from Wikipedia on the top \n",
    "    songs for a given year\n",
    "    \"\"\"\n",
    "    rows = [row for row in wikitable.find_all('tr')]\n",
    "    header_row = rows[0]\n",
    "    columns = [col.get_text() for col in header_row.find_all('th') if col.get_text()]\n",
    "    columns[0] = 'No.'\n",
    "    url_columns, n_columns = len(url_column_names), len(columns)\n",
    "    song_col, band_col = str(url_column_names[0]), str(url_column_names[1])\n",
    "   \n",
    "    ranks, songs, bands, song_urls, band_urls = [], [], [], [], []\n",
    "    rank = 1\n",
    "    for row in rows[1:]:\n",
    "        master_index = row.find_all('td')\n",
    "        rows_urls = row.find_all('a', href=True)\n",
    "        ranks.append(rank)#; print(rank)\n",
    "        \n",
    "        for i, row_values in enumerate(master_index):\n",
    "            if i == 0:\n",
    "                song = row_values.get_text()\n",
    "                song = str(song).split('</a>\" / \"<a')\n",
    "                song = str(song).split('/')\n",
    "                song = replace_noise(song)\n",
    "                songs.append(song)#; print(rank, song, len(song))\n",
    "            else:\n",
    "                band = row_values.get_text()\n",
    "                band = str(band).split('</a>')\n",
    "                band = [b.split('featuring') for b in band]\n",
    "                band = [str(b).split('and') for b in band]\n",
    "                band = flatten_list(band)\n",
    "                band = replace_noise(band)\n",
    "                bands.append(band)#; print(i, band)\n",
    "        \n",
    "        for i in range(1):\n",
    "            song_urls_row = []\n",
    "            try:\n",
    "                song_urls_row = [s['href'] for a,s in zip(range(5), rows_urls)]\n",
    "                song_urls_row = song_urls_row[:len(song)]\n",
    "                song_urls.append(song_urls_row)#; print(song_urls_row)\n",
    "            except IndexError:\n",
    "                song_urls.append([''])\n",
    "               \n",
    "        for i in range(1):\n",
    "            band_urls_row = []\n",
    "            try:\n",
    "                band_urls_row = [b['href'] for a,b in zip(range(5), rows_urls)]\n",
    "                band_urls_row = band_urls_row[len(song):]\n",
    "                band_urls.append(band_urls_row)#; print(band_urls_row)\n",
    "            except IndexError:\n",
    "                band_urls.append([''])\n",
    "                \n",
    "        rank += 1\n",
    "               \n",
    "    ranks_stacked = [ranks[i::1] for i in range(1)]#; print(ranks_stacked)\n",
    "    songs_stacked = [songs[i::1] for i in range(1)]\n",
    "    bands_stacked = [bands[i::1] for i in range(1)]\n",
    "    song_urls_stacked = [song_urls[i::1] for i in range(1)]\n",
    "    band_urls_stacked = [band_urls[i::1] for i in range(1)]\n",
    "   \n",
    "    data_dict = {col:val for (col,val) in zip(np.repeat('song', 100), songs_stacked)}\n",
    "    data_dict.update({col:val for (col,val) in zip(np.repeat('rank', 100), ranks_stacked)})\n",
    "    data_dict.update({col:val for (col,val) in zip(np.repeat('artist', 100), bands_stacked)})\n",
    "    data_dict.update({col:val for (col,val) in zip(np.repeat(song_col, 100), song_urls_stacked)})\n",
    "    data_dict.update({col:val for (col,val) in zip(np.repeat(band_col, 100), band_urls_stacked)})\n",
    "   \n",
    "    df = pd.DataFrame(data_dict)#.rename(columns={'Artist(s)':'band_singer', 'No.':'ranking', 'Title':'title', song_col:'url', band_col:'band_url'})\n",
    "    df['titletext'] = df.song.astype(str).apply(lambda s: s.replace('[', ''))\n",
    "    df['titletext'] = df.titletext.astype(str).apply(lambda s: s.replace(']', ''))\n",
    "    df['titletext'] = df.titletext.astype(str).apply(lambda s: s.replace(\"'\", ''))\n",
    "    df['titletext'] = df.titletext.astype(str).apply(lambda s: s.replace(',', '/'))\n",
    "    data_dict = df.to_dict('records')\n",
    "    return data_dict\n",
    " \n",
    "\n",
    "\n",
    "def parse_year(the_year, yeartext_dict):\n",
    "    \"\"\"\n",
    "    Inputs\n",
    "    ------\n",
    "    the_year: the year you want the singles for\n",
    "    yeartext_dict: a dictionary with keys as integer years and values the downloaded web pages \n",
    "        from wikipedia for that year.\n",
    "\n",
    "    Returns\n",
    "    -------\n",
    "    a list of dictionaries, each of which corresponds to a single and has the\n",
    "    following data:\n",
    "    \"\"\"\n",
    "    print('''\n",
    "    Getting data for year %s\n",
    "    ''' %str(the_year))\n",
    "    \n",
    "    the_year = str(the_year)\n",
    "    url_text = yeartext_dict[the_year]\n",
    "    wikitables_yr = url_text.find_all('table', 'wikitable')\n",
    "    wikitable_yr = wikitables_yr[0]\n",
    "    list_of_dicts = organize_modern_wikitable(wikitable_yr, 'songurl', 'url')\n",
    "    the_year = np.repeat(the_year, 100).tolist()\n",
    "    return list_of_dicts, the_year"
   ]
  },
  {
   "cell_type": "code",
   "execution_count": 6,
   "metadata": {
    "scrolled": false
   },
   "outputs": [
    {
     "name": "stdout",
     "output_type": "stream",
     "text": [
      "\n",
      "    Getting data for year 1992\n",
      "    \n",
      "\n",
      "    Getting data for year 1993\n",
      "    \n",
      "\n",
      "    Getting data for year 1994\n",
      "    \n",
      "\n",
      "    Getting data for year 1995\n",
      "    \n",
      "\n",
      "    Getting data for year 1996\n",
      "    \n",
      "\n",
      "    Getting data for year 1997\n",
      "    \n",
      "\n",
      "    Getting data for year 1998\n",
      "    \n",
      "\n",
      "    Getting data for year 1999\n",
      "    \n",
      "\n",
      "    Getting data for year 2000\n",
      "    \n",
      "\n",
      "    Getting data for year 2001\n",
      "    \n",
      "\n",
      "    Getting data for year 2002\n",
      "    \n",
      "\n",
      "    Getting data for year 2003\n",
      "    \n",
      "\n",
      "    Getting data for year 2004\n",
      "    \n",
      "\n",
      "    Getting data for year 2005\n",
      "    \n",
      "\n",
      "    Getting data for year 2006\n",
      "    \n",
      "\n",
      "    Getting data for year 2007\n",
      "    \n",
      "\n",
      "    Getting data for year 2008\n",
      "    \n",
      "\n",
      "    Getting data for year 2009\n",
      "    \n",
      "\n",
      "    Getting data for year 2010\n",
      "    \n",
      "\n",
      "    Getting data for year 2011\n",
      "    \n",
      "\n",
      "    Getting data for year 2012\n",
      "    \n",
      "\n",
      "    Getting data for year 2013\n",
      "    \n",
      "\n",
      "    Getting data for year 2014\n",
      "    \n"
     ]
    }
   ],
   "source": [
    "yearinfo, new_years = [], []\n",
    "for i, item in enumerate(yearstext.items()):\n",
    "    dat, yr = parse_year(the_year=years[i], yeartext_dict=yearstext)\n",
    "    new_years = new_years + yr\n",
    "    yearinfo.append(dat)"
   ]
  },
  {
   "cell_type": "markdown",
   "metadata": {},
   "source": [
    "#### Helpful notes\n",
    "\n",
    "Notice that some singles might have multiple songs:\n",
    "\n",
    "```\n",
    "{'band_singer': ['Jewel'],\n",
    "  'ranking': 2,\n",
    "  'song': ['Foolish Games', 'You Were Meant for Me'],\n",
    "  'songurl': ['/wiki/Foolish_Games',\n",
    "   '/wiki/You_Were_Meant_for_Me_(Jewel_song)'],\n",
    "  'titletext': '\" Foolish Games \" / \" You Were Meant for Me \"',\n",
    "  'url': ['/wiki/Jewel_(singer)']}\n",
    "```"
   ]
  },
  {
   "cell_type": "markdown",
   "metadata": {},
   "source": [
    "And some singles don't have a song URL:\n",
    "\n",
    "```\n",
    "{'band_singer': [u'Nu Flavor'],\n",
    "  'ranking': 91,\n",
    "  'song': [u'Heaven'],\n",
    "  'songurl': [None],\n",
    "  'titletext': u'\"Heaven\"',\n",
    "  'url': [u'/wiki/Nu_Flavor']}\n",
    "```"
   ]
  },
  {
   "cell_type": "markdown",
   "metadata": {},
   "source": [
    "Thus there are some issues this function must handle:\n",
    "\n",
    "1. There can be more than one  `band_singer` as can be seen above (sometimes with a comma, sometimes with \"featuring\" in between). The best way to parse these is to look for the urls.\n",
    "2. There can be two songs in a single, because of the way the industry works: there are two-sided singles. See https://en.wikipedia.org/wiki/Billboard_Year-End_Hot_100_singles_of_1997 for an example. You can find other examples in 1998 and 1999.\n",
    "3. The `titletext` is the contents of the table cell, and retains the quotes that Wikipedia puts on the single.\n",
    "4. If no song anchor is found (see the 24th song in the above url), assume there is one song in the single, set `songurl` to [`None`] and the song name to the contents of the table cell with the quotes stripped (ie `song` is a one-element list with this the `titletext` stripped of its quotes)."
   ]
  },
  {
   "cell_type": "markdown",
   "metadata": {},
   "source": [
    "As a check, we can do this for 1997. We'll print the first 5 outputs: `parse_year(1997, yearstext)[:5]`"
   ]
  },
  {
   "cell_type": "markdown",
   "metadata": {},
   "source": [
    "This should give the following. Notice that the year 1997 exercises the edge cases we talked about earlier."
   ]
  },
  {
   "cell_type": "markdown",
   "metadata": {},
   "source": [
    "```\n",
    "[{'band_singer': ['Elton John'],\n",
    "  'ranking': 1,\n",
    "  'song': ['Something About the Way You Look Tonight',\n",
    "   'Candle in the Wind 1997'],\n",
    "  'songurl': ['/wiki/Something_About_the_Way_You_Look_Tonight',\n",
    "   '/wiki/Candle_in_the_Wind_1997'],\n",
    "  'titletext': '\" Something About the Way You Look Tonight \" / \" Candle in the Wind 1997 \"',\n",
    "  'url': ['/wiki/Elton_John']},\n",
    " {'band_singer': ['Jewel'],\n",
    "  'ranking': 2,\n",
    "  'song': ['Foolish Games', 'You Were Meant for Me'],\n",
    "  'songurl': ['/wiki/Foolish_Games',\n",
    "   '/wiki/You_Were_Meant_for_Me_(Jewel_song)'],\n",
    "  'titletext': '\" Foolish Games \" / \" You Were Meant for Me \"',\n",
    "  'url': ['/wiki/Jewel_(singer)']},\n",
    " {'band_singer': ['Puff Daddy', 'Faith Evans', '112'],\n",
    "  'ranking': 3,\n",
    "  'song': [\"I'll Be Missing You\"],\n",
    "  'songurl': ['/wiki/I%27ll_Be_Missing_You'],\n",
    "  'titletext': '\" I\\'ll Be Missing You \"',\n",
    "  'url': ['/wiki/Sean_Combs', '/wiki/Faith_Evans', '/wiki/112_(band)']},\n",
    " {'band_singer': ['Toni Braxton'],\n",
    "  'ranking': 4,\n",
    "  'song': ['Un-Break My Heart'],\n",
    "  'songurl': ['/wiki/Un-Break_My_Heart'],\n",
    "  'titletext': '\" Un-Break My Heart \"',\n",
    "  'url': ['/wiki/Toni_Braxton']},\n",
    " {'band_singer': ['Puff Daddy', 'Mase'],\n",
    "  'ranking': 5,\n",
    "  'song': [\"Can't Nobody Hold Me Down\"],\n",
    "  'songurl': ['/wiki/Can%27t_Nobody_Hold_Me_Down'],\n",
    "  'titletext': '\" Can\\'t Nobody Hold Me Down \"',\n",
    "  'url': ['/wiki/Sean_Combs', '/wiki/Mase']}]\n",
    "```"
   ]
  },
  {
   "cell_type": "markdown",
   "metadata": {},
   "source": [
    "#### Save a json file of information from the scraped files"
   ]
  },
  {
   "cell_type": "markdown",
   "metadata": {},
   "source": [
    "We do not want to lose all this work, so let's save the last data structure we created to disk. That way if you need to re-run from here, you don't need to redo all these requests and parsing. \n",
    "\n",
    "DO NOT RERUN THE HTTP REQUESTS TO WIKIPEDIA WHEN SUBMITTING.\n",
    "\n",
    "*We **DO NOT** need to see these JSON files in your submission!*"
   ]
  },
  {
   "cell_type": "code",
   "execution_count": 7,
   "metadata": {},
   "outputs": [],
   "source": [
    "import json\n",
    "import os"
   ]
  },
  {
   "cell_type": "code",
   "execution_count": null,
   "metadata": {
    "scrolled": false
   },
   "outputs": [],
   "source": [
    "# # DO NOT RERUN THIS CELL WHEN SUBMITTING\n",
    "# json_path = str(os.getcwd()) + '/yearinfo.json'\n",
    "# fd = open(json_path, 'w')\n",
    "# json.dump(yearinfo, fd)\n",
    "# fd.close()\n",
    "# del yearinfo"
   ]
  },
  {
   "cell_type": "markdown",
   "metadata": {},
   "source": [
    "Now let's reload our JSON file into the yearinfo variable, just to be sure everything is working."
   ]
  },
  {
   "cell_type": "code",
   "execution_count": 8,
   "metadata": {
    "scrolled": false
   },
   "outputs": [],
   "source": [
    "# RERUN WHEN SUBMITTING\n",
    "# Another way to deal with files. Has the advantage of closing the file for you.\n",
    "json_path = str(os.getcwd()) + '/yearinfo.json'\n",
    "with open(json_path, 'r') as fd:\n",
    "    yearinfo = json.load(fd)"
   ]
  },
  {
   "cell_type": "markdown",
   "metadata": {},
   "source": [
    "#### 1.4 Construct a year-song-singer dataframe from the yearly information"
   ]
  },
  {
   "cell_type": "markdown",
   "metadata": {},
   "source": [
    "Let's construct a dataframe `flatframe` from the `yearinfo`. The frame should be similar to the frame below.  Each row of the frame represents a song, and carries with it the chief properties of year, song, singer, and ranking.\n",
    "\n",
    "![](https://raw.githubusercontent.com/cs109/a-2017/master/hwassets/images/HW1SC1.png)"
   ]
  },
  {
   "cell_type": "code",
   "execution_count": 9,
   "metadata": {
    "scrolled": false
   },
   "outputs": [
    {
     "data": {
      "text/html": [
       "<div>\n",
       "<style>\n",
       "    .dataframe thead tr:only-child th {\n",
       "        text-align: right;\n",
       "    }\n",
       "\n",
       "    .dataframe thead th {\n",
       "        text-align: left;\n",
       "    }\n",
       "\n",
       "    .dataframe tbody tr th {\n",
       "        vertical-align: top;\n",
       "    }\n",
       "</style>\n",
       "<table border=\"1\" class=\"dataframe\">\n",
       "  <thead>\n",
       "    <tr style=\"text-align: right;\">\n",
       "      <th></th>\n",
       "      <th>artist</th>\n",
       "      <th>rank</th>\n",
       "      <th>song</th>\n",
       "      <th>songurl</th>\n",
       "      <th>titletext</th>\n",
       "      <th>url</th>\n",
       "      <th>year</th>\n",
       "    </tr>\n",
       "  </thead>\n",
       "  <tbody>\n",
       "    <tr>\n",
       "      <th>2295</th>\n",
       "      <td>[ScHoolboy Q ,  BJ the Chicago Kid]</td>\n",
       "      <td>96</td>\n",
       "      <td>[\"Studio\"]</td>\n",
       "      <td>[/wiki/Studio_(song)]</td>\n",
       "      <td>\"Studio\"</td>\n",
       "      <td>[/wiki/ScHoolboy_Q, /wiki/BJ_the_Chicago_Kid]</td>\n",
       "      <td>2014</td>\n",
       "    </tr>\n",
       "    <tr>\n",
       "      <th>2296</th>\n",
       "      <td>[Drake]</td>\n",
       "      <td>97</td>\n",
       "      <td>[\"0 to 100 ,  The Catch Up\"]</td>\n",
       "      <td>[/wiki/0_to_100_/_The_Catch_Up, /wiki/Drake_(r...</td>\n",
       "      <td>\"0 to 100 /  The Catch Up\"</td>\n",
       "      <td>[]</td>\n",
       "      <td>2014</td>\n",
       "    </tr>\n",
       "    <tr>\n",
       "      <th>2297</th>\n",
       "      <td>[Lee Brice]</td>\n",
       "      <td>98</td>\n",
       "      <td>[\"I Dont Dance\"]</td>\n",
       "      <td>[/wiki/I_Don%27t_Dance_(Lee_Brice_song)]</td>\n",
       "      <td>\"I Dont Dance\"</td>\n",
       "      <td>[/wiki/Lee_Brice]</td>\n",
       "      <td>2014</td>\n",
       "    </tr>\n",
       "    <tr>\n",
       "      <th>2298</th>\n",
       "      <td>[Mir, a Lambert ,  Carrie Underwood]</td>\n",
       "      <td>99</td>\n",
       "      <td>[\"Somethin Bad\"]</td>\n",
       "      <td>[/wiki/Somethin%27_Bad]</td>\n",
       "      <td>\"Somethin Bad\"</td>\n",
       "      <td>[/wiki/Miranda_Lambert, /wiki/Carrie_Underwood]</td>\n",
       "      <td>2014</td>\n",
       "    </tr>\n",
       "    <tr>\n",
       "      <th>2299</th>\n",
       "      <td>[Miley Cyrus]</td>\n",
       "      <td>100</td>\n",
       "      <td>[\"Adore You\"]</td>\n",
       "      <td>[/wiki/Adore_You]</td>\n",
       "      <td>\"Adore You\"</td>\n",
       "      <td>[/wiki/Miley_Cyrus]</td>\n",
       "      <td>2014</td>\n",
       "    </tr>\n",
       "  </tbody>\n",
       "</table>\n",
       "</div>"
      ],
      "text/plain": [
       "                                    artist  rank                          song                                            songurl                   titletext                                              url  year\n",
       "2295   [ScHoolboy Q ,  BJ the Chicago Kid]    96                    [\"Studio\"]                              [/wiki/Studio_(song)]                    \"Studio\"    [/wiki/ScHoolboy_Q, /wiki/BJ_the_Chicago_Kid]  2014\n",
       "2296                               [Drake]    97  [\"0 to 100 ,  The Catch Up\"]  [/wiki/0_to_100_/_The_Catch_Up, /wiki/Drake_(r...  \"0 to 100 /  The Catch Up\"                                               []  2014\n",
       "2297                           [Lee Brice]    98              [\"I Dont Dance\"]           [/wiki/I_Don%27t_Dance_(Lee_Brice_song)]              \"I Dont Dance\"                                [/wiki/Lee_Brice]  2014\n",
       "2298  [Mir, a Lambert ,  Carrie Underwood]    99              [\"Somethin Bad\"]                            [/wiki/Somethin%27_Bad]              \"Somethin Bad\"  [/wiki/Miranda_Lambert, /wiki/Carrie_Underwood]  2014\n",
       "2299                         [Miley Cyrus]   100                 [\"Adore You\"]                                  [/wiki/Adore_You]                 \"Adore You\"                              [/wiki/Miley_Cyrus]  2014"
      ]
     },
     "execution_count": 9,
     "metadata": {},
     "output_type": "execute_result"
    }
   ],
   "source": [
    "df = pd.DataFrame()\n",
    "\n",
    "for i, ls in enumerate(yearinfo):\n",
    "    new_df = pd.DataFrame.from_dict(ls)\n",
    "    df = df.append(new_df, ignore_index=True)\n",
    "\n",
    "df['year'] = new_years\n",
    "df.tail()"
   ]
  },
  {
   "cell_type": "markdown",
   "metadata": {},
   "source": [
    "To construct the dataframe, we'll need to iterate over the years and the singles per year. Notice how, above, the dataframe is ordered by ranking and then year. While the exact order is up to you, note that you will have to come up with a scheme to order the information.\n",
    "\n",
    "Check that the dataframe has sensible data types. You will also likely find that the year field has become an \"object\" (Pandas treats strings as generic objects): this is due to the conversion to and back from JSON. Such conversions need special care. Fix any data type issues with `flatframe`. (See Pandas [astype](http://pandas.pydata.org/pandas-docs/stable/generated/pandas.DataFrame.astype.html) function.) \n",
    "We will use this `flatframe` in the next question. \n",
    "\n",
    "(As an aside, we used the name `flatframe` to indicate that this dataframe is flattened from a hierarchical dictionary structure with the keys being the years.)"
   ]
  },
  {
   "cell_type": "code",
   "execution_count": 10,
   "metadata": {},
   "outputs": [
    {
     "name": "stdout",
     "output_type": "stream",
     "text": [
      "Before:\n",
      "\n",
      " artist       object\n",
      "rank          int64\n",
      "song         object\n",
      "songurl      object\n",
      "titletext    object\n",
      "url          object\n",
      "year         object\n",
      "dtype: object \n",
      "\n",
      "After:\n",
      "\n",
      " artist       object\n",
      "rank          int64\n",
      "song         object\n",
      "songurl      object\n",
      "titletext    object\n",
      "url          object\n",
      "year          int64\n",
      "dtype: object\n"
     ]
    },
    {
     "data": {
      "text/html": [
       "<div>\n",
       "<style>\n",
       "    .dataframe thead tr:only-child th {\n",
       "        text-align: right;\n",
       "    }\n",
       "\n",
       "    .dataframe thead th {\n",
       "        text-align: left;\n",
       "    }\n",
       "\n",
       "    .dataframe tbody tr th {\n",
       "        vertical-align: top;\n",
       "    }\n",
       "</style>\n",
       "<table border=\"1\" class=\"dataframe\">\n",
       "  <thead>\n",
       "    <tr style=\"text-align: right;\">\n",
       "      <th></th>\n",
       "      <th>artist</th>\n",
       "      <th>rank</th>\n",
       "      <th>song</th>\n",
       "      <th>songurl</th>\n",
       "      <th>titletext</th>\n",
       "      <th>url</th>\n",
       "      <th>year</th>\n",
       "    </tr>\n",
       "  </thead>\n",
       "  <tbody>\n",
       "    <tr>\n",
       "      <th>0</th>\n",
       "      <td>['Boyz II Men']</td>\n",
       "      <td>1</td>\n",
       "      <td>['\"End of the Road\"']</td>\n",
       "      <td>['/wiki/End_of_the_Road']</td>\n",
       "      <td>\"End of the Road\"</td>\n",
       "      <td>['/wiki/Boyz_II_Men']</td>\n",
       "      <td>1992</td>\n",
       "    </tr>\n",
       "    <tr>\n",
       "      <th>1</th>\n",
       "      <td>['Sir Mix-a-Lot']</td>\n",
       "      <td>2</td>\n",
       "      <td>['\"Baby Got Back\"']</td>\n",
       "      <td>['/wiki/Baby_Got_Back']</td>\n",
       "      <td>\"Baby Got Back\"</td>\n",
       "      <td>['/wiki/Sir_Mix-a-Lot']</td>\n",
       "      <td>1992</td>\n",
       "    </tr>\n",
       "    <tr>\n",
       "      <th>2</th>\n",
       "      <td>['Kris Kross']</td>\n",
       "      <td>3</td>\n",
       "      <td>['\"Jump\"']</td>\n",
       "      <td>['/wiki/Jump']</td>\n",
       "      <td>\"Jump\"</td>\n",
       "      <td>['/wiki/Kris_Kross']</td>\n",
       "      <td>1992</td>\n",
       "    </tr>\n",
       "    <tr>\n",
       "      <th>3</th>\n",
       "      <td>['Vanessa Williams']</td>\n",
       "      <td>4</td>\n",
       "      <td>['\"Save the Best for Last\"']</td>\n",
       "      <td>['/wiki/Save_the_Best_for_Last']</td>\n",
       "      <td>\"Save the Best for Last\"</td>\n",
       "      <td>['/wiki/Vanessa_L._Williams']</td>\n",
       "      <td>1992</td>\n",
       "    </tr>\n",
       "    <tr>\n",
       "      <th>4</th>\n",
       "      <td>['TLC']</td>\n",
       "      <td>5</td>\n",
       "      <td>['\"Baby-Baby-Baby\"']</td>\n",
       "      <td>['/wiki/Baby-Baby-Baby']</td>\n",
       "      <td>\"Baby-Baby-Baby\"</td>\n",
       "      <td>['/wiki/TLC_(band)']</td>\n",
       "      <td>1992</td>\n",
       "    </tr>\n",
       "  </tbody>\n",
       "</table>\n",
       "</div>"
      ],
      "text/plain": [
       "                 artist  rank                          song                           songurl                 titletext                            url  year\n",
       "0       ['Boyz II Men']     1         ['\"End of the Road\"']         ['/wiki/End_of_the_Road']         \"End of the Road\"          ['/wiki/Boyz_II_Men']  1992\n",
       "1     ['Sir Mix-a-Lot']     2           ['\"Baby Got Back\"']           ['/wiki/Baby_Got_Back']           \"Baby Got Back\"        ['/wiki/Sir_Mix-a-Lot']  1992\n",
       "2        ['Kris Kross']     3                    ['\"Jump\"']                    ['/wiki/Jump']                    \"Jump\"           ['/wiki/Kris_Kross']  1992\n",
       "3  ['Vanessa Williams']     4  ['\"Save the Best for Last\"']  ['/wiki/Save_the_Best_for_Last']  \"Save the Best for Last\"  ['/wiki/Vanessa_L._Williams']  1992\n",
       "4               ['TLC']     5          ['\"Baby-Baby-Baby\"']          ['/wiki/Baby-Baby-Baby']          \"Baby-Baby-Baby\"           ['/wiki/TLC_(band)']  1992"
      ]
     },
     "execution_count": 10,
     "metadata": {},
     "output_type": "execute_result"
    }
   ],
   "source": [
    "print('Before:\\n\\n', df.dtypes, '\\n')\n",
    "df[['rank','year']] = df[['rank','year']].astype(int)\n",
    "df[['artist','song','songurl','titletext','url']] = df[['artist','song','songurl','titletext','url']].astype(str)\n",
    "print('After:\\n\\n', df.dtypes)\n",
    "df.head()"
   ]
  },
  {
   "cell_type": "markdown",
   "metadata": {},
   "source": [
    "### Who are the highest quality singers?"
   ]
  },
  {
   "cell_type": "markdown",
   "metadata": {},
   "source": [
    "Here we show the highest quality singers and plot them on a bar chart.\n",
    "\n",
    "#### 1.5 Find highest quality singers according to how prolific they are\n",
    "\n",
    "What do we mean by highest quality? This is of course open to interpretation, but let's define \"highest quality\" here as the number of times a singer appears in the top 100 over this time period. If a singer appears twice in a year (for different songs), this is counted as two appearances, not one. \n",
    "\n",
    "Make a bar-plot of the most prolific singers. Singers on this chart should have appeared at-least more than 15 times. (HINT: look at the docs for the pandas method `value_counts`.)\n"
   ]
  },
  {
   "cell_type": "code",
   "execution_count": 11,
   "metadata": {
    "scrolled": false
   },
   "outputs": [
    {
     "name": "stderr",
     "output_type": "stream",
     "text": [
      "/Users/pmw/anaconda/lib/python3.6/site-packages/pandas/core/groupby.py:3961: FutureWarning: using a dict with renaming is deprecated and will be removed in a future version\n",
      "  return super(DataFrameGroupBy, self).aggregate(arg, *args, **kwargs)\n",
      "/Users/pmw/anaconda/lib/python3.6/site-packages/ipykernel_launcher.py:13: RuntimeWarning: divide by zero encountered in true_divide\n",
      "  del sys.path[0]\n"
     ]
    },
    {
     "data": {
      "text/html": [
       "<div>\n",
       "<style>\n",
       "    .dataframe thead tr:only-child th {\n",
       "        text-align: right;\n",
       "    }\n",
       "\n",
       "    .dataframe thead th {\n",
       "        text-align: left;\n",
       "    }\n",
       "\n",
       "    .dataframe tbody tr th {\n",
       "        vertical-align: top;\n",
       "    }\n",
       "</style>\n",
       "<table border=\"1\" class=\"dataframe\">\n",
       "  <thead>\n",
       "    <tr style=\"text-align: right;\">\n",
       "      <th></th>\n",
       "      <th>rank|high</th>\n",
       "      <th>rank|mean</th>\n",
       "      <th>billboard_hits</th>\n",
       "      <th>year|debut</th>\n",
       "      <th>year|swan</th>\n",
       "      <th>career_duration</th>\n",
       "      <th>years_since_top100</th>\n",
       "      <th>avg_rank_weighted</th>\n",
       "      <th>avg_rank_weighted_career</th>\n",
       "    </tr>\n",
       "    <tr>\n",
       "      <th>artist</th>\n",
       "      <th></th>\n",
       "      <th></th>\n",
       "      <th></th>\n",
       "      <th></th>\n",
       "      <th></th>\n",
       "      <th></th>\n",
       "      <th></th>\n",
       "      <th></th>\n",
       "      <th></th>\n",
       "    </tr>\n",
       "  </thead>\n",
       "  <tbody>\n",
       "    <tr>\n",
       "      <th>['Pink']</th>\n",
       "      <td>97</td>\n",
       "      <td>43.941176</td>\n",
       "      <td>15</td>\n",
       "      <td>2000</td>\n",
       "      <td>2013</td>\n",
       "      <td>13</td>\n",
       "      <td>4</td>\n",
       "      <td>659.117647</td>\n",
       "      <td>50.701357</td>\n",
       "    </tr>\n",
       "    <tr>\n",
       "      <th>['Rihanna']</th>\n",
       "      <td>94</td>\n",
       "      <td>42.722222</td>\n",
       "      <td>15</td>\n",
       "      <td>2005</td>\n",
       "      <td>2013</td>\n",
       "      <td>8</td>\n",
       "      <td>4</td>\n",
       "      <td>640.833333</td>\n",
       "      <td>80.104167</td>\n",
       "    </tr>\n",
       "    <tr>\n",
       "      <th>['Mariah Carey']</th>\n",
       "      <td>50</td>\n",
       "      <td>24.000000</td>\n",
       "      <td>17</td>\n",
       "      <td>1992</td>\n",
       "      <td>2009</td>\n",
       "      <td>17</td>\n",
       "      <td>8</td>\n",
       "      <td>408.000000</td>\n",
       "      <td>24.000000</td>\n",
       "    </tr>\n",
       "  </tbody>\n",
       "</table>\n",
       "</div>"
      ],
      "text/plain": [
       "                  rank|high  rank|mean  billboard_hits  year|debut  year|swan  career_duration  years_since_top100  avg_rank_weighted  avg_rank_weighted_career\n",
       "artist                                                                                                                                                         \n",
       "['Pink']                 97  43.941176              15        2000       2013               13                   4         659.117647                 50.701357\n",
       "['Rihanna']              94  42.722222              15        2005       2013                8                   4         640.833333                 80.104167\n",
       "['Mariah Carey']         50  24.000000              17        1992       2009               17                   8         408.000000                 24.000000"
      ]
     },
     "execution_count": 11,
     "metadata": {},
     "output_type": "execute_result"
    },
    {
     "data": {
      "image/png": "[encoded data removed]",
      "text/plain": [
       "<matplotlib.figure.Figure at 0x116b1b828>"
      ]
     },
     "metadata": {},
     "output_type": "display_data"
    }
   ],
   "source": [
    "import datetime\n",
    "import seaborn as sns\n",
    "\n",
    "len_unique = lambda x: len(pd.Series.unique(x))\n",
    "agg_funcs = {'rank': {'high':np.max, 'mean':np.mean}, 'song': len_unique, 'year': {'debut':np.min, 'swan':np.max}}\n",
    "grp_cols = ['artist']\n",
    "df_grp = pd.DataFrame(df.groupby(grp_cols).agg(agg_funcs))\n",
    "df_grp.columns = ['%s%s' % (a, '|%s' % b if b else '') for a, b in df_grp.columns]\n",
    "df_grp['career_duration'] = df_grp['year|swan'] - df_grp['year|debut']\n",
    "df_grp['years_since_top100'] = datetime.date.today().year - df_grp['year|swan']\n",
    "df_grp.rename(columns={'song|<lambda>':'billboard_hits'}, inplace=True)\n",
    "df_grp['avg_rank_weighted'] = np.multiply(df_grp['rank|mean'], df_grp['billboard_hits'])\n",
    "df_grp['avg_rank_weighted_career'] = np.divide(df_grp['avg_rank_weighted'], df_grp['career_duration'])\n",
    "df_grp = df_grp.sort_values(by='avg_rank_weighted', ascending=False)\n",
    "df_top_singers = df_grp[df_grp.billboard_hits >= 15]\n",
    "\n",
    "with sns.plotting_context('poster'):\n",
    "    sns.axes_style('whitegrid');\n",
    "    ax = plt.gca();\n",
    "    df_top_singers['billboard_hits'].plot(kind='barh')\n",
    "    plt.grid(axis='y', color='white', linestyle='-');\n",
    "    ax.tick_params(axis='both', which='both', length=0);\n",
    "    sns.despine(left=True, bottom=True);\n",
    "    plt.title('Comparison of Top Billboard Artists');\n",
    "    plt.ylabel('Artist');\n",
    "    plt.xlabel('Number of Billboard Hits (1992 - 2014)')\n",
    "\n",
    "df_top_singers"
   ]
  },
  {
   "cell_type": "markdown",
   "metadata": {},
   "source": [
    "## Answer: Who are the highest quality singers?\n",
    "\n",
    "Using the number of top 100 hits as a measure (and considering only artists with 15 or more hits), the most prolific singers appear to be Mariah Carey, Rihanna, and Pink.\n",
    "\n",
    "This is a very one-dimensional view of quality, and is likely an incomplete picture of an artist."
   ]
  },
  {
   "cell_type": "markdown",
   "metadata": {},
   "source": [
    "#### 1.6 What if we used a different metric?"
   ]
  },
  {
   "cell_type": "markdown",
   "metadata": {},
   "source": [
    "What we would like to capture is this: a singer should to be scored higher if the singer appears higher in the rankings. So we'd say that a singer who appeared once at a higher and once at a lower ranking is a \"higher quality\" singer than one who appeared twice at a lower ranking. \n",
    "\n",
    "To do this, group all of a singers songs together and assign each song a score `101 - ranking`. Order the singers by their total score and make a bar chart for the top 20."
   ]
  },
  {
   "cell_type": "markdown",
   "metadata": {},
   "source": [
    "Using this metric changes the ranking considerably. "
   ]
  },
  {
   "cell_type": "code",
   "execution_count": 12,
   "metadata": {
    "scrolled": false
   },
   "outputs": [
    {
     "data": {
      "text/html": [
       "<div>\n",
       "<style>\n",
       "    .dataframe thead tr:only-child th {\n",
       "        text-align: right;\n",
       "    }\n",
       "\n",
       "    .dataframe thead th {\n",
       "        text-align: left;\n",
       "    }\n",
       "\n",
       "    .dataframe tbody tr th {\n",
       "        vertical-align: top;\n",
       "    }\n",
       "</style>\n",
       "<table border=\"1\" class=\"dataframe\">\n",
       "  <thead>\n",
       "    <tr style=\"text-align: right;\">\n",
       "      <th></th>\n",
       "      <th>rank|high</th>\n",
       "      <th>rank|mean</th>\n",
       "      <th>billboard_hits</th>\n",
       "      <th>year|debut</th>\n",
       "      <th>year|swan</th>\n",
       "      <th>career_duration</th>\n",
       "      <th>years_since_top100</th>\n",
       "      <th>avg_rank_weighted</th>\n",
       "      <th>avg_rank_weighted_career</th>\n",
       "      <th>song_score</th>\n",
       "    </tr>\n",
       "    <tr>\n",
       "      <th>artist</th>\n",
       "      <th></th>\n",
       "      <th></th>\n",
       "      <th></th>\n",
       "      <th></th>\n",
       "      <th></th>\n",
       "      <th></th>\n",
       "      <th></th>\n",
       "      <th></th>\n",
       "      <th></th>\n",
       "      <th></th>\n",
       "    </tr>\n",
       "  </thead>\n",
       "  <tbody>\n",
       "    <tr>\n",
       "      <th>['Britney Spears']</th>\n",
       "      <td>87</td>\n",
       "      <td>59.125000</td>\n",
       "      <td>14</td>\n",
       "      <td>1999</td>\n",
       "      <td>2011</td>\n",
       "      <td>12</td>\n",
       "      <td>6</td>\n",
       "      <td>827.750000</td>\n",
       "      <td>68.979167</td>\n",
       "      <td>605.5</td>\n",
       "    </tr>\n",
       "    <tr>\n",
       "      <th>['Madonna']</th>\n",
       "      <td>99</td>\n",
       "      <td>54.400000</td>\n",
       "      <td>14</td>\n",
       "      <td>1992</td>\n",
       "      <td>2006</td>\n",
       "      <td>14</td>\n",
       "      <td>11</td>\n",
       "      <td>761.600000</td>\n",
       "      <td>54.400000</td>\n",
       "      <td>675.5</td>\n",
       "    </tr>\n",
       "    <tr>\n",
       "      <th>['R. Kelly']</th>\n",
       "      <td>94</td>\n",
       "      <td>58.461538</td>\n",
       "      <td>12</td>\n",
       "      <td>1994</td>\n",
       "      <td>2004</td>\n",
       "      <td>10</td>\n",
       "      <td>13</td>\n",
       "      <td>701.538462</td>\n",
       "      <td>70.153846</td>\n",
       "      <td>538.0</td>\n",
       "    </tr>\n",
       "    <tr>\n",
       "      <th>['Eminem']</th>\n",
       "      <td>98</td>\n",
       "      <td>61.250000</td>\n",
       "      <td>11</td>\n",
       "      <td>2000</td>\n",
       "      <td>2013</td>\n",
       "      <td>13</td>\n",
       "      <td>4</td>\n",
       "      <td>673.750000</td>\n",
       "      <td>51.826923</td>\n",
       "      <td>421.5</td>\n",
       "    </tr>\n",
       "    <tr>\n",
       "      <th>['Pink']</th>\n",
       "      <td>97</td>\n",
       "      <td>43.941176</td>\n",
       "      <td>15</td>\n",
       "      <td>2000</td>\n",
       "      <td>2013</td>\n",
       "      <td>13</td>\n",
       "      <td>4</td>\n",
       "      <td>659.117647</td>\n",
       "      <td>50.701357</td>\n",
       "      <td>877.0</td>\n",
       "    </tr>\n",
       "    <tr>\n",
       "      <th>['Rihanna']</th>\n",
       "      <td>94</td>\n",
       "      <td>42.722222</td>\n",
       "      <td>15</td>\n",
       "      <td>2005</td>\n",
       "      <td>2013</td>\n",
       "      <td>8</td>\n",
       "      <td>4</td>\n",
       "      <td>640.833333</td>\n",
       "      <td>80.104167</td>\n",
       "      <td>896.5</td>\n",
       "    </tr>\n",
       "    <tr>\n",
       "      <th>['Kelly Clarkson']</th>\n",
       "      <td>95</td>\n",
       "      <td>48.875000</td>\n",
       "      <td>13</td>\n",
       "      <td>2002</td>\n",
       "      <td>2013</td>\n",
       "      <td>11</td>\n",
       "      <td>4</td>\n",
       "      <td>635.375000</td>\n",
       "      <td>57.761364</td>\n",
       "      <td>721.5</td>\n",
       "    </tr>\n",
       "    <tr>\n",
       "      <th>['Aaliyah']</th>\n",
       "      <td>96</td>\n",
       "      <td>61.636364</td>\n",
       "      <td>10</td>\n",
       "      <td>1994</td>\n",
       "      <td>2003</td>\n",
       "      <td>9</td>\n",
       "      <td>14</td>\n",
       "      <td>616.363636</td>\n",
       "      <td>68.484848</td>\n",
       "      <td>414.0</td>\n",
       "    </tr>\n",
       "    <tr>\n",
       "      <th>['The Black Eyed Peas']</th>\n",
       "      <td>95</td>\n",
       "      <td>43.750000</td>\n",
       "      <td>14</td>\n",
       "      <td>2003</td>\n",
       "      <td>2011</td>\n",
       "      <td>8</td>\n",
       "      <td>6</td>\n",
       "      <td>612.500000</td>\n",
       "      <td>76.562500</td>\n",
       "      <td>767.5</td>\n",
       "    </tr>\n",
       "    <tr>\n",
       "      <th>['Taylor Swift']</th>\n",
       "      <td>89</td>\n",
       "      <td>49.666667</td>\n",
       "      <td>12</td>\n",
       "      <td>2007</td>\n",
       "      <td>2014</td>\n",
       "      <td>7</td>\n",
       "      <td>3</td>\n",
       "      <td>596.000000</td>\n",
       "      <td>85.142857</td>\n",
       "      <td>612.5</td>\n",
       "    </tr>\n",
       "    <tr>\n",
       "      <th>['Kenny Chesney']</th>\n",
       "      <td>100</td>\n",
       "      <td>84.428571</td>\n",
       "      <td>7</td>\n",
       "      <td>1999</td>\n",
       "      <td>2014</td>\n",
       "      <td>15</td>\n",
       "      <td>3</td>\n",
       "      <td>591.000000</td>\n",
       "      <td>39.400000</td>\n",
       "      <td>116.0</td>\n",
       "    </tr>\n",
       "    <tr>\n",
       "      <th>['Tim McGraw']</th>\n",
       "      <td>99</td>\n",
       "      <td>82.000000</td>\n",
       "      <td>7</td>\n",
       "      <td>1994</td>\n",
       "      <td>2004</td>\n",
       "      <td>10</td>\n",
       "      <td>13</td>\n",
       "      <td>574.000000</td>\n",
       "      <td>57.400000</td>\n",
       "      <td>133.0</td>\n",
       "    </tr>\n",
       "    <tr>\n",
       "      <th>['Toby Keith']</th>\n",
       "      <td>94</td>\n",
       "      <td>87.166667</td>\n",
       "      <td>6</td>\n",
       "      <td>2000</td>\n",
       "      <td>2012</td>\n",
       "      <td>12</td>\n",
       "      <td>5</td>\n",
       "      <td>523.000000</td>\n",
       "      <td>43.583333</td>\n",
       "      <td>83.0</td>\n",
       "    </tr>\n",
       "    <tr>\n",
       "      <th>['Beyoncé']</th>\n",
       "      <td>95</td>\n",
       "      <td>49.090909</td>\n",
       "      <td>10</td>\n",
       "      <td>2004</td>\n",
       "      <td>2014</td>\n",
       "      <td>10</td>\n",
       "      <td>3</td>\n",
       "      <td>490.909091</td>\n",
       "      <td>49.090909</td>\n",
       "      <td>546.0</td>\n",
       "    </tr>\n",
       "    <tr>\n",
       "      <th>['Br', 'y']</th>\n",
       "      <td>100</td>\n",
       "      <td>60.444444</td>\n",
       "      <td>8</td>\n",
       "      <td>1994</td>\n",
       "      <td>2002</td>\n",
       "      <td>8</td>\n",
       "      <td>15</td>\n",
       "      <td>483.555556</td>\n",
       "      <td>60.444444</td>\n",
       "      <td>338.5</td>\n",
       "    </tr>\n",
       "    <tr>\n",
       "      <th>['Alicia Keys']</th>\n",
       "      <td>99</td>\n",
       "      <td>44.818182</td>\n",
       "      <td>10</td>\n",
       "      <td>2001</td>\n",
       "      <td>2013</td>\n",
       "      <td>12</td>\n",
       "      <td>4</td>\n",
       "      <td>448.181818</td>\n",
       "      <td>37.348485</td>\n",
       "      <td>556.5</td>\n",
       "    </tr>\n",
       "    <tr>\n",
       "      <th>['Ne-Yo']</th>\n",
       "      <td>94</td>\n",
       "      <td>55.700000</td>\n",
       "      <td>8</td>\n",
       "      <td>2006</td>\n",
       "      <td>2013</td>\n",
       "      <td>7</td>\n",
       "      <td>4</td>\n",
       "      <td>445.600000</td>\n",
       "      <td>63.657143</td>\n",
       "      <td>389.0</td>\n",
       "    </tr>\n",
       "    <tr>\n",
       "      <th>['Luke Bryan']</th>\n",
       "      <td>93</td>\n",
       "      <td>73.000000</td>\n",
       "      <td>6</td>\n",
       "      <td>2011</td>\n",
       "      <td>2014</td>\n",
       "      <td>3</td>\n",
       "      <td>3</td>\n",
       "      <td>438.000000</td>\n",
       "      <td>146.000000</td>\n",
       "      <td>168.0</td>\n",
       "    </tr>\n",
       "    <tr>\n",
       "      <th>['Chris Brown']</th>\n",
       "      <td>89</td>\n",
       "      <td>53.375000</td>\n",
       "      <td>8</td>\n",
       "      <td>2006</td>\n",
       "      <td>2012</td>\n",
       "      <td>6</td>\n",
       "      <td>5</td>\n",
       "      <td>427.000000</td>\n",
       "      <td>71.166667</td>\n",
       "      <td>381.0</td>\n",
       "    </tr>\n",
       "    <tr>\n",
       "      <th>['Nickelback']</th>\n",
       "      <td>94</td>\n",
       "      <td>45.636364</td>\n",
       "      <td>9</td>\n",
       "      <td>2002</td>\n",
       "      <td>2009</td>\n",
       "      <td>7</td>\n",
       "      <td>8</td>\n",
       "      <td>410.727273</td>\n",
       "      <td>58.675325</td>\n",
       "      <td>521.0</td>\n",
       "    </tr>\n",
       "  </tbody>\n",
       "</table>\n",
       "</div>"
      ],
      "text/plain": [
       "                         rank|high  rank|mean  billboard_hits  year|debut  year|swan  career_duration  years_since_top100  avg_rank_weighted  avg_rank_weighted_career  song_score\n",
       "artist                                                                                                                                                                            \n",
       "['Britney Spears']              87  59.125000              14        1999       2011               12                   6         827.750000                 68.979167       605.5\n",
       "['Madonna']                     99  54.400000              14        1992       2006               14                  11         761.600000                 54.400000       675.5\n",
       "['R. Kelly']                    94  58.461538              12        1994       2004               10                  13         701.538462                 70.153846       538.0\n",
       "['Eminem']                      98  61.250000              11        2000       2013               13                   4         673.750000                 51.826923       421.5\n",
       "['Pink']                        97  43.941176              15        2000       2013               13                   4         659.117647                 50.701357       877.0\n",
       "['Rihanna']                     94  42.722222              15        2005       2013                8                   4         640.833333                 80.104167       896.5\n",
       "['Kelly Clarkson']              95  48.875000              13        2002       2013               11                   4         635.375000                 57.761364       721.5\n",
       "['Aaliyah']                     96  61.636364              10        1994       2003                9                  14         616.363636                 68.484848       414.0\n",
       "['The Black Eyed Peas']         95  43.750000              14        2003       2011                8                   6         612.500000                 76.562500       767.5\n",
       "['Taylor Swift']                89  49.666667              12        2007       2014                7                   3         596.000000                 85.142857       612.5\n",
       "['Kenny Chesney']              100  84.428571               7        1999       2014               15                   3         591.000000                 39.400000       116.0\n",
       "['Tim McGraw']                  99  82.000000               7        1994       2004               10                  13         574.000000                 57.400000       133.0\n",
       "['Toby Keith']                  94  87.166667               6        2000       2012               12                   5         523.000000                 43.583333        83.0\n",
       "['Beyoncé']                     95  49.090909              10        2004       2014               10                   3         490.909091                 49.090909       546.0\n",
       "['Br', 'y']                    100  60.444444               8        1994       2002                8                  15         483.555556                 60.444444       338.5\n",
       "['Alicia Keys']                 99  44.818182              10        2001       2013               12                   4         448.181818                 37.348485       556.5\n",
       "['Ne-Yo']                       94  55.700000               8        2006       2013                7                   4         445.600000                 63.657143       389.0\n",
       "['Luke Bryan']                  93  73.000000               6        2011       2014                3                   3         438.000000                146.000000       168.0\n",
       "['Chris Brown']                 89  53.375000               8        2006       2012                6                   5         427.000000                 71.166667       381.0\n",
       "['Nickelback']                  94  45.636364               9        2002       2009                7                   8         410.727273                 58.675325       521.0"
      ]
     },
     "execution_count": 12,
     "metadata": {},
     "output_type": "execute_result"
    }
   ],
   "source": [
    "df_grp_songs = pd.DataFrame(df.groupby(['artist','song'])['rank'].mean()).reset_index(drop=False)\n",
    "df_grp_songs['song_score'] = np.subtract(101, df_grp_songs['rank'])\n",
    "df_grp_songs = pd.DataFrame(df_grp_songs.groupby('artist')['song_score'].sum())\n",
    "df_grp_songs = df_grp_songs.sort_values('song_score', ascending=False)\n",
    "df_grp = df_grp.join(df_grp_songs)\n",
    "df_grp.head(20)"
   ]
  },
  {
   "cell_type": "markdown",
   "metadata": {},
   "source": [
    "#### 1.7 Do you notice any major differences when you change the metric?\n",
    "\n",
    "How have the singers at the top shifted places? Why do you think this happens?"
   ]
  },
  {
   "cell_type": "markdown",
   "metadata": {
    "collapsed": true
   },
   "source": [
    "Mariah Carey is not even on the chart for the top 20 by this metric. This may indicate that Mariah Carey is good at making songs good enough to get into the top 100, yet does not consistently score high on the chart's overall ranking. The previous measure is a measure of consistency, while this is a measure of overall quality."
   ]
  },
  {
   "cell_type": "markdown",
   "metadata": {},
   "source": [
    "## Q2. Scraping and Constructing: Information about Artists, Bands and Genres from Wikipedia"
   ]
  },
  {
   "cell_type": "markdown",
   "metadata": {},
   "source": [
    "Our next job is to use those band/singer urls we collected under `flatframe.url` and get information about singers and/or bands."
   ]
  },
  {
   "cell_type": "markdown",
   "metadata": {},
   "source": [
    "### Scrape information about artists from wikipedia"
   ]
  },
  {
   "cell_type": "markdown",
   "metadata": {},
   "source": [
    "We wish to fetch information about the singers or groups for all the winning songs in a list of years.\n",
    "\n",
    "Here we show a function that fetches information about a singer or group from their url on wikipedia. We create a cache object `urlcache` that will avoid redundant HTTP requests (e.g. an artist might have multiple singles on a single year, or be on the list over a span of years). Once we have fetched information about an artist, we don't need to do it again. The caching also helps if the network goes down, or the target website is having some problems. You simply need to run the `get_page` function below again, and the `urlcache` dictionary will continue to be filled.\n",
    "\n",
    "If the request gets an HTTP return code different from 200, (such as a 404 not found or 500 Internal Server Error) the cells for that URL will have a value of 1; and if the request completely fails (e.g. no network connection) the cell will have a value of 2. This will allow you to analyse the failed requests.\n",
    "\n",
    "Notice that we have wrapped the call in whats called _an exception block_. We try to make the request. If it fails entirely, or returns a HTTP code thats not 200, we set the status to 2 and 1 respectively."
   ]
  },
  {
   "cell_type": "code",
   "execution_count": 13,
   "metadata": {
    "collapsed": true,
    "scrolled": true
   },
   "outputs": [],
   "source": [
    "urlcache={}"
   ]
  },
  {
   "cell_type": "code",
   "execution_count": 14,
   "metadata": {
    "collapsed": true,
    "scrolled": true
   },
   "outputs": [],
   "source": [
    "def get_page(url):\n",
    "    # Check if URL has already been visited.\n",
    "    if (url not in urlcache) or (urlcache[url]==1) or (urlcache[url]==2):\n",
    "        time.sleep(1)\n",
    "        # try/except blocks are used whenever the code could generate an exception (e.g. division by zero).\n",
    "        # In this case we don't know if the page really exists, or even if it does, if we'll be able to reach it.\n",
    "        try:\n",
    "            r = requests.get(\"http://en.wikipedia.org%s\" % url)\n",
    "\n",
    "            if r.status_code == 200:\n",
    "                urlcache[url] = r.text\n",
    "            else:\n",
    "                urlcache[url] = 1\n",
    "        except:\n",
    "            urlcache[url] = 2\n",
    "    return urlcache[url]"
   ]
  },
  {
   "cell_type": "markdown",
   "metadata": {},
   "source": [
    "We sort the `flatframe` by year, ascending, first. Think why."
   ]
  },
  {
   "cell_type": "code",
   "execution_count": 15,
   "metadata": {
    "scrolled": true
   },
   "outputs": [
    {
     "data": {
      "text/html": [
       "<div>\n",
       "<style>\n",
       "    .dataframe thead tr:only-child th {\n",
       "        text-align: right;\n",
       "    }\n",
       "\n",
       "    .dataframe thead th {\n",
       "        text-align: left;\n",
       "    }\n",
       "\n",
       "    .dataframe tbody tr th {\n",
       "        vertical-align: top;\n",
       "    }\n",
       "</style>\n",
       "<table border=\"1\" class=\"dataframe\">\n",
       "  <thead>\n",
       "    <tr style=\"text-align: right;\">\n",
       "      <th></th>\n",
       "      <th>artist</th>\n",
       "      <th>rank</th>\n",
       "      <th>song</th>\n",
       "      <th>songurl</th>\n",
       "      <th>titletext</th>\n",
       "      <th>url</th>\n",
       "      <th>year</th>\n",
       "    </tr>\n",
       "  </thead>\n",
       "  <tbody>\n",
       "    <tr>\n",
       "      <th>0</th>\n",
       "      <td>['Boyz II Men']</td>\n",
       "      <td>1</td>\n",
       "      <td>['\"End of the Road\"']</td>\n",
       "      <td>['/wiki/End_of_the_Road']</td>\n",
       "      <td>\"End of the Road\"</td>\n",
       "      <td>['/wiki/Boyz_II_Men']</td>\n",
       "      <td>1992</td>\n",
       "    </tr>\n",
       "    <tr>\n",
       "      <th>72</th>\n",
       "      <td>['Paula Abdul']</td>\n",
       "      <td>73</td>\n",
       "      <td>['\"Blowing Kisses in the Wind\"']</td>\n",
       "      <td>['/wiki/Blowing_Kisses_in_the_Wind']</td>\n",
       "      <td>\"Blowing Kisses in the Wind\"</td>\n",
       "      <td>['/wiki/Paula_Abdul']</td>\n",
       "      <td>1992</td>\n",
       "    </tr>\n",
       "    <tr>\n",
       "      <th>71</th>\n",
       "      <td>['Ugly Kid Joe']</td>\n",
       "      <td>72</td>\n",
       "      <td>['\"Everything About You\"']</td>\n",
       "      <td>['/wiki/Everything_About_You_(Ugly_Kid_Joe_son...</td>\n",
       "      <td>\"Everything About You\"</td>\n",
       "      <td>['/wiki/Ugly_Kid_Joe']</td>\n",
       "      <td>1992</td>\n",
       "    </tr>\n",
       "    <tr>\n",
       "      <th>70</th>\n",
       "      <td>['The Cure']</td>\n",
       "      <td>71</td>\n",
       "      <td>['\"Friday Im in Love\"']</td>\n",
       "      <td>['/wiki/Friday_I%27m_in_Love']</td>\n",
       "      <td>\"Friday Im in Love\"</td>\n",
       "      <td>['/wiki/The_Cure']</td>\n",
       "      <td>1992</td>\n",
       "    </tr>\n",
       "    <tr>\n",
       "      <th>69</th>\n",
       "      <td>['Bryan Adams']</td>\n",
       "      <td>70</td>\n",
       "      <td>['\"Do I Have to Say the Words?\"']</td>\n",
       "      <td>['/wiki/Do_I_Have_to_Say_the_Words%3F']</td>\n",
       "      <td>\"Do I Have to Say the Words?\"</td>\n",
       "      <td>['/wiki/Bryan_Adams']</td>\n",
       "      <td>1992</td>\n",
       "    </tr>\n",
       "  </tbody>\n",
       "</table>\n",
       "</div>"
      ],
      "text/plain": [
       "              artist  rank                               song                                            songurl                      titletext                     url  year\n",
       "0    ['Boyz II Men']     1              ['\"End of the Road\"']                          ['/wiki/End_of_the_Road']              \"End of the Road\"   ['/wiki/Boyz_II_Men']  1992\n",
       "72   ['Paula Abdul']    73   ['\"Blowing Kisses in the Wind\"']               ['/wiki/Blowing_Kisses_in_the_Wind']   \"Blowing Kisses in the Wind\"   ['/wiki/Paula_Abdul']  1992\n",
       "71  ['Ugly Kid Joe']    72         ['\"Everything About You\"']  ['/wiki/Everything_About_You_(Ugly_Kid_Joe_son...         \"Everything About You\"  ['/wiki/Ugly_Kid_Joe']  1992\n",
       "70      ['The Cure']    71            ['\"Friday Im in Love\"']                     ['/wiki/Friday_I%27m_in_Love']            \"Friday Im in Love\"      ['/wiki/The_Cure']  1992\n",
       "69   ['Bryan Adams']    70  ['\"Do I Have to Say the Words?\"']            ['/wiki/Do_I_Have_to_Say_the_Words%3F']  \"Do I Have to Say the Words?\"   ['/wiki/Bryan_Adams']  1992"
      ]
     },
     "execution_count": 15,
     "metadata": {},
     "output_type": "execute_result"
    }
   ],
   "source": [
    "flatframe = df.sort_values('year')\n",
    "flatframe.head()"
   ]
  },
  {
   "cell_type": "markdown",
   "metadata": {},
   "source": [
    "#### Pulling and saving the data"
   ]
  },
  {
   "cell_type": "code",
   "execution_count": null,
   "metadata": {
    "scrolled": true
   },
   "outputs": [],
   "source": [
    "print('''# # DO NOT RERUN THIS CELL WHEN SUBMITTING\n",
    "# # Here we are populating the url cache\n",
    "# # subsequent calls to this cell should be very fast, since Python won't\n",
    "# # need to fetch the page from the web server.\n",
    "# # NOTE this function will take quite some time to run (about 30 mins for me), since we sleep 1 second before\n",
    "# # making a request. If you run it again it will be almost instantaneous, save requests that might have failed\n",
    "# # (you will need to run it again if requests fail..see cell below for how to test this)\n",
    "# flatframe[\"url\"].apply(get_page)''')"
   ]
  },
  {
   "cell_type": "markdown",
   "metadata": {},
   "source": [
    "You may have to run this function again and again, in case there were network problems. Note that, because there is a \"global\" cache, it will take less time each time you run it. Also note that this function is designed to be run again and again: it attempts to make sure that there are no unresolved pages remaining. Let us make sure of this: *the sum below should be 0, and the boolean True.*"
   ]
  },
  {
   "cell_type": "code",
   "execution_count": null,
   "metadata": {
    "scrolled": true
   },
   "outputs": [],
   "source": [
    "print('''\n",
    "# # DO NOT RERUN THIS CELL WHEN SUBMITTING\n",
    "# print(\"Number of bad requests:\",np.sum([(urlcache[k]==1) or (urlcache[k]==2) for k in urlcache])) # no one or 0's)\n",
    "# print(\"Did we get all urls?\", len(flatframe.url.unique())==len(urlcache)) # we got all of the urls''')"
   ]
  },
  {
   "cell_type": "markdown",
   "metadata": {},
   "source": [
    "Let's save the `urlcache` to disk, just in case we need it again."
   ]
  },
  {
   "cell_type": "code",
   "execution_count": null,
   "metadata": {},
   "outputs": [],
   "source": [
    "print('''# # DO NOT RERUN THIS CELL WHEN SUBMITTING\n",
    "# with open(\"data/artistinfo.json\",\"w\") as fd:\n",
    "#     json.dump(urlcache, fd)\n",
    "# del urlcache''')"
   ]
  },
  {
   "cell_type": "code",
   "execution_count": 16,
   "metadata": {
    "collapsed": true,
    "scrolled": false
   },
   "outputs": [],
   "source": [
    "# RERUN WHEN SUBMITTING\n",
    "with open(\"data/artistinfo.json\") as json_file:\n",
    "    urlcache = json.load(json_file)"
   ]
  },
  {
   "cell_type": "markdown",
   "metadata": {},
   "source": [
    "#### 2.1 Extract information about singers and bands"
   ]
  },
  {
   "cell_type": "markdown",
   "metadata": {},
   "source": [
    "From each page we collected about a singer or a band, extract the following information:\n",
    "\n",
    "1. If the page has the text \"Born\" in the sidebar on the right, extract the element with the class `.bday`. If the page doesn't contain \"Born\", store `False`.  Store either of these into the variable `born`. We want to analyze the artist's age.\n",
    "\n",
    "2. If the text \"Years active\" is found, but no \"born\", assume a band. Store into the variable `ya` the value of the next table cell corresponding to this, or `False` if the text is not found.\n",
    "\n",
    "Put this all into a function `singer_band_info` which takes the singer/band url as argument and returns a dictionary `dict(url=url, born=born, ya=ya)`.\n",
    "\n",
    "The information can be found on the sidebar on each such wikipedia page, as the example here shows:\n",
    "\n",
    "![sandg](https://raw.githubusercontent.com/cs109/a-2017/master/hwassets/images/sandg.png).\n",
    "\n"
   ]
  },
  {
   "cell_type": "markdown",
   "metadata": {},
   "source": [
    "Write the function `singer_band_info` according to the following specification:"
   ]
  },
  {
   "cell_type": "code",
   "execution_count": 17,
   "metadata": {
    "scrolled": false
   },
   "outputs": [
    {
     "data": {
      "text/plain": [
       "[{'born': '[False]',\n",
       "  'url': 'https://en.wikipedia.org/wiki/Boyz_II_Men',\n",
       "  'ya': ['1985–2017']},\n",
       " {'born': \"['1962-06-19']\",\n",
       "  'url': 'https://en.wikipedia.org/wiki/Paula_Abdul',\n",
       "  'ya': ['1978–2017']},\n",
       " {'born': '[False]',\n",
       "  'url': 'https://en.wikipedia.org/wiki/Ugly_Kid_Joe',\n",
       "  'ya': ['1987–1997', '2010–2017']},\n",
       " {'born': '[False]',\n",
       "  'url': 'https://en.wikipedia.org/wiki/The_Cure',\n",
       "  'ya': ['1976–2017']},\n",
       " {'born': \"['1959-11-05']\",\n",
       "  'url': 'https://en.wikipedia.org/wiki/Bryan_Adams',\n",
       "  'ya': ['1975–2017']}]"
      ]
     },
     "execution_count": 17,
     "metadata": {},
     "output_type": "execute_result"
    }
   ],
   "source": [
    "import re\n",
    "\n",
    "def process_url(url):\n",
    "    '''Cleans up the url for querying the internet'''\n",
    "    url = str(url).replace(\"'\", '')\n",
    "    url = url.replace('[', '')\n",
    "    url = url.replace(']', '')\n",
    "    url = 'https://en.wikipedia.org' + url\n",
    "    return url\n",
    "\n",
    "def singer_band_info(url, page_text):\n",
    "    '''\n",
    "    Function\n",
    "    --------\n",
    "    singer_band_info\n",
    "\n",
    "    Inputs\n",
    "    ------\n",
    "    url: the url, processed & ready for browsing\n",
    "    page_text: the text associated with the url\n",
    "\n",
    "    Returns\n",
    "    -------\n",
    "    A dictionary with the following data:\n",
    "    url: copy the input argument url into this value\n",
    "    born: the artist's birthday\n",
    "    ya: years active variable\n",
    "    '''\n",
    "    find_ya = re.compile(r'\\d{4}\\–\\b\\d{4}\\b')\n",
    "    try:\n",
    "        bday_info = page_text.find_all('span', {'class':'bday'})\n",
    "        bday_info = [bday.get_text() if len(bday_info)==1 else False for bday in bday_info]\n",
    "        if len(bday_info) != 1: bday_info = [False]\n",
    "        bday_info = str(bday_info)\n",
    "        \n",
    "        ya_info = page_text.find_all('table', {'class':'infobox'})\n",
    "        ya_info = flatten_list([ya.find_all('td') for ya in ya_info])\n",
    "        ya_info = [ya.get_text() for ya in ya_info]#; print(ya_info, '\\n')\n",
    "        ya_info = flatten_list([str(ya).split('\\n') for ya in ya_info])#; print(ya_info, '\\n')\n",
    "        ya_info = flatten_list([str(ya).split(',') for ya in ya_info])#; print(ya_info, '\\n')\n",
    "        ya_info = [str(ya).replace('present', '2017') for ya in ya_info]#; print(ya_info, '\\n')\n",
    "        ya_info = [find_ya.search(str(ya).replace('–present', '2017')).group() \\\n",
    "                   for ya in ya_info if find_ya.search(str(ya)) != None]#; print(ya_info)\n",
    "    except:\n",
    "        ya_info = bday_info = ''\n",
    "    \n",
    "    data_dict = {'url':url, 'born':bday_info, 'ya':ya_info}\n",
    "    return data_dict\n",
    "\n",
    "artist_urls = [item[0] for item in urlcache.items()]\n",
    "artist_urls = artist_urls\n",
    "\n",
    "artist_info_ls = []\n",
    "for raw_url in artist_urls:\n",
    "    try:\n",
    "        url = process_url(raw_url)#; print(url)\n",
    "        page_text = get_webpage_text(url)\n",
    "        artist_info_ls.append(singer_band_info(url, page_text))\n",
    "    except:\n",
    "        pass\n",
    "\n",
    "artist_info_ls[:5]"
   ]
  },
  {
   "cell_type": "markdown",
   "metadata": {},
   "source": [
    "#### 2.2  Merging this information in"
   ]
  },
  {
   "cell_type": "markdown",
   "metadata": {},
   "source": [
    "Iterate over the items in the singer-group dictionary cache `urlcache`, run the above function, and create a dataframe from there with columns `url`, `born`, and `ya`. Merge this dataframe on the `url` key with `flatframe`, creating a rather wide dataframe that we shall call `largedf`. It should look something like this:\n",
    "\n",
    "![](https://raw.githubusercontent.com/cs109/a-2017/master/hwassets/images/HW1SC3.png)\n",
    "\n",
    "Notice how the `born` and `ya` and `url` are repeated every time a different song from a given band is represented in a row."
   ]
  },
  {
   "cell_type": "code",
   "execution_count": 18,
   "metadata": {
    "scrolled": false
   },
   "outputs": [
    {
     "data": {
      "text/html": [
       "<div>\n",
       "<style>\n",
       "    .dataframe thead tr:only-child th {\n",
       "        text-align: right;\n",
       "    }\n",
       "\n",
       "    .dataframe thead th {\n",
       "        text-align: left;\n",
       "    }\n",
       "\n",
       "    .dataframe tbody tr th {\n",
       "        vertical-align: top;\n",
       "    }\n",
       "</style>\n",
       "<table border=\"1\" class=\"dataframe\">\n",
       "  <thead>\n",
       "    <tr style=\"text-align: right;\">\n",
       "      <th></th>\n",
       "      <th>artist</th>\n",
       "      <th>rank</th>\n",
       "      <th>song</th>\n",
       "      <th>songurl</th>\n",
       "      <th>titletext</th>\n",
       "      <th>url</th>\n",
       "      <th>year</th>\n",
       "      <th>merge_url</th>\n",
       "      <th>born</th>\n",
       "      <th>browse_url</th>\n",
       "      <th>ya</th>\n",
       "    </tr>\n",
       "  </thead>\n",
       "  <tbody>\n",
       "    <tr>\n",
       "      <th>0</th>\n",
       "      <td>['Boyz II Men']</td>\n",
       "      <td>1</td>\n",
       "      <td>['\"End of the Road\"']</td>\n",
       "      <td>['/wiki/End_of_the_Road']</td>\n",
       "      <td>\"End of the Road\"</td>\n",
       "      <td>['/wiki/Boyz_II_Men']</td>\n",
       "      <td>1992</td>\n",
       "      <td>/wiki/Boyz_II_Men</td>\n",
       "      <td>[False]</td>\n",
       "      <td>https://en.wikipedia.org/wiki/Boyz_II_Men</td>\n",
       "      <td>1985–2017</td>\n",
       "    </tr>\n",
       "    <tr>\n",
       "      <th>1</th>\n",
       "      <td>['Boyz II Men']</td>\n",
       "      <td>37</td>\n",
       "      <td>['\"Its So Hard to Say Goodbye to Yesterday\"']</td>\n",
       "      <td>['/wiki/It%27s_So_Hard_to_Say_Goodbye_to_Yeste...</td>\n",
       "      <td>\"Its So Hard to Say Goodbye to Yesterday\"</td>\n",
       "      <td>['/wiki/Boyz_II_Men']</td>\n",
       "      <td>1992</td>\n",
       "      <td>/wiki/Boyz_II_Men</td>\n",
       "      <td>[False]</td>\n",
       "      <td>https://en.wikipedia.org/wiki/Boyz_II_Men</td>\n",
       "      <td>1985–2017</td>\n",
       "    </tr>\n",
       "    <tr>\n",
       "      <th>2</th>\n",
       "      <td>['Boyz II Men']</td>\n",
       "      <td>84</td>\n",
       "      <td>['\"Uhh Ahh\"']</td>\n",
       "      <td>['/wiki/Uhh_Ahh']</td>\n",
       "      <td>\"Uhh Ahh\"</td>\n",
       "      <td>['/wiki/Boyz_II_Men']</td>\n",
       "      <td>1992</td>\n",
       "      <td>/wiki/Boyz_II_Men</td>\n",
       "      <td>[False]</td>\n",
       "      <td>https://en.wikipedia.org/wiki/Boyz_II_Men</td>\n",
       "      <td>1985–2017</td>\n",
       "    </tr>\n",
       "    <tr>\n",
       "      <th>3</th>\n",
       "      <td>['Boyz II Men']</td>\n",
       "      <td>12</td>\n",
       "      <td>['\"In the Still of the Nite\"']</td>\n",
       "      <td>['/wiki/In_the_Still_of_the_Night_(1956_song)#...</td>\n",
       "      <td>\"In the Still of the Nite\"</td>\n",
       "      <td>['/wiki/Boyz_II_Men']</td>\n",
       "      <td>1993</td>\n",
       "      <td>/wiki/Boyz_II_Men</td>\n",
       "      <td>[False]</td>\n",
       "      <td>https://en.wikipedia.org/wiki/Boyz_II_Men</td>\n",
       "      <td>1985–2017</td>\n",
       "    </tr>\n",
       "    <tr>\n",
       "      <th>4</th>\n",
       "      <td>['Boyz II Men']</td>\n",
       "      <td>3</td>\n",
       "      <td>['\"Ill Make Love to You\"']</td>\n",
       "      <td>['/wiki/I%27ll_Make_Love_to_You']</td>\n",
       "      <td>\"Ill Make Love to You\"</td>\n",
       "      <td>['/wiki/Boyz_II_Men']</td>\n",
       "      <td>1994</td>\n",
       "      <td>/wiki/Boyz_II_Men</td>\n",
       "      <td>[False]</td>\n",
       "      <td>https://en.wikipedia.org/wiki/Boyz_II_Men</td>\n",
       "      <td>1985–2017</td>\n",
       "    </tr>\n",
       "  </tbody>\n",
       "</table>\n",
       "</div>"
      ],
      "text/plain": [
       "            artist  rank                                           song                                            songurl                                  titletext                    url  year          merge_url     born                                 browse_url         ya\n",
       "0  ['Boyz II Men']     1                          ['\"End of the Road\"']                          ['/wiki/End_of_the_Road']                          \"End of the Road\"  ['/wiki/Boyz_II_Men']  1992  /wiki/Boyz_II_Men  [False]  https://en.wikipedia.org/wiki/Boyz_II_Men  1985–2017\n",
       "1  ['Boyz II Men']    37  ['\"Its So Hard to Say Goodbye to Yesterday\"']  ['/wiki/It%27s_So_Hard_to_Say_Goodbye_to_Yeste...  \"Its So Hard to Say Goodbye to Yesterday\"  ['/wiki/Boyz_II_Men']  1992  /wiki/Boyz_II_Men  [False]  https://en.wikipedia.org/wiki/Boyz_II_Men  1985–2017\n",
       "2  ['Boyz II Men']    84                                  ['\"Uhh Ahh\"']                                  ['/wiki/Uhh_Ahh']                                  \"Uhh Ahh\"  ['/wiki/Boyz_II_Men']  1992  /wiki/Boyz_II_Men  [False]  https://en.wikipedia.org/wiki/Boyz_II_Men  1985–2017\n",
       "3  ['Boyz II Men']    12                 ['\"In the Still of the Nite\"']  ['/wiki/In_the_Still_of_the_Night_(1956_song)#...                 \"In the Still of the Nite\"  ['/wiki/Boyz_II_Men']  1993  /wiki/Boyz_II_Men  [False]  https://en.wikipedia.org/wiki/Boyz_II_Men  1985–2017\n",
       "4  ['Boyz II Men']     3                     ['\"Ill Make Love to You\"']                  ['/wiki/I%27ll_Make_Love_to_You']                     \"Ill Make Love to You\"  ['/wiki/Boyz_II_Men']  1994  /wiki/Boyz_II_Men  [False]  https://en.wikipedia.org/wiki/Boyz_II_Men  1985–2017"
      ]
     },
     "execution_count": 18,
     "metadata": {},
     "output_type": "execute_result"
    }
   ],
   "source": [
    "artist_df = pd.DataFrame()\n",
    "\n",
    "get_first_url = lambda s: str(s).split(']')[0]\n",
    "get_song_url = lambda s: str(s).split('.org')[1]\n",
    "\n",
    "for i, ls in enumerate(artist_info_ls):\n",
    "    new_df = pd.DataFrame.from_dict(ls)\n",
    "    artist_df = artist_df.append(new_df, ignore_index=True)\n",
    "\n",
    "artist_df['merge_url'] = artist_df.url.astype(str).apply(get_song_url)\n",
    "artist_df.merge_url = artist_df.merge_url.astype(str)\n",
    "artist_df.merge_url = artist_df.merge_url.apply(lambda s: str(s).replace(' ', ''))\n",
    "artist_df.rename(columns={'url':'browse_url'}, inplace=True)\n",
    "\n",
    "df['merge_url'] = df.url.astype(str).apply(get_first_url)\n",
    "df.merge_url = df.merge_url.apply(lambda s: str(s).replace(\"'\",''))\n",
    "df.merge_url = df.merge_url.apply(lambda s: str(s).replace(\"[\",''))\n",
    "df.merge_url = df.merge_url.replace(\" \",'')\n",
    "df.merge_url = df.merge_url.astype(str)\n",
    "\n",
    "df = df.merge(artist_df, on='merge_url', how='inner')\n",
    "df.head()"
   ]
  },
  {
   "cell_type": "markdown",
   "metadata": {},
   "source": [
    "#### 2.3 What is the age at which singers achieve their top ranking?"
   ]
  },
  {
   "cell_type": "markdown",
   "metadata": {},
   "source": [
    "Plot a histogram of the age at which singers achieve their top ranking. What conclusions can you draw from this distribution of ages?\n",
    "\n",
    "*HINT: You will need to do some manipulation of the `born` column, and find the song for which a band or an artist achieves their top ranking. You will then need to put these rows together into another dataframe or array to make the plot.*"
   ]
  },
  {
   "cell_type": "code",
   "execution_count": 19,
   "metadata": {
    "scrolled": false
   },
   "outputs": [
    {
     "name": "stdout",
     "output_type": "stream",
     "text": [
      "\n",
      "The average age of an artist when they have a top 100 hit is 28.3\n",
      "\n"
     ]
    },
    {
     "name": "stderr",
     "output_type": "stream",
     "text": [
      "/Users/pmw/anaconda/lib/python3.6/site-packages/ipykernel_launcher.py:6: SettingWithCopyWarning: \n",
      "A value is trying to be set on a copy of a slice from a DataFrame.\n",
      "Try using .loc[row_indexer,col_indexer] = value instead\n",
      "\n",
      "See the caveats in the documentation: http://pandas.pydata.org/pandas-docs/stable/indexing.html#indexing-view-versus-copy\n",
      "  \n",
      "/Users/pmw/anaconda/lib/python3.6/site-packages/pandas/core/generic.py:2999: SettingWithCopyWarning: \n",
      "A value is trying to be set on a copy of a slice from a DataFrame.\n",
      "Try using .loc[row_indexer,col_indexer] = value instead\n",
      "\n",
      "See the caveats in the documentation: http://pandas.pydata.org/pandas-docs/stable/indexing.html#indexing-view-versus-copy\n",
      "  self[name] = value\n",
      "/Users/pmw/anaconda/lib/python3.6/site-packages/ipykernel_launcher.py:8: SettingWithCopyWarning: \n",
      "A value is trying to be set on a copy of a slice from a DataFrame.\n",
      "Try using .loc[row_indexer,col_indexer] = value instead\n",
      "\n",
      "See the caveats in the documentation: http://pandas.pydata.org/pandas-docs/stable/indexing.html#indexing-view-versus-copy\n",
      "  \n"
     ]
    },
    {
     "data": {
      "text/html": [
       "<div>\n",
       "<style>\n",
       "    .dataframe thead tr:only-child th {\n",
       "        text-align: right;\n",
       "    }\n",
       "\n",
       "    .dataframe thead th {\n",
       "        text-align: left;\n",
       "    }\n",
       "\n",
       "    .dataframe tbody tr th {\n",
       "        vertical-align: top;\n",
       "    }\n",
       "</style>\n",
       "<table border=\"1\" class=\"dataframe\">\n",
       "  <thead>\n",
       "    <tr style=\"text-align: right;\">\n",
       "      <th></th>\n",
       "      <th>artist</th>\n",
       "      <th>rank</th>\n",
       "      <th>top_single</th>\n",
       "      <th>age_top_single</th>\n",
       "      <th>top_rank</th>\n",
       "      <th>top_single_year</th>\n",
       "    </tr>\n",
       "  </thead>\n",
       "  <tbody>\n",
       "    <tr>\n",
       "      <th>0</th>\n",
       "      <td>['\"DAngelo\"']</td>\n",
       "      <td>86</td>\n",
       "      <td>['\"Brown Sugar\"']</td>\n",
       "      <td>21</td>\n",
       "      <td>86</td>\n",
       "      <td>1995</td>\n",
       "    </tr>\n",
       "    <tr>\n",
       "      <th>1</th>\n",
       "      <td>['\"DAngelo\"']</td>\n",
       "      <td>86</td>\n",
       "      <td>['\"Lady\"']</td>\n",
       "      <td>22</td>\n",
       "      <td>70</td>\n",
       "      <td>1996</td>\n",
       "    </tr>\n",
       "    <tr>\n",
       "      <th>2</th>\n",
       "      <td>['\"Desree\"']</td>\n",
       "      <td>20</td>\n",
       "      <td>['\"You Gotta Be\"']</td>\n",
       "      <td>27</td>\n",
       "      <td>20</td>\n",
       "      <td>1995</td>\n",
       "    </tr>\n",
       "  </tbody>\n",
       "</table>\n",
       "</div>"
      ],
      "text/plain": [
       "          artist  rank          top_single  age_top_single  top_rank  top_single_year\n",
       "0  ['\"DAngelo\"']    86   ['\"Brown Sugar\"']              21        86             1995\n",
       "1  ['\"DAngelo\"']    86          ['\"Lady\"']              22        70             1996\n",
       "2   ['\"Desree\"']    20  ['\"You Gotta Be\"']              27        20             1995"
      ]
     },
     "execution_count": 19,
     "metadata": {},
     "output_type": "execute_result"
    },
    {
     "data": {
      "image/png": "[encoded data removed]",
      "text/plain": [
       "<matplotlib.figure.Figure at 0x117a3f6d8>"
      ]
     },
     "metadata": {},
     "output_type": "display_data"
    }
   ],
   "source": [
    "def add_artist_features(df):\n",
    "    df.born = df.born.astype(str).apply(lambda s: str(s).replace(\"[\", ''))\n",
    "    df.born = df.born.astype(str).apply(lambda s: str(s).replace(\"]\", ''))\n",
    "    df.born = df.born.astype(str).apply(lambda s: str(s).replace(\"'\", ''))\n",
    "    df = df[df.born != 'False']\n",
    "    df['year_born'] = df.born.astype(str).apply(lambda s: s[:4])\n",
    "    df.year_born = df.year_born.astype(int)\n",
    "    df['age_at_song'] = df.year - df.year_born\n",
    "    return df\n",
    "\n",
    "df_enrich = add_artist_features(df)\n",
    "\n",
    "def extract_top_hits(df_enrich):\n",
    "    df_enrich = df_enrich[['artist','song','age_at_song','rank','year']].drop_duplicates()\n",
    "    df = pd.DataFrame(df_enrich.groupby('artist')[['rank']].max()).reset_index(drop=False)\n",
    "    df = df.merge(df_enrich, on='artist', how='inner')\n",
    "    colnames = {'song':'top_single', 'age_at_song':'age_top_single', 'rank_x':'rank',\\\n",
    "                'rank_y':'top_rank', 'year':'top_single_year'}\n",
    "    df.rename(columns=colnames, inplace=True)\n",
    "    return df\n",
    "\n",
    "df_artist_top_hits = extract_top_hits(df_enrich)\n",
    "avg_age_at_hit = df_artist_top_hits.age_top_single.mean()\n",
    "\n",
    "print('''\n",
    "The average age of an artist when they have a top 100 hit is %.1f\n",
    "''' %avg_age_at_hit)\n",
    "\n",
    "with sns.plotting_context('poster'):\n",
    "    sns.axes_style('whitegrid');\n",
    "    ax = plt.gca();\n",
    "    plt.axvline(avg_age_at_hit, 0, .75, color='y', label='Avg Age');\n",
    "    df_artist_top_hits.age_top_single.hist(bins=20, alpha=0.5);\n",
    "    plt.grid(axis='x', color='w', linestyle='-');\n",
    "    ax.tick_params(axis='both', which='both', length=0);\n",
    "    sns.despine(left=True, bottom=True);\n",
    "    plt.title('Histogram of Artist Ages at Billboard Hit Occurrence');\n",
    "    plt.ylabel('Frequency');\n",
    "    plt.xlabel('Ages as of Hit');\n",
    "    plt.legend()\n",
    "\n",
    "df_artist_top_hits.head(3)"
   ]
  },
  {
   "cell_type": "markdown",
   "metadata": {},
   "source": [
    "It appears that artists in this sample set reach their maximum score at around 28 years old. The distribution appears to approximate a normal distribution with a slight right-skew. This is a potential indicator that some artists are able to continue beating their \"best\" ranks as they get older, while others seem to hit their max rank in their early twenties and never top it."
   ]
  },
  {
   "cell_type": "markdown",
   "metadata": {},
   "source": [
    "#### 2.4 At what year since inception do bands reach their top rankings?"
   ]
  },
  {
   "cell_type": "markdown",
   "metadata": {},
   "source": [
    "Make a similar calculation to plot a histogram of the years since inception at which bands reach their top ranking. What conclusions can you draw?"
   ]
  },
  {
   "cell_type": "code",
   "execution_count": 20,
   "metadata": {},
   "outputs": [
    {
     "name": "stderr",
     "output_type": "stream",
     "text": [
      "/Users/pmw/anaconda/lib/python3.6/site-packages/ipykernel_launcher.py:3: SettingWithCopyWarning: \n",
      "A value is trying to be set on a copy of a slice from a DataFrame.\n",
      "Try using .loc[row_indexer,col_indexer] = value instead\n",
      "\n",
      "See the caveats in the documentation: http://pandas.pydata.org/pandas-docs/stable/indexing.html#indexing-view-versus-copy\n",
      "  This is separate from the ipykernel package so we can avoid doing imports until\n",
      "/Users/pmw/anaconda/lib/python3.6/site-packages/ipykernel_launcher.py:4: SettingWithCopyWarning: \n",
      "A value is trying to be set on a copy of a slice from a DataFrame.\n",
      "Try using .loc[row_indexer,col_indexer] = value instead\n",
      "\n",
      "See the caveats in the documentation: http://pandas.pydata.org/pandas-docs/stable/indexing.html#indexing-view-versus-copy\n",
      "  after removing the cwd from sys.path.\n",
      "/Users/pmw/anaconda/lib/python3.6/site-packages/ipykernel_launcher.py:5: SettingWithCopyWarning: \n",
      "A value is trying to be set on a copy of a slice from a DataFrame.\n",
      "Try using .loc[row_indexer,col_indexer] = value instead\n",
      "\n",
      "See the caveats in the documentation: http://pandas.pydata.org/pandas-docs/stable/indexing.html#indexing-view-versus-copy\n",
      "  \"\"\"\n",
      "/Users/pmw/anaconda/lib/python3.6/site-packages/ipykernel_launcher.py:6: SettingWithCopyWarning: \n",
      "A value is trying to be set on a copy of a slice from a DataFrame.\n",
      "Try using .loc[row_indexer,col_indexer] = value instead\n",
      "\n",
      "See the caveats in the documentation: http://pandas.pydata.org/pandas-docs/stable/indexing.html#indexing-view-versus-copy\n",
      "  \n",
      "/Users/pmw/anaconda/lib/python3.6/site-packages/ipykernel_launcher.py:7: SettingWithCopyWarning: \n",
      "A value is trying to be set on a copy of a slice from a DataFrame.\n",
      "Try using .loc[row_indexer,col_indexer] = value instead\n",
      "\n",
      "See the caveats in the documentation: http://pandas.pydata.org/pandas-docs/stable/indexing.html#indexing-view-versus-copy\n",
      "  import sys\n"
     ]
    }
   ],
   "source": [
    "def add_artist_longevity_features(df):\n",
    "    active_yrs = [str(yr).split('–') for yr in df.ya]\n",
    "    df['debut'] = [yr[0] for yr in active_yrs]\n",
    "    df['hiatus'] = [yr[1] for yr in active_yrs]\n",
    "    df['reunion'] = [yr[2] if len(yr)>2 else 0 for yr in active_yrs]\n",
    "    df['retire'] = [yr[3] if len(yr)>3 else 0 for yr in active_yrs]\n",
    "    df['career_duration'] = np.subtract(df.hiatus.astype(int), df.debut.astype(int)) \\\n",
    "        + np.subtract(df.retire.astype(int), df.reunion.astype(int))\n",
    "    return df\n",
    "\n",
    "df_enrich = add_artist_longevity_features(df_enrich)"
   ]
  },
  {
   "cell_type": "code",
   "execution_count": 21,
   "metadata": {},
   "outputs": [
    {
     "name": "stdout",
     "output_type": "stream",
     "text": [
      "\n",
      "The average no. of years from debut until artist has their top hit on the top 100 list is 8.0\n",
      "\n"
     ]
    },
    {
     "data": {
      "image/png": "[encoded data removed]",
      "text/plain": [
       "<matplotlib.figure.Figure at 0x118e07b38>"
      ]
     },
     "metadata": {},
     "output_type": "display_data"
    }
   ],
   "source": [
    "df_enrich = df_enrich.merge(df_artist_top_hits, left_on=['artist','rank','year'], \\\n",
    "                            right_on=['artist','rank','top_single_year'], how='inner')\n",
    "\n",
    "df_enrich['debut'] = [a if a<b else b for a,b in zip(df_enrich.debut.astype(int), df_enrich.top_single_year.astype(int))]\n",
    "df_enrich['yrs_inception'] = np.subtract(df_enrich.top_single_year.astype(int), df_enrich.debut.astype(int))\n",
    "avg_yrs_inception = df_enrich.yrs_inception.mean()\n",
    "\n",
    "print('''\n",
    "The average no. of years from debut until artist has their top hit on the top 100 list is %.1f\n",
    "''' %avg_yrs_inception)\n",
    "\n",
    "with sns.plotting_context('poster'):\n",
    "    sns.axes_style('whitegrid');\n",
    "    ax = plt.gca();\n",
    "    plt.axvline(avg_yrs_inception, 0, .75, color='r', label='Avg Years Since Debut to Peak');\n",
    "    df_enrich.yrs_inception.hist(bins=20, alpha=0.5);\n",
    "    plt.grid(axis='x', color='w', linestyle='-');\n",
    "    ax.tick_params(axis='both', which='both', length=0);\n",
    "    sns.despine(left=True, bottom=True);\n",
    "    plt.title('Histogram of Debut til Artist\\'s Top Single on Billboard');\n",
    "    plt.ylabel('Frequency');\n",
    "    plt.xlabel('Years from Inception til Top Single');\n",
    "    plt.legend()"
   ]
  },
  {
   "cell_type": "markdown",
   "metadata": {},
   "source": [
    "It appears that the vast majority of artists have a meteoric rise to stardom, making it to their lifetime highest ranking on the list within their first year on the scene. It is interesting to note that a considerable number of artists achieved their personal best rank at or after ten years since their debut. Furthere investigation is warranted to look into any themes that may exist between these two groups (one-hit-wonders vs. slow-but-steadies)."
   ]
  }
 ],
 "metadata": {
  "anaconda-cloud": {},
  "kernelspec": {
   "display_name": "Python 3",
   "language": "python",
   "name": "python3"
  },
  "language_info": {
   "codemirror_mode": {
    "name": "ipython",
    "version": 3
   },
   "file_extension": ".py",
   "mimetype": "text/x-python",
   "name": "python",
   "nbconvert_exporter": "python",
   "pygments_lexer": "ipython3",
   "version": "3.6.1"
  }
 },
 "nbformat": 4,
 "nbformat_minor": 1
}
