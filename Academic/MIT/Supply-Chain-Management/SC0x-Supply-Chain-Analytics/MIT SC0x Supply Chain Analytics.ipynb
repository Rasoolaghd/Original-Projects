{
 "cells": [
  {
   "cell_type": "code",
   "execution_count": 1,
   "metadata": {
    "collapsed": true
   },
   "outputs": [],
   "source": [
    "# MIT Supply Chain Analytics \n",
    "# SC0x - Course 1"
   ]
  },
  {
   "cell_type": "code",
   "execution_count": 8,
   "metadata": {
    "collapsed": false
   },
   "outputs": [
    {
     "data": {
      "text/plain": [
       "457.0"
      ]
     },
     "execution_count": 8,
     "metadata": {},
     "output_type": "execute_result"
    }
   ],
   "source": [
    "# Linear Algebra\n",
    "\n",
    "def f(x):\n",
    "    b = 37\n",
    "    a = 6.0\n",
    "    y = a*x + b\n",
    "    return y\n",
    "\n",
    "f(70)"
   ]
  },
  {
   "cell_type": "code",
   "execution_count": 9,
   "metadata": {
    "collapsed": false
   },
   "outputs": [
    {
     "data": {
      "text/plain": [
       "-27.166666666666668"
      ]
     },
     "execution_count": 9,
     "metadata": {},
     "output_type": "execute_result"
    }
   ],
   "source": [
    "def g(y):\n",
    "    b = 37\n",
    "    a = 6.0\n",
    "    x = (y - b) / a\n",
    "    return x\n",
    "\n",
    "g(-126)"
   ]
  },
  {
   "cell_type": "code",
   "execution_count": 12,
   "metadata": {
    "collapsed": false
   },
   "outputs": [],
   "source": [
    "# You are a Didgeridoo Supplier\n",
    "# Variable cost $50\n",
    "# Setup cost $10 - one-time cost\n",
    "# Create a cost equation\n",
    "\n",
    "def didg_cost_fn(quantity):\n",
    "    setup = 10.0\n",
    "    variable_cost = 50.0\n",
    "    cost_to_produce = setup + variable_cost * quantity\n",
    "    return cost_to_produce"
   ]
  },
  {
   "cell_type": "code",
   "execution_count": 11,
   "metadata": {
    "collapsed": false
   },
   "outputs": [
    {
     "data": {
      "text/plain": [
       "210.0"
      ]
     },
     "execution_count": 11,
     "metadata": {},
     "output_type": "execute_result"
    }
   ],
   "source": [
    "# Cost to produce 4 didgeridoos\n",
    "didg_cost_fn(quantity=4)"
   ]
  },
  {
   "cell_type": "code",
   "execution_count": 13,
   "metadata": {
    "collapsed": true
   },
   "outputs": [],
   "source": [
    "# Competitor also makes traditional didges \n",
    "# Variable cost $14\n",
    "# Setup cost $120\n",
    "# Create cost function for competition\n",
    "\n",
    "def didg_competitor_cost_fn(quantity):\n",
    "    setup = 120\n",
    "    variable_cost = 14\n",
    "    competition_cost_to_produce = setup + variable_cost * quantity\n",
    "    return competition_cost_to_produce"
   ]
  },
  {
   "cell_type": "code",
   "execution_count": 14,
   "metadata": {
    "collapsed": false
   },
   "outputs": [
    {
     "data": {
      "text/plain": [
       "176"
      ]
     },
     "execution_count": 14,
     "metadata": {},
     "output_type": "execute_result"
    }
   ],
   "source": [
    "# For competition to produce 4 didges\n",
    "didg_competitor_cost_fn(quantity=4)"
   ]
  },
  {
   "cell_type": "code",
   "execution_count": 37,
   "metadata": {
    "collapsed": false
   },
   "outputs": [
    {
     "data": {
      "text/plain": [
       "<matplotlib.axes._subplots.AxesSubplot at 0x1757835fb70>"
      ]
     },
     "execution_count": 37,
     "metadata": {},
     "output_type": "execute_result"
    },
    {
     "data": {
      "image/png": "[encoded data removed]",
      "text/plain": [
       "<matplotlib.figure.Figure at 0x17579371240>"
      ]
     },
     "metadata": {},
     "output_type": "display_data"
    }
   ],
   "source": [
    "# Solve the system of equations \n",
    "# At what number of didgeridoos would it cost the competitor\n",
    "# as much as it would cost us to make a didgeridoo?\n",
    "import numpy as np\n",
    "import pandas as pd\n",
    "\n",
    "qty_counter = np.arange(1,5)\n",
    "cost_matrix = {}\n",
    "\n",
    "for i, qty in enumerate(qty_counter):\n",
    "    my_cost = didg_cost_fn(qty)\n",
    "    their_cost = didg_competitor_cost_fn(qty)     \n",
    "    cost_matrix[qty] = [my_cost, their_cost]\n",
    "   \n",
    "col_names = {0:'MyCost',1:'TheirCost'}\n",
    "cost_matrix = pd.DataFrame.from_dict(cost_matrix, orient='index')\n",
    "cost_matrix.rename(columns=col_names, inplace=True)\n",
    "\n",
    "%matplotlib inline\n",
    "cost_matrix.plot(kind='line')"
   ]
  },
  {
   "cell_type": "code",
   "execution_count": 38,
   "metadata": {
    "collapsed": true
   },
   "outputs": [],
   "source": [
    "# Quadratic or Polynomial of degree 2 (parabolic)\n",
    "    # where a, b, c are numbers and a is not equal to 0\n",
    "    # y = ax^2 + bx + c\n",
    "    # a > 0 is convex (or a \"U\" shape)\n",
    "    # a < 0 the function is concave, or like an upside down \"U\" shape\n",
    "\n",
    "# The roots of a quadratic are values of x when y=0\n",
    "    # There can be 2, 1, or 0 roots\n",
    "    \n",
    "# There are two methods for finding roots\n",
    "    # First: factoring: Find r1 and r2 such that f(x)=a(x-r1)(x-r2)\n",
    "    # Second: Quadratic equation"
   ]
  },
  {
   "cell_type": "code",
   "execution_count": 100,
   "metadata": {
    "collapsed": false
   },
   "outputs": [
    {
     "name": "stdout",
     "output_type": "stream",
     "text": [
      "\n",
      "Solving using the Quadratic Equation\n",
      "-------------------------------------\n",
      "\n",
      "Using an x value of -0.486 \n",
      "will produce a y value of -0.00.\n",
      "\n",
      "Using an x value of -2.264 \n",
      "will produce a y value of 0.00.\n",
      "\n",
      "The following (a,b,c) inputs:\n",
      "    a = 20\n",
      "    b = 55\n",
      "    c = 22\n",
      "\n",
      "Produce quadratic roots of:\n",
      "    r1 = -0.49\n",
      "    r2 = -2.26\n",
      "    \n",
      "\n"
     ]
    }
   ],
   "source": [
    "# Find the roots of Quadratic Functions\n",
    "import math\n",
    "\n",
    "a = 20\n",
    "b = 55\n",
    "c = 22\n",
    "\n",
    "def f(x, a, b, c):\n",
    "    return a*x**2 + b*x + c\n",
    "\n",
    "def quadratic(a, b, c):\n",
    "    r1 = (-b + math.sqrt(b**2 - 4*a*c)) / (2*a)\n",
    "    r2 = (-b - math.sqrt(b**2 - 4*a*c)) / (2*a)\n",
    "    return r1, r2\n",
    "\n",
    "r1, r2 = quadratic(a, b, c)\n",
    "\n",
    "should_be_zero_test_1 = f(r1, a, b, c)\n",
    "should_be_zero_test_2 = f(r2, a, b, c)\n",
    "\n",
    "print('''\n",
    "Solving using the Quadratic Equation\n",
    "-------------------------------------\n",
    "\n",
    "Using an x value of %.3f \n",
    "will produce a y value of %.2f.\n",
    "\n",
    "Using an x value of %.3f \n",
    "will produce a y value of %.2f.\n",
    "\n",
    "The following (a,b,c) inputs:\n",
    "    a = %i\n",
    "    b = %i\n",
    "    c = %i\n",
    "\n",
    "Produce quadratic roots of:\n",
    "    r1 = %.2f\n",
    "    r2 = %.2f\n",
    "    \n",
    "''' % (r1, should_be_zero_test_1, r2, should_be_zero_test_2, a, b, c, r1, r2) )"
   ]
  },
  {
   "cell_type": "code",
   "execution_count": 106,
   "metadata": {
    "collapsed": false
   },
   "outputs": [
    {
     "data": {
      "text/plain": [
       "(1.0, 13.0, 169.0)"
      ]
     },
     "execution_count": 106,
     "metadata": {},
     "output_type": "execute_result"
    }
   ],
   "source": [
    "# A Rectangle Exhibiting the Golden Ratio\n",
    "\n",
    "# The golden ratio is important in architecture and design\n",
    "# because it is the foundation for the most aesthetically\n",
    "# pleasing rectangles and linear proportions.\n",
    "\n",
    "# The golden ratio is a ratio of the length to width of a rectangle\n",
    "# such that L/w = w / (L-w)\n",
    "# where L is length, w is width.\n",
    "\n",
    "# The equation above can be solved as a quadratic equation.\n",
    "# Try to calculate the length of the rectangle with golden ratio\n",
    "# proportions and a width of 13 cm. Answers to 1 decimal place.\n",
    "\n",
    "# Explanation\n",
    "# To solve this manually you need to find the positive root for the:\n",
    "# f(x) = L**2 = 13*L - 13**2\n",
    "# The positive root for the above duadratic polynomial is given by\n",
    "# the quadratic equation formula for the A,B,C shown\n",
    "\n",
    "# Wolfram Alpha\n",
    "# solve L/w=w/(L-w) if w=13\n",
    "\n",
    "width = 13\n",
    "\n",
    "def quadratic_coefficients_golden_rectangle(w):\n",
    "    '''\n",
    "    Takes width returns a,b,c for quadratic equation\n",
    "    to ultimately return length of the rectangle given width\n",
    "    '''\n",
    "    a = np.float64(1.0)\n",
    "    b = np.float64(w)\n",
    "    c = np.float64(w**2)\n",
    "    \n",
    "    return a,b,c\n",
    "\n",
    "a, b, c = quadratic_coefficients_golden_rectangle(w=width)\n",
    "#root1, root2 = quadratic(a,b,c)\n",
    "\n",
    "a,b,c\n",
    "# 13*1.618\n",
    "# quadratic(a,b,c)"
   ]
  },
  {
   "cell_type": "code",
   "execution_count": 110,
   "metadata": {
    "collapsed": false
   },
   "outputs": [
    {
     "name": "stdout",
     "output_type": "stream",
     "text": [
      "Prices below 125.00 and prices above 200.00 will result in negative profits.\n"
     ]
    }
   ],
   "source": [
    "# iWidget Manufacturing\n",
    "    # What price to set?\n",
    "    # We have cost function cost = f(q) = 500000 + 75q\n",
    "    # We have demand function unit sales = f(price) = 20000 - 80p\n",
    "    # So we want to derive profitability\n",
    "    # Revenue = (20000 - 20p)*p = 20000p - 80p**2\n",
    "    # Costs = 500000 + 75(20000 - 80p) = 20000 - 6000p\n",
    "    # Profit = Revenue - Costs\n",
    "    # Profit = 20000p - 80p**2 - (20000000 - 6000p)\n",
    "    # Profit = -80p**2 + 26000p - 2000000\n",
    "    \n",
    "# Use Quadratic Equation to find roots\n",
    "r1, r2 = quadratic(a=-80, b=26000, c=-2000000)\n",
    "\n",
    "print('Prices below %.2f and prices above %.2f will result in negative profits.' %(r1, r2))"
   ]
  },
  {
   "cell_type": "code",
   "execution_count": 130,
   "metadata": {
    "collapsed": false
   },
   "outputs": [
    {
     "name": "stdout",
     "output_type": "stream",
     "text": [
      "\n",
      "\n",
      "We want to maximize profit subject to the equations below.\n",
      "\n",
      "\n"
     ]
    },
    {
     "data": {
      "text/plain": [
       "array([[<matplotlib.axes._subplots.AxesSubplot object at 0x000001757C47BA90>,\n",
       "        <matplotlib.axes._subplots.AxesSubplot object at 0x000001757C4C8AC8>],\n",
       "       [<matplotlib.axes._subplots.AxesSubplot object at 0x000001757C5172B0>,\n",
       "        <matplotlib.axes._subplots.AxesSubplot object at 0x000001757C54CF98>]], dtype=object)"
      ]
     },
     "execution_count": 130,
     "metadata": {},
     "output_type": "execute_result"
    },
    {
     "data": {
      "image/png": "[encoded data removed]",
      "text/plain": [
       "<matplotlib.figure.Figure at 0x1757c369ac8>"
      ]
     },
     "metadata": {},
     "output_type": "display_data"
    }
   ],
   "source": [
    "# Find point where we maximize profit\n",
    "def revenue_function(p):\n",
    "    revenue = 20000*p - 80*p**2\n",
    "    return revenue\n",
    "\n",
    "def cost_function(p):\n",
    "    cost = 20000 - 6000*p\n",
    "    return cost\n",
    "\n",
    "def profit_function(p):\n",
    "    profit = -80*p**2 + 26000*p - 2000000\n",
    "    return profit\n",
    "\n",
    "price_range = np.arange(95, 230)\n",
    "\n",
    "price_matrix = {}\n",
    "for i, price in enumerate(price_range):\n",
    "    price = np.float64(price)\n",
    "    cost = cost_function(price)\n",
    "    revenue = revenue_function(price)\n",
    "    profit = profit_function(price)\n",
    "    price_matrix[i] = [price, revenue, cost, profit]\n",
    "    \n",
    "col_names = {0:'Price',1:'Revenue',2:'Cost',3:'Profit'}\n",
    "price_matrix = pd.DataFrame.from_dict(price_matrix, orient='index')\n",
    "price_matrix.rename(columns=col_names, inplace=True)\n",
    "\n",
    "print('\\n\\nWe want to maximize profit subject to the equations below.\\n\\n')\n",
    "price_matrix.plot(kind='line', subplots=True, figsize=[10,7], layout=(2,2))"
   ]
  },
  {
   "cell_type": "code",
   "execution_count": 126,
   "metadata": {
    "collapsed": false
   },
   "outputs": [],
   "source": [
    "# Remember that a graph with\n",
    "    # y = 8x**2 -2\n",
    "    # will be a U-shaped plot with \n",
    "    # a a y-intercept of -2\n",
    "\n",
    "# Also, the equation\n",
    "    # y = x*82 - 7x\n",
    "    # will intercept at the origin at its lower root"
   ]
  },
  {
   "cell_type": "code",
   "execution_count": 155,
   "metadata": {
    "collapsed": false
   },
   "outputs": [
    {
     "name": "stdout",
     "output_type": "stream",
     "text": [
      "\n",
      "Functional form:\n",
      "y = ax**b\n",
      "\n",
      "a = 6.78\n",
      "b = 4.49\n",
      "\n",
      "b values between 0 and 1 have a blunted growth rate\n",
      "\n"
     ]
    },
    {
     "data": {
      "image/png": "[encoded data removed]",
      "text/plain": [
       "<matplotlib.figure.Figure at 0x1757d84c588>"
      ]
     },
     "metadata": {},
     "output_type": "display_data"
    }
   ],
   "source": [
    "# Power function\n",
    "    # y = f(x) = ax**b\n",
    "    # Shape of the curve is dictated by value of b\n",
    "    # if b = 1 this is a linear function without an intercept\n",
    "    # if b > 1 the fn will increase exponentially\n",
    "    # if 0 < b < 1 the fn tapers away from linear\n",
    "    # if b < 0 then the function will decrease asymptotically to zero\n",
    "import random\n",
    "    \n",
    "def power_function(a, b, x):\n",
    "    y = a*x**b\n",
    "    return y\n",
    "\n",
    "a, b = random.random()*random.randint(1, 10), random.random()*random.randint(1, 10)\n",
    "    \n",
    "x_range = np.arange(0, 100)\n",
    "results = pd.DataFrame()\n",
    "for i, x in enumerate(x_range):\n",
    "    y = power_function(a, b, x)\n",
    "    results[i] = [x, y]\n",
    "    \n",
    "results = results.T\n",
    "results.rename(columns={0:'X',1:'Y'}, inplace=True)\n",
    "results.plot(x='X', y='Y', kind='line')\n",
    "\n",
    "print('''\n",
    "Functional form:\n",
    "y = ax**b\n",
    "\n",
    "a = %.2f\n",
    "b = %.2f\n",
    "\n",
    "b values between 0 and 1 have a blunted growth rate\n",
    "''' % (a, b))"
   ]
  },
  {
   "cell_type": "code",
   "execution_count": 162,
   "metadata": {
    "collapsed": false
   },
   "outputs": [
    {
     "name": "stdout",
     "output_type": "stream",
     "text": [
      "\n",
      "Functional form:\n",
      "y = ab**x\n",
      "\n",
      "a = 0.24\n",
      "b = 0.21\n",
      "\n"
     ]
    },
    {
     "data": {
      "image/png": "[encoded data removed]",
      "text/plain": [
       "<matplotlib.figure.Figure at 0x1757daf06a0>"
      ]
     },
     "metadata": {},
     "output_type": "display_data"
    }
   ],
   "source": [
    "# Exponential function\n",
    "    # Y = ab**x\n",
    "    # Increases at an increasing rate if y = 2**x\n",
    "    # Exponential growtn in physics, bio, finance, CS, etc.\n",
    "    # Example is comopund interest Future = Pincipal (1 + Rate)**n_Periods\n",
    "    # y = e**x Euler's number\n",
    "    # e is a constant, 2.71828\n",
    "    # Find it by looking back at interest example -- suppose 100% growth (double each period)\n",
    "    # As increase number of periods, limit becomes 2.718\n",
    "    \n",
    "def exponential_function(a, b, x):\n",
    "    y = a*b**x\n",
    "    return y\n",
    "\n",
    "a, b = random.random()*random.randint(1, 10), random.random()*random.randint(1, 10)\n",
    "    \n",
    "x_range = np.arange(0, 10)\n",
    "results = pd.DataFrame()\n",
    "for i, x in enumerate(x_range):\n",
    "    y = exponential_function(a, b, x)\n",
    "    results[i] = [x, y]\n",
    "    \n",
    "results = results.T\n",
    "results.rename(columns={0:'X',1:'Y'}, inplace=True)\n",
    "results.plot(x='X', y='Y', kind='line')\n",
    "\n",
    "print('''\n",
    "Functional form:\n",
    "y = ab**x\n",
    "\n",
    "a = %.2f\n",
    "b = %.2f\n",
    "''' % (a, b))"
   ]
  },
  {
   "cell_type": "code",
   "execution_count": null,
   "metadata": {
    "collapsed": false
   },
   "outputs": [],
   "source": []
  },
  {
   "cell_type": "code",
   "execution_count": null,
   "metadata": {
    "collapsed": true
   },
   "outputs": [],
   "source": []
  }
 ],
 "metadata": {
  "kernelspec": {
   "display_name": "Python [Root]",
   "language": "python",
   "name": "Python [Root]"
  },
  "language_info": {
   "codemirror_mode": {
    "name": "ipython",
    "version": 3
   },
   "file_extension": ".py",
   "mimetype": "text/x-python",
   "name": "python",
   "nbconvert_exporter": "python",
   "pygments_lexer": "ipython3",
   "version": "3.5.2"
  }
 },
 "nbformat": 4,
 "nbformat_minor": 0
}
